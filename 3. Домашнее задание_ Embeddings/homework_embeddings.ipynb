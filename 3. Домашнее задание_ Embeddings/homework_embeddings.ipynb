{
 "cells": [
  {
   "cell_type": "markdown",
   "metadata": {
    "id": "eYtJxkhKpYK2"
   },
   "source": [
    "# Embeddings\n",
    "\n",
    "Привет! Сегодня ты поработаешь с эмбеддингами: сделаешь классификатор эмоции твитов. Для начала, загрузи их:"
   ]
  },
  {
   "cell_type": "code",
   "execution_count": 1,
   "metadata": {
    "id": "wXjhtsfF_gBK"
   },
   "outputs": [],
   "source": [
    "#!gdown https://drive.google.com/uc?id=1eE1FiUkXkcbw0McId4i7qY-L8hH-_Qph&export=download\n",
    "#!unzip archive.zip"
   ]
  },
  {
   "cell_type": "markdown",
   "metadata": {
    "id": "Sh6wW-K53Mle"
   },
   "source": [
    "Заимпортируй библиотеки и сделай работу скриптов вопсроизводимой."
   ]
  },
  {
   "cell_type": "code",
   "execution_count": 2,
   "metadata": {},
   "outputs": [],
   "source": [
    "# conda install gensim=3.4.0 smart_open=1.9.0"
   ]
  },
  {
   "cell_type": "code",
   "execution_count": 3,
   "metadata": {
    "id": "A2Y5CHRm6NFe"
   },
   "outputs": [],
   "source": [
    "import math\n",
    "import random\n",
    "import string\n",
    "\n",
    "import numpy as np\n",
    "import pandas as pd\n",
    "import seaborn as sns\n",
    "\n",
    "import torch\n",
    "import nltk\n",
    "import gensim\n",
    "import gensim.downloader as api"
   ]
  },
  {
   "cell_type": "code",
   "execution_count": 4,
   "metadata": {
    "id": "73Lb0wbESrgQ"
   },
   "outputs": [],
   "source": [
    "random.seed(42)\n",
    "np.random.seed(42)\n",
    "torch.random.manual_seed(42)\n",
    "torch.cuda.random.manual_seed(42)\n",
    "torch.cuda.random.manual_seed_all(42)\n",
    "\n",
    "device = \"cuda\" if torch.cuda.is_available() else \"cpu\""
   ]
  },
  {
   "cell_type": "code",
   "execution_count": 5,
   "metadata": {
    "id": "L_Wv-4bu83Fl"
   },
   "outputs": [],
   "source": [
    "data = pd.read_csv(\"training.1600000.processed.noemoticon.csv\", encoding=\"latin\", header=None, names=[\"emotion\", \"id\", \"date\", \"flag\", \"user\", \"text\"])"
   ]
  },
  {
   "cell_type": "markdown",
   "metadata": {
    "id": "RY1pvYDS3Yuj"
   },
   "source": [
    "Посмотрим на данные"
   ]
  },
  {
   "cell_type": "code",
   "execution_count": 6,
   "metadata": {
    "id": "jST2tjgjCTWD"
   },
   "outputs": [
    {
     "data": {
      "text/html": [
       "<div>\n",
       "<style scoped>\n",
       "    .dataframe tbody tr th:only-of-type {\n",
       "        vertical-align: middle;\n",
       "    }\n",
       "\n",
       "    .dataframe tbody tr th {\n",
       "        vertical-align: top;\n",
       "    }\n",
       "\n",
       "    .dataframe thead th {\n",
       "        text-align: right;\n",
       "    }\n",
       "</style>\n",
       "<table border=\"1\" class=\"dataframe\">\n",
       "  <thead>\n",
       "    <tr style=\"text-align: right;\">\n",
       "      <th></th>\n",
       "      <th>emotion</th>\n",
       "      <th>id</th>\n",
       "      <th>date</th>\n",
       "      <th>flag</th>\n",
       "      <th>user</th>\n",
       "      <th>text</th>\n",
       "    </tr>\n",
       "  </thead>\n",
       "  <tbody>\n",
       "    <tr>\n",
       "      <th>0</th>\n",
       "      <td>0</td>\n",
       "      <td>1467810369</td>\n",
       "      <td>Mon Apr 06 22:19:45 PDT 2009</td>\n",
       "      <td>NO_QUERY</td>\n",
       "      <td>_TheSpecialOne_</td>\n",
       "      <td>@switchfoot http://twitpic.com/2y1zl - Awww, t...</td>\n",
       "    </tr>\n",
       "    <tr>\n",
       "      <th>1</th>\n",
       "      <td>0</td>\n",
       "      <td>1467810672</td>\n",
       "      <td>Mon Apr 06 22:19:49 PDT 2009</td>\n",
       "      <td>NO_QUERY</td>\n",
       "      <td>scotthamilton</td>\n",
       "      <td>is upset that he can't update his Facebook by ...</td>\n",
       "    </tr>\n",
       "    <tr>\n",
       "      <th>2</th>\n",
       "      <td>0</td>\n",
       "      <td>1467810917</td>\n",
       "      <td>Mon Apr 06 22:19:53 PDT 2009</td>\n",
       "      <td>NO_QUERY</td>\n",
       "      <td>mattycus</td>\n",
       "      <td>@Kenichan I dived many times for the ball. Man...</td>\n",
       "    </tr>\n",
       "    <tr>\n",
       "      <th>3</th>\n",
       "      <td>0</td>\n",
       "      <td>1467811184</td>\n",
       "      <td>Mon Apr 06 22:19:57 PDT 2009</td>\n",
       "      <td>NO_QUERY</td>\n",
       "      <td>ElleCTF</td>\n",
       "      <td>my whole body feels itchy and like its on fire</td>\n",
       "    </tr>\n",
       "    <tr>\n",
       "      <th>4</th>\n",
       "      <td>0</td>\n",
       "      <td>1467811193</td>\n",
       "      <td>Mon Apr 06 22:19:57 PDT 2009</td>\n",
       "      <td>NO_QUERY</td>\n",
       "      <td>Karoli</td>\n",
       "      <td>@nationwideclass no, it's not behaving at all....</td>\n",
       "    </tr>\n",
       "  </tbody>\n",
       "</table>\n",
       "</div>"
      ],
      "text/plain": [
       "   emotion          id                          date      flag  \\\n",
       "0        0  1467810369  Mon Apr 06 22:19:45 PDT 2009  NO_QUERY   \n",
       "1        0  1467810672  Mon Apr 06 22:19:49 PDT 2009  NO_QUERY   \n",
       "2        0  1467810917  Mon Apr 06 22:19:53 PDT 2009  NO_QUERY   \n",
       "3        0  1467811184  Mon Apr 06 22:19:57 PDT 2009  NO_QUERY   \n",
       "4        0  1467811193  Mon Apr 06 22:19:57 PDT 2009  NO_QUERY   \n",
       "\n",
       "              user                                               text  \n",
       "0  _TheSpecialOne_  @switchfoot http://twitpic.com/2y1zl - Awww, t...  \n",
       "1    scotthamilton  is upset that he can't update his Facebook by ...  \n",
       "2         mattycus  @Kenichan I dived many times for the ball. Man...  \n",
       "3          ElleCTF    my whole body feels itchy and like its on fire   \n",
       "4           Karoli  @nationwideclass no, it's not behaving at all....  "
      ]
     },
     "execution_count": 6,
     "metadata": {},
     "output_type": "execute_result"
    }
   ],
   "source": [
    "data.head()"
   ]
  },
  {
   "cell_type": "code",
   "execution_count": 7,
   "metadata": {
    "id": "kCBwe0wR83C2"
   },
   "outputs": [
    {
     "name": "stdout",
     "output_type": "stream",
     "text": [
      "@chrishasboobs AHHH I HOPE YOUR OK!!! \n",
      "@misstoriblack cool , i have no tweet apps  for my razr 2\n",
      "@TiannaChaos i know  just family drama. its lame.hey next time u hang out with kim n u guys like have a sleepover or whatever, ill call u\n",
      "School email won't open  and I have geography stuff on there to revise! *Stupid School* :'(\n",
      "upper airways problem \n",
      "Going to miss Pastor's sermon on Faith... \n",
      "on lunch....dj should come eat with me \n",
      "@piginthepoke oh why are you feeling like that? \n",
      "gahh noo!peyton needs to live!this is horrible \n",
      "@mrstessyman thank you glad you like it! There is a product review bit on the site  Enjoy knitting it!\n"
     ]
    }
   ],
   "source": [
    "examples = data[\"text\"].sample(10)\n",
    "print(\"\\n\".join(examples))"
   ]
  },
  {
   "cell_type": "markdown",
   "metadata": {
    "id": "GvcYW8aX3mKt"
   },
   "source": [
    "Текст очень грязные. Надо добавить очистку текста в его предобработку. \n",
    "\n",
    "Чтобы сравнивать различные методы обработки текста/модели/прочее, разделим датасет на dev(для обучения модели) и test(для получения качества модели)."
   ]
  },
  {
   "cell_type": "code",
   "execution_count": 8,
   "metadata": {
    "id": "f8hUK-jnQg6O"
   },
   "outputs": [],
   "source": [
    "indexes = np.arange(data.shape[0])\n",
    "np.random.shuffle(indexes)\n",
    "dev_size = math.ceil(data.shape[0] * 0.8)\n",
    "\n",
    "dev_indexes = indexes[:dev_size]\n",
    "test_indexes = indexes[dev_size:]\n",
    "\n",
    "dev_data = data.iloc[dev_indexes]\n",
    "test_data = data.iloc[test_indexes]\n",
    "\n",
    "dev_data.reset_index(drop=True, inplace=True)\n",
    "test_data.reset_index(drop=True, inplace=True)"
   ]
  },
  {
   "cell_type": "markdown",
   "metadata": {
    "id": "6ivcpeFoCnZA"
   },
   "source": [
    "## Обработка текста"
   ]
  },
  {
   "cell_type": "markdown",
   "metadata": {
    "id": "Df4nca285Dar"
   },
   "source": [
    "Стокенизируем текст, избавим от знаков пунктуации и мелких слов."
   ]
  },
  {
   "cell_type": "code",
   "execution_count": 9,
   "metadata": {
    "id": "nsNHNDES9ZVF"
   },
   "outputs": [
    {
     "name": "stdout",
     "output_type": "stream",
     "text": [
      "@ claire_nelson i ' m on the north devon coast the next few weeks will be down in devon again in may sometime i hope though !\n"
     ]
    }
   ],
   "source": [
    "tokenizer = nltk.WordPunctTokenizer()\n",
    "line = tokenizer.tokenize(dev_data[\"text\"][0].lower())\n",
    "print(\" \".join(line))"
   ]
  },
  {
   "cell_type": "code",
   "execution_count": 10,
   "metadata": {
    "id": "GcBS_u_hTuxp"
   },
   "outputs": [
    {
     "name": "stdout",
     "output_type": "stream",
     "text": [
      "north devon coast next weeks will down devon again sometime hope though\n"
     ]
    }
   ],
   "source": [
    "filtered_line = [w for w in line if all(c not in string.punctuation for c in w) and len(w) > 3]\n",
    "print(\" \".join(filtered_line))"
   ]
  },
  {
   "cell_type": "markdown",
   "metadata": {
    "id": "cuFmlXkC6E7X"
   },
   "source": [
    "Загрузим предобученную модель эмбеддингов. Если хотите, можно попробовать другую. Полный список можно найти здесь: https://github.com/RaRe-Technologies/gensim-data . "
   ]
  },
  {
   "cell_type": "code",
   "execution_count": 11,
   "metadata": {
    "id": "cACJpje2T5bc"
   },
   "outputs": [
    {
     "name": "stderr",
     "output_type": "stream",
     "text": [
      "/home/arsen/miniconda3/envs/dlenv/lib/python3.7/site-packages/smart_open/smart_open_lib.py:402: UserWarning: This function is deprecated, use smart_open.open instead. See the migration notes for details: https://github.com/RaRe-Technologies/smart_open/blob/master/README.rst#migrating-to-the-new-open-function\n",
      "  'See the migration notes for details: %s' % _MIGRATION_NOTES_URL\n"
     ]
    }
   ],
   "source": [
    "word2vec = api.load(\"word2vec-google-news-300\")"
   ]
  },
  {
   "cell_type": "code",
   "execution_count": 12,
   "metadata": {
    "id": "NafmYHrkT5YD"
   },
   "outputs": [
    {
     "name": "stdout",
     "output_type": "stream",
     "text": [
      "(300,)\n"
     ]
    }
   ],
   "source": [
    "emb_line = [word2vec.get_vector(w) for w in filtered_line if w in word2vec]\n",
    "print(sum(emb_line).shape)"
   ]
  },
  {
   "cell_type": "markdown",
   "metadata": {
    "id": "LTS6LCkd6_E7"
   },
   "source": [
    "Эмбеддинги не нормализированны, поэтому это тоже надо делать (нейросети и не только любят нормальные данные)."
   ]
  },
  {
   "cell_type": "code",
   "execution_count": 13,
   "metadata": {
    "id": "3PyLTZ6xf3Oq"
   },
   "outputs": [
    {
     "name": "stdout",
     "output_type": "stream",
     "text": [
      "(300,)\n",
      "[False, False, False, False, False, False, False, False, False, False, False, False]\n"
     ]
    }
   ],
   "source": [
    "mean = np.mean(word2vec.vectors, 0)\n",
    "std = np.std(word2vec.vectors, 0)\n",
    "norm_emb_line = [(word2vec.get_vector(w) - mean) / std for w in filtered_line if w in word2vec and len(w) > 3]\n",
    "print(sum(norm_emb_line).shape)\n",
    "print([all(norm_emb_line[i] == emb_line[i]) for i in range(len(emb_line))])"
   ]
  },
  {
   "cell_type": "markdown",
   "metadata": {
    "id": "q7vm6Ppd7Ubw"
   },
   "source": [
    "Сделаем датасет, который будет по запросу возвращать подготовленные данные."
   ]
  },
  {
   "cell_type": "code",
   "execution_count": 14,
   "metadata": {
    "id": "b4eZajF7pZ1X"
   },
   "outputs": [],
   "source": [
    "from torch.utils.data import Dataset, random_split\n",
    "\n",
    "\n",
    "class TwitterDataset(Dataset):\n",
    "    def __init__(self, data: pd.DataFrame, feature_column: str, target_column: str, word2vec: gensim.models.Word2Vec):\n",
    "        self.tokenizer = nltk.WordPunctTokenizer()\n",
    "        \n",
    "        self.data = data\n",
    "\n",
    "        self.feature_column = feature_column\n",
    "        self.target_column = target_column\n",
    "\n",
    "        self.word2vec = word2vec\n",
    "\n",
    "        self.label2num = lambda label: 0 if label == 0 else 1\n",
    "        self.mean = np.mean(word2vec.vectors, axis=0)\n",
    "        self.std = np.std(word2vec.vectors, axis=0)\n",
    "\n",
    "    def __getitem__(self, item):\n",
    "        text = self.data[self.feature_column][item]\n",
    "        label = self.label2num(self.data[self.target_column][item])\n",
    "\n",
    "        tokens = self.get_tokens_(text)\n",
    "        embeddings = self.get_embeddings_(tokens)\n",
    "\n",
    "        return {\"feature\": embeddings, \"target\": label}\n",
    "\n",
    "    def get_tokens_(self, text):\n",
    "        # Получи все токены из текста и профильтруй их\n",
    "        tokens = self.tokenizer.tokenize(text.lower())\n",
    "        filtered_tokens = [w for w in tokens if all(c not in string.punctuation for c in w) and len(w) > 3]\n",
    "        return filtered_tokens\n",
    "    \n",
    "    def get_embeddings_(self, tokens):\n",
    "        embeddings = [(word2vec.get_vector(w) - self.mean) / self.std for w in tokens if w in word2vec and len(w) > 3] # Получи эмбеддинги слов и усредни их\n",
    "\n",
    "        if len(embeddings) == 0:\n",
    "            embeddings = np.zeros((1, self.word2vec.vector_size))\n",
    "        else:\n",
    "            embeddings = np.array(embeddings)\n",
    "            if len(embeddings.shape) == 1:\n",
    "                embeddings = embeddings.reshape(-1, 1)\n",
    "\n",
    "        return embeddings\n",
    "\n",
    "    def __len__(self):\n",
    "        return self.data.shape[0]"
   ]
  },
  {
   "cell_type": "code",
   "execution_count": 15,
   "metadata": {
    "id": "IZJpttbXpZyz"
   },
   "outputs": [],
   "source": [
    "dev = TwitterDataset(dev_data, \"text\", \"emotion\", word2vec)"
   ]
  },
  {
   "cell_type": "markdown",
   "metadata": {
    "id": "4AhHrWa196Yc"
   },
   "source": [
    "## Average embedding\n",
    "---\n",
    "Попробуем получить векторное представление предложения из эмбеддингов слов. Самый простой вариант: усреднить вектора по всем словам. Полученный вектор можно отправить любому классификатору как вектор признаков.\n",
    "\n",
    "Посмотрим, насколько хорошо усреднее работает для определение эмоций твитов. Сделаем их визуализацию."
   ]
  },
  {
   "cell_type": "code",
   "execution_count": 16,
   "metadata": {
    "id": "ScdokSW-994t"
   },
   "outputs": [
    {
     "name": "stdout",
     "output_type": "stream",
     "text": [
      "1280\n"
     ]
    }
   ],
   "source": [
    "indexes = np.arange(len(dev))\n",
    "np.random.shuffle(indexes)\n",
    "example_indexes = indexes[::1000]\n",
    "\n",
    "examples = {\"features\": [np.sum(dev[i][\"feature\"], axis=0) for i in example_indexes], \n",
    "            \"targets\": [dev[i][\"target\"] for i in example_indexes]}\n",
    "print(len(examples[\"features\"]))"
   ]
  },
  {
   "cell_type": "markdown",
   "metadata": {
    "id": "LZwFksd_8uYO"
   },
   "source": [
    "Для визуализации векторов надо получить их проекцию на плоскость. Сделаем это с помощью `PCA`. Можно получить более аккуратными алгоритмами, но данный алгоритм покажет сложность задачи и поможет оценить требования к классификатору."
   ]
  },
  {
   "cell_type": "code",
   "execution_count": 17,
   "metadata": {
    "id": "aKFZRSHdtIac"
   },
   "outputs": [],
   "source": [
    "from sklearn.decomposition import PCA\n",
    "\n",
    "\n",
    "pca = PCA(n_components=2)\n",
    "examples[\"transformed_features\"] = pca.fit_transform(X=examples[\"features\"]) # Обучи PCA на эмбеддингах слов"
   ]
  },
  {
   "cell_type": "code",
   "execution_count": 18,
   "metadata": {
    "id": "szEOWdiNtIX8"
   },
   "outputs": [
    {
     "data": {
      "text/html": [
       "\n",
       "    <div class=\"bk-root\">\n",
       "        <a href=\"https://bokeh.org\" target=\"_blank\" class=\"bk-logo bk-logo-small bk-logo-notebook\"></a>\n",
       "        <span id=\"1001\">Loading BokehJS ...</span>\n",
       "    </div>"
      ]
     },
     "metadata": {},
     "output_type": "display_data"
    },
    {
     "data": {
      "application/javascript": [
       "\n",
       "(function(root) {\n",
       "  function now() {\n",
       "    return new Date();\n",
       "  }\n",
       "\n",
       "  var force = true;\n",
       "\n",
       "  if (typeof root._bokeh_onload_callbacks === \"undefined\" || force === true) {\n",
       "    root._bokeh_onload_callbacks = [];\n",
       "    root._bokeh_is_loading = undefined;\n",
       "  }\n",
       "\n",
       "  var JS_MIME_TYPE = 'application/javascript';\n",
       "  var HTML_MIME_TYPE = 'text/html';\n",
       "  var EXEC_MIME_TYPE = 'application/vnd.bokehjs_exec.v0+json';\n",
       "  var CLASS_NAME = 'output_bokeh rendered_html';\n",
       "\n",
       "  /**\n",
       "   * Render data to the DOM node\n",
       "   */\n",
       "  function render(props, node) {\n",
       "    var script = document.createElement(\"script\");\n",
       "    node.appendChild(script);\n",
       "  }\n",
       "\n",
       "  /**\n",
       "   * Handle when an output is cleared or removed\n",
       "   */\n",
       "  function handleClearOutput(event, handle) {\n",
       "    var cell = handle.cell;\n",
       "\n",
       "    var id = cell.output_area._bokeh_element_id;\n",
       "    var server_id = cell.output_area._bokeh_server_id;\n",
       "    // Clean up Bokeh references\n",
       "    if (id != null && id in Bokeh.index) {\n",
       "      Bokeh.index[id].model.document.clear();\n",
       "      delete Bokeh.index[id];\n",
       "    }\n",
       "\n",
       "    if (server_id !== undefined) {\n",
       "      // Clean up Bokeh references\n",
       "      var cmd = \"from bokeh.io.state import curstate; print(curstate().uuid_to_server['\" + server_id + \"'].get_sessions()[0].document.roots[0]._id)\";\n",
       "      cell.notebook.kernel.execute(cmd, {\n",
       "        iopub: {\n",
       "          output: function(msg) {\n",
       "            var id = msg.content.text.trim();\n",
       "            if (id in Bokeh.index) {\n",
       "              Bokeh.index[id].model.document.clear();\n",
       "              delete Bokeh.index[id];\n",
       "            }\n",
       "          }\n",
       "        }\n",
       "      });\n",
       "      // Destroy server and session\n",
       "      var cmd = \"import bokeh.io.notebook as ion; ion.destroy_server('\" + server_id + \"')\";\n",
       "      cell.notebook.kernel.execute(cmd);\n",
       "    }\n",
       "  }\n",
       "\n",
       "  /**\n",
       "   * Handle when a new output is added\n",
       "   */\n",
       "  function handleAddOutput(event, handle) {\n",
       "    var output_area = handle.output_area;\n",
       "    var output = handle.output;\n",
       "\n",
       "    // limit handleAddOutput to display_data with EXEC_MIME_TYPE content only\n",
       "    if ((output.output_type != \"display_data\") || (!output.data.hasOwnProperty(EXEC_MIME_TYPE))) {\n",
       "      return\n",
       "    }\n",
       "\n",
       "    var toinsert = output_area.element.find(\".\" + CLASS_NAME.split(' ')[0]);\n",
       "\n",
       "    if (output.metadata[EXEC_MIME_TYPE][\"id\"] !== undefined) {\n",
       "      toinsert[toinsert.length - 1].firstChild.textContent = output.data[JS_MIME_TYPE];\n",
       "      // store reference to embed id on output_area\n",
       "      output_area._bokeh_element_id = output.metadata[EXEC_MIME_TYPE][\"id\"];\n",
       "    }\n",
       "    if (output.metadata[EXEC_MIME_TYPE][\"server_id\"] !== undefined) {\n",
       "      var bk_div = document.createElement(\"div\");\n",
       "      bk_div.innerHTML = output.data[HTML_MIME_TYPE];\n",
       "      var script_attrs = bk_div.children[0].attributes;\n",
       "      for (var i = 0; i < script_attrs.length; i++) {\n",
       "        toinsert[toinsert.length - 1].firstChild.setAttribute(script_attrs[i].name, script_attrs[i].value);\n",
       "        toinsert[toinsert.length - 1].firstChild.textContent = bk_div.children[0].textContent\n",
       "      }\n",
       "      // store reference to server id on output_area\n",
       "      output_area._bokeh_server_id = output.metadata[EXEC_MIME_TYPE][\"server_id\"];\n",
       "    }\n",
       "  }\n",
       "\n",
       "  function register_renderer(events, OutputArea) {\n",
       "\n",
       "    function append_mime(data, metadata, element) {\n",
       "      // create a DOM node to render to\n",
       "      var toinsert = this.create_output_subarea(\n",
       "        metadata,\n",
       "        CLASS_NAME,\n",
       "        EXEC_MIME_TYPE\n",
       "      );\n",
       "      this.keyboard_manager.register_events(toinsert);\n",
       "      // Render to node\n",
       "      var props = {data: data, metadata: metadata[EXEC_MIME_TYPE]};\n",
       "      render(props, toinsert[toinsert.length - 1]);\n",
       "      element.append(toinsert);\n",
       "      return toinsert\n",
       "    }\n",
       "\n",
       "    /* Handle when an output is cleared or removed */\n",
       "    events.on('clear_output.CodeCell', handleClearOutput);\n",
       "    events.on('delete.Cell', handleClearOutput);\n",
       "\n",
       "    /* Handle when a new output is added */\n",
       "    events.on('output_added.OutputArea', handleAddOutput);\n",
       "\n",
       "    /**\n",
       "     * Register the mime type and append_mime function with output_area\n",
       "     */\n",
       "    OutputArea.prototype.register_mime_type(EXEC_MIME_TYPE, append_mime, {\n",
       "      /* Is output safe? */\n",
       "      safe: true,\n",
       "      /* Index of renderer in `output_area.display_order` */\n",
       "      index: 0\n",
       "    });\n",
       "  }\n",
       "\n",
       "  // register the mime type if in Jupyter Notebook environment and previously unregistered\n",
       "  if (root.Jupyter !== undefined) {\n",
       "    var events = require('base/js/events');\n",
       "    var OutputArea = require('notebook/js/outputarea').OutputArea;\n",
       "\n",
       "    if (OutputArea.prototype.mime_types().indexOf(EXEC_MIME_TYPE) == -1) {\n",
       "      register_renderer(events, OutputArea);\n",
       "    }\n",
       "  }\n",
       "\n",
       "  \n",
       "  if (typeof (root._bokeh_timeout) === \"undefined\" || force === true) {\n",
       "    root._bokeh_timeout = Date.now() + 5000;\n",
       "    root._bokeh_failed_load = false;\n",
       "  }\n",
       "\n",
       "  var NB_LOAD_WARNING = {'data': {'text/html':\n",
       "     \"<div style='background-color: #fdd'>\\n\"+\n",
       "     \"<p>\\n\"+\n",
       "     \"BokehJS does not appear to have successfully loaded. If loading BokehJS from CDN, this \\n\"+\n",
       "     \"may be due to a slow or bad network connection. Possible fixes:\\n\"+\n",
       "     \"</p>\\n\"+\n",
       "     \"<ul>\\n\"+\n",
       "     \"<li>re-rerun `output_notebook()` to attempt to load from CDN again, or</li>\\n\"+\n",
       "     \"<li>use INLINE resources instead, as so:</li>\\n\"+\n",
       "     \"</ul>\\n\"+\n",
       "     \"<code>\\n\"+\n",
       "     \"from bokeh.resources import INLINE\\n\"+\n",
       "     \"output_notebook(resources=INLINE)\\n\"+\n",
       "     \"</code>\\n\"+\n",
       "     \"</div>\"}};\n",
       "\n",
       "  function display_loaded() {\n",
       "    var el = document.getElementById(\"1001\");\n",
       "    if (el != null) {\n",
       "      el.textContent = \"BokehJS is loading...\";\n",
       "    }\n",
       "    if (root.Bokeh !== undefined) {\n",
       "      if (el != null) {\n",
       "        el.textContent = \"BokehJS \" + root.Bokeh.version + \" successfully loaded.\";\n",
       "      }\n",
       "    } else if (Date.now() < root._bokeh_timeout) {\n",
       "      setTimeout(display_loaded, 100)\n",
       "    }\n",
       "  }\n",
       "\n",
       "\n",
       "  function run_callbacks() {\n",
       "    try {\n",
       "      root._bokeh_onload_callbacks.forEach(function(callback) {\n",
       "        if (callback != null)\n",
       "          callback();\n",
       "      });\n",
       "    } finally {\n",
       "      delete root._bokeh_onload_callbacks\n",
       "    }\n",
       "    console.debug(\"Bokeh: all callbacks have finished\");\n",
       "  }\n",
       "\n",
       "  function load_libs(css_urls, js_urls, callback) {\n",
       "    if (css_urls == null) css_urls = [];\n",
       "    if (js_urls == null) js_urls = [];\n",
       "\n",
       "    root._bokeh_onload_callbacks.push(callback);\n",
       "    if (root._bokeh_is_loading > 0) {\n",
       "      console.debug(\"Bokeh: BokehJS is being loaded, scheduling callback at\", now());\n",
       "      return null;\n",
       "    }\n",
       "    if (js_urls == null || js_urls.length === 0) {\n",
       "      run_callbacks();\n",
       "      return null;\n",
       "    }\n",
       "    console.debug(\"Bokeh: BokehJS not loaded, scheduling load and callback at\", now());\n",
       "    root._bokeh_is_loading = css_urls.length + js_urls.length;\n",
       "\n",
       "    function on_load() {\n",
       "      root._bokeh_is_loading--;\n",
       "      if (root._bokeh_is_loading === 0) {\n",
       "        console.debug(\"Bokeh: all BokehJS libraries/stylesheets loaded\");\n",
       "        run_callbacks()\n",
       "      }\n",
       "    }\n",
       "\n",
       "    function on_error() {\n",
       "      console.error(\"failed to load \" + url);\n",
       "    }\n",
       "\n",
       "    for (var i = 0; i < css_urls.length; i++) {\n",
       "      var url = css_urls[i];\n",
       "      const element = document.createElement(\"link\");\n",
       "      element.onload = on_load;\n",
       "      element.onerror = on_error;\n",
       "      element.rel = \"stylesheet\";\n",
       "      element.type = \"text/css\";\n",
       "      element.href = url;\n",
       "      console.debug(\"Bokeh: injecting link tag for BokehJS stylesheet: \", url);\n",
       "      document.body.appendChild(element);\n",
       "    }\n",
       "\n",
       "    const hashes = {\"https://cdn.bokeh.org/bokeh/release/bokeh-2.2.2.min.js\": \"JayppSWSRBsibIZqI8S4vAb1oFgLL0uhNvSn8cmArlOvYOwfFjYeyY5UWwJ+K0SU\", \"https://cdn.bokeh.org/bokeh/release/bokeh-widgets-2.2.2.min.js\": \"G0/Tv/Yy/zEPNsnW0Qif/FOsGesd+KIrKg/QLmvQmReuUW9qmSP7mAmr0VpiUNr3\", \"https://cdn.bokeh.org/bokeh/release/bokeh-tables-2.2.2.min.js\": \"VLYHEbLQDk5G1+/4ALU0myoJPMEUsngWry2fzYorFOUmarjGRPLLURaeK/on6JqX\"};\n",
       "\n",
       "    for (var i = 0; i < js_urls.length; i++) {\n",
       "      var url = js_urls[i];\n",
       "      var element = document.createElement('script');\n",
       "      element.onload = on_load;\n",
       "      element.onerror = on_error;\n",
       "      element.async = false;\n",
       "      element.src = url;\n",
       "      if (url in hashes) {\n",
       "        element.crossOrigin = \"anonymous\";\n",
       "        element.integrity = \"sha384-\" + hashes[url];\n",
       "      }\n",
       "      console.debug(\"Bokeh: injecting script tag for BokehJS library: \", url);\n",
       "      document.head.appendChild(element);\n",
       "    }\n",
       "  };\n",
       "\n",
       "  function inject_raw_css(css) {\n",
       "    const element = document.createElement(\"style\");\n",
       "    element.appendChild(document.createTextNode(css));\n",
       "    document.body.appendChild(element);\n",
       "  }\n",
       "\n",
       "  \n",
       "  var js_urls = [\"https://cdn.bokeh.org/bokeh/release/bokeh-2.2.2.min.js\", \"https://cdn.bokeh.org/bokeh/release/bokeh-widgets-2.2.2.min.js\", \"https://cdn.bokeh.org/bokeh/release/bokeh-tables-2.2.2.min.js\"];\n",
       "  var css_urls = [];\n",
       "  \n",
       "\n",
       "  var inline_js = [\n",
       "    function(Bokeh) {\n",
       "      Bokeh.set_log_level(\"info\");\n",
       "    },\n",
       "    function(Bokeh) {\n",
       "    \n",
       "    \n",
       "    }\n",
       "  ];\n",
       "\n",
       "  function run_inline_js() {\n",
       "    \n",
       "    if (root.Bokeh !== undefined || force === true) {\n",
       "      \n",
       "    for (var i = 0; i < inline_js.length; i++) {\n",
       "      inline_js[i].call(root, root.Bokeh);\n",
       "    }\n",
       "    if (force === true) {\n",
       "        display_loaded();\n",
       "      }} else if (Date.now() < root._bokeh_timeout) {\n",
       "      setTimeout(run_inline_js, 100);\n",
       "    } else if (!root._bokeh_failed_load) {\n",
       "      console.log(\"Bokeh: BokehJS failed to load within specified timeout.\");\n",
       "      root._bokeh_failed_load = true;\n",
       "    } else if (force !== true) {\n",
       "      var cell = $(document.getElementById(\"1001\")).parents('.cell').data().cell;\n",
       "      cell.output_area.append_execute_result(NB_LOAD_WARNING)\n",
       "    }\n",
       "\n",
       "  }\n",
       "\n",
       "  if (root._bokeh_is_loading === 0) {\n",
       "    console.debug(\"Bokeh: BokehJS loaded, going straight to plotting\");\n",
       "    run_inline_js();\n",
       "  } else {\n",
       "    load_libs(css_urls, js_urls, function() {\n",
       "      console.debug(\"Bokeh: BokehJS plotting callback run at\", now());\n",
       "      run_inline_js();\n",
       "    });\n",
       "  }\n",
       "}(window));"
      ],
      "application/vnd.bokehjs_load.v0+json": "\n(function(root) {\n  function now() {\n    return new Date();\n  }\n\n  var force = true;\n\n  if (typeof root._bokeh_onload_callbacks === \"undefined\" || force === true) {\n    root._bokeh_onload_callbacks = [];\n    root._bokeh_is_loading = undefined;\n  }\n\n  \n\n  \n  if (typeof (root._bokeh_timeout) === \"undefined\" || force === true) {\n    root._bokeh_timeout = Date.now() + 5000;\n    root._bokeh_failed_load = false;\n  }\n\n  var NB_LOAD_WARNING = {'data': {'text/html':\n     \"<div style='background-color: #fdd'>\\n\"+\n     \"<p>\\n\"+\n     \"BokehJS does not appear to have successfully loaded. If loading BokehJS from CDN, this \\n\"+\n     \"may be due to a slow or bad network connection. Possible fixes:\\n\"+\n     \"</p>\\n\"+\n     \"<ul>\\n\"+\n     \"<li>re-rerun `output_notebook()` to attempt to load from CDN again, or</li>\\n\"+\n     \"<li>use INLINE resources instead, as so:</li>\\n\"+\n     \"</ul>\\n\"+\n     \"<code>\\n\"+\n     \"from bokeh.resources import INLINE\\n\"+\n     \"output_notebook(resources=INLINE)\\n\"+\n     \"</code>\\n\"+\n     \"</div>\"}};\n\n  function display_loaded() {\n    var el = document.getElementById(\"1001\");\n    if (el != null) {\n      el.textContent = \"BokehJS is loading...\";\n    }\n    if (root.Bokeh !== undefined) {\n      if (el != null) {\n        el.textContent = \"BokehJS \" + root.Bokeh.version + \" successfully loaded.\";\n      }\n    } else if (Date.now() < root._bokeh_timeout) {\n      setTimeout(display_loaded, 100)\n    }\n  }\n\n\n  function run_callbacks() {\n    try {\n      root._bokeh_onload_callbacks.forEach(function(callback) {\n        if (callback != null)\n          callback();\n      });\n    } finally {\n      delete root._bokeh_onload_callbacks\n    }\n    console.debug(\"Bokeh: all callbacks have finished\");\n  }\n\n  function load_libs(css_urls, js_urls, callback) {\n    if (css_urls == null) css_urls = [];\n    if (js_urls == null) js_urls = [];\n\n    root._bokeh_onload_callbacks.push(callback);\n    if (root._bokeh_is_loading > 0) {\n      console.debug(\"Bokeh: BokehJS is being loaded, scheduling callback at\", now());\n      return null;\n    }\n    if (js_urls == null || js_urls.length === 0) {\n      run_callbacks();\n      return null;\n    }\n    console.debug(\"Bokeh: BokehJS not loaded, scheduling load and callback at\", now());\n    root._bokeh_is_loading = css_urls.length + js_urls.length;\n\n    function on_load() {\n      root._bokeh_is_loading--;\n      if (root._bokeh_is_loading === 0) {\n        console.debug(\"Bokeh: all BokehJS libraries/stylesheets loaded\");\n        run_callbacks()\n      }\n    }\n\n    function on_error() {\n      console.error(\"failed to load \" + url);\n    }\n\n    for (var i = 0; i < css_urls.length; i++) {\n      var url = css_urls[i];\n      const element = document.createElement(\"link\");\n      element.onload = on_load;\n      element.onerror = on_error;\n      element.rel = \"stylesheet\";\n      element.type = \"text/css\";\n      element.href = url;\n      console.debug(\"Bokeh: injecting link tag for BokehJS stylesheet: \", url);\n      document.body.appendChild(element);\n    }\n\n    const hashes = {\"https://cdn.bokeh.org/bokeh/release/bokeh-2.2.2.min.js\": \"JayppSWSRBsibIZqI8S4vAb1oFgLL0uhNvSn8cmArlOvYOwfFjYeyY5UWwJ+K0SU\", \"https://cdn.bokeh.org/bokeh/release/bokeh-widgets-2.2.2.min.js\": \"G0/Tv/Yy/zEPNsnW0Qif/FOsGesd+KIrKg/QLmvQmReuUW9qmSP7mAmr0VpiUNr3\", \"https://cdn.bokeh.org/bokeh/release/bokeh-tables-2.2.2.min.js\": \"VLYHEbLQDk5G1+/4ALU0myoJPMEUsngWry2fzYorFOUmarjGRPLLURaeK/on6JqX\"};\n\n    for (var i = 0; i < js_urls.length; i++) {\n      var url = js_urls[i];\n      var element = document.createElement('script');\n      element.onload = on_load;\n      element.onerror = on_error;\n      element.async = false;\n      element.src = url;\n      if (url in hashes) {\n        element.crossOrigin = \"anonymous\";\n        element.integrity = \"sha384-\" + hashes[url];\n      }\n      console.debug(\"Bokeh: injecting script tag for BokehJS library: \", url);\n      document.head.appendChild(element);\n    }\n  };\n\n  function inject_raw_css(css) {\n    const element = document.createElement(\"style\");\n    element.appendChild(document.createTextNode(css));\n    document.body.appendChild(element);\n  }\n\n  \n  var js_urls = [\"https://cdn.bokeh.org/bokeh/release/bokeh-2.2.2.min.js\", \"https://cdn.bokeh.org/bokeh/release/bokeh-widgets-2.2.2.min.js\", \"https://cdn.bokeh.org/bokeh/release/bokeh-tables-2.2.2.min.js\"];\n  var css_urls = [];\n  \n\n  var inline_js = [\n    function(Bokeh) {\n      Bokeh.set_log_level(\"info\");\n    },\n    function(Bokeh) {\n    \n    \n    }\n  ];\n\n  function run_inline_js() {\n    \n    if (root.Bokeh !== undefined || force === true) {\n      \n    for (var i = 0; i < inline_js.length; i++) {\n      inline_js[i].call(root, root.Bokeh);\n    }\n    if (force === true) {\n        display_loaded();\n      }} else if (Date.now() < root._bokeh_timeout) {\n      setTimeout(run_inline_js, 100);\n    } else if (!root._bokeh_failed_load) {\n      console.log(\"Bokeh: BokehJS failed to load within specified timeout.\");\n      root._bokeh_failed_load = true;\n    } else if (force !== true) {\n      var cell = $(document.getElementById(\"1001\")).parents('.cell').data().cell;\n      cell.output_area.append_execute_result(NB_LOAD_WARNING)\n    }\n\n  }\n\n  if (root._bokeh_is_loading === 0) {\n    console.debug(\"Bokeh: BokehJS loaded, going straight to plotting\");\n    run_inline_js();\n  } else {\n    load_libs(css_urls, js_urls, function() {\n      console.debug(\"Bokeh: BokehJS plotting callback run at\", now());\n      run_inline_js();\n    });\n  }\n}(window));"
     },
     "metadata": {},
     "output_type": "display_data"
    }
   ],
   "source": [
    "import bokeh.models as bm, bokeh.plotting as pl\n",
    "from bokeh.io import output_notebook\n",
    "output_notebook()\n",
    "\n",
    "def draw_vectors(x, y, radius=10, alpha=0.25, color='blue',\n",
    "                 width=600, height=400, show=True, **kwargs):\n",
    "    \"\"\" draws an interactive plot for data points with auxilirary info on hover \"\"\"\n",
    "    data_source = bm.ColumnDataSource({ 'x' : x, 'y' : y, 'color': color, **kwargs })\n",
    "\n",
    "    fig = pl.figure(active_scroll='wheel_zoom', width=width, height=height)\n",
    "    fig.scatter('x', 'y', size=radius, color='color', alpha=alpha, source=data_source)\n",
    "\n",
    "    fig.add_tools(bm.HoverTool(tooltips=[(key, \"@\" + key) for key in kwargs.keys()]))\n",
    "    if show: pl.show(fig)\n",
    "    return fig"
   ]
  },
  {
   "cell_type": "code",
   "execution_count": 19,
   "metadata": {
    "id": "7OONK8ldtIWe"
   },
   "outputs": [
    {
     "data": {
      "text/html": [
       "\n",
       "\n",
       "\n",
       "\n",
       "\n",
       "\n",
       "  <div class=\"bk-root\" id=\"a6f58fbd-c9a4-45e8-bd2a-12f2eb905835\" data-root-id=\"1003\"></div>\n"
      ]
     },
     "metadata": {},
     "output_type": "display_data"
    },
    {
     "data": {
      "application/javascript": [
       "(function(root) {\n",
       "  function embed_document(root) {\n",
       "    \n",
       "  var docs_json = {\"99571e27-2ce6-45b7-b75d-dd63739b201d\":{\"roots\":{\"references\":[{\"attributes\":{\"below\":[{\"id\":\"1012\"}],\"center\":[{\"id\":\"1015\"},{\"id\":\"1019\"}],\"left\":[{\"id\":\"1016\"}],\"plot_height\":400,\"renderers\":[{\"id\":\"1037\"}],\"title\":{\"id\":\"1042\"},\"toolbar\":{\"id\":\"1027\"},\"x_range\":{\"id\":\"1004\"},\"x_scale\":{\"id\":\"1008\"},\"y_range\":{\"id\":\"1006\"},\"y_scale\":{\"id\":\"1010\"}},\"id\":\"1003\",\"subtype\":\"Figure\",\"type\":\"Plot\"},{\"attributes\":{},\"id\":\"1044\",\"type\":\"BasicTickFormatter\"},{\"attributes\":{\"axis\":{\"id\":\"1016\"},\"dimension\":1,\"ticker\":null},\"id\":\"1019\",\"type\":\"Grid\"},{\"attributes\":{},\"id\":\"1048\",\"type\":\"UnionRenderers\"},{\"attributes\":{},\"id\":\"1017\",\"type\":\"BasicTicker\"},{\"attributes\":{},\"id\":\"1046\",\"type\":\"BasicTickFormatter\"},{\"attributes\":{\"text\":\"\"},\"id\":\"1042\",\"type\":\"Title\"},{\"attributes\":{},\"id\":\"1049\",\"type\":\"Selection\"},{\"attributes\":{\"fill_alpha\":{\"value\":0.25},\"fill_color\":{\"field\":\"color\"},\"line_alpha\":{\"value\":0.25},\"line_color\":{\"field\":\"color\"},\"size\":{\"units\":\"screen\",\"value\":10},\"x\":{\"field\":\"x\"},\"y\":{\"field\":\"y\"}},\"id\":\"1035\",\"type\":\"Scatter\"},{\"attributes\":{\"data\":{\"color\":[\"red\",\"red\",\"red\",\"blue\",\"red\",\"blue\",\"blue\",\"blue\",\"blue\",\"blue\",\"blue\",\"blue\",\"blue\",\"red\",\"red\",\"blue\",\"blue\",\"blue\",\"red\",\"blue\",\"blue\",\"blue\",\"blue\",\"red\",\"blue\",\"blue\",\"red\",\"red\",\"blue\",\"red\",\"blue\",\"red\",\"red\",\"blue\",\"red\",\"red\",\"blue\",\"red\",\"blue\",\"blue\",\"red\",\"blue\",\"blue\",\"blue\",\"red\",\"red\",\"red\",\"red\",\"blue\",\"red\",\"blue\",\"blue\",\"blue\",\"red\",\"blue\",\"red\",\"blue\",\"blue\",\"red\",\"red\",\"red\",\"blue\",\"blue\",\"red\",\"red\",\"blue\",\"blue\",\"red\",\"blue\",\"blue\",\"blue\",\"blue\",\"red\",\"red\",\"red\",\"red\",\"red\",\"blue\",\"red\",\"red\",\"blue\",\"blue\",\"red\",\"red\",\"blue\",\"red\",\"red\",\"red\",\"blue\",\"red\",\"red\",\"red\",\"red\",\"blue\",\"blue\",\"red\",\"red\",\"blue\",\"red\",\"red\",\"blue\",\"red\",\"blue\",\"red\",\"red\",\"red\",\"red\",\"blue\",\"red\",\"blue\",\"blue\",\"blue\",\"blue\",\"red\",\"red\",\"blue\",\"blue\",\"blue\",\"red\",\"blue\",\"red\",\"red\",\"red\",\"red\",\"blue\",\"blue\",\"red\",\"blue\",\"red\",\"blue\",\"blue\",\"blue\",\"red\",\"blue\",\"red\",\"blue\",\"red\",\"red\",\"blue\",\"red\",\"red\",\"blue\",\"red\",\"red\",\"blue\",\"red\",\"red\",\"blue\",\"blue\",\"blue\",\"blue\",\"red\",\"red\",\"red\",\"blue\",\"red\",\"red\",\"red\",\"blue\",\"red\",\"red\",\"red\",\"red\",\"red\",\"red\",\"blue\",\"blue\",\"red\",\"blue\",\"blue\",\"red\",\"red\",\"red\",\"blue\",\"red\",\"red\",\"blue\",\"red\",\"blue\",\"blue\",\"red\",\"blue\",\"red\",\"red\",\"blue\",\"blue\",\"blue\",\"blue\",\"blue\",\"red\",\"red\",\"red\",\"blue\",\"blue\",\"blue\",\"red\",\"red\",\"blue\",\"blue\",\"blue\",\"blue\",\"blue\",\"blue\",\"red\",\"red\",\"red\",\"red\",\"red\",\"red\",\"red\",\"red\",\"red\",\"blue\",\"blue\",\"blue\",\"red\",\"blue\",\"red\",\"blue\",\"blue\",\"red\",\"blue\",\"red\",\"blue\",\"blue\",\"red\",\"blue\",\"blue\",\"blue\",\"blue\",\"red\",\"blue\",\"red\",\"red\",\"red\",\"blue\",\"red\",\"blue\",\"red\",\"red\",\"red\",\"blue\",\"red\",\"blue\",\"red\",\"blue\",\"red\",\"blue\",\"red\",\"blue\",\"blue\",\"blue\",\"blue\",\"blue\",\"blue\",\"blue\",\"red\",\"red\",\"red\",\"red\",\"blue\",\"red\",\"red\",\"blue\",\"blue\",\"blue\",\"red\",\"red\",\"red\",\"red\",\"blue\",\"blue\",\"blue\",\"blue\",\"blue\",\"blue\",\"blue\",\"red\",\"blue\",\"red\",\"red\",\"red\",\"blue\",\"red\",\"red\",\"blue\",\"blue\",\"red\",\"blue\",\"blue\",\"red\",\"red\",\"blue\",\"red\",\"red\",\"blue\",\"blue\",\"red\",\"blue\",\"red\",\"red\",\"blue\",\"red\",\"red\",\"blue\",\"red\",\"blue\",\"blue\",\"red\",\"red\",\"blue\",\"blue\",\"blue\",\"red\",\"blue\",\"blue\",\"red\",\"red\",\"red\",\"blue\",\"blue\",\"red\",\"blue\",\"red\",\"red\",\"red\",\"red\",\"red\",\"blue\",\"blue\",\"red\",\"red\",\"red\",\"red\",\"red\",\"blue\",\"red\",\"red\",\"red\",\"blue\",\"blue\",\"blue\",\"blue\",\"blue\",\"red\",\"blue\",\"blue\",\"red\",\"red\",\"blue\",\"blue\",\"blue\",\"blue\",\"red\",\"blue\",\"blue\",\"blue\",\"blue\",\"red\",\"blue\",\"red\",\"blue\",\"red\",\"red\",\"blue\",\"blue\",\"blue\",\"red\",\"red\",\"blue\",\"red\",\"red\",\"red\",\"blue\",\"red\",\"blue\",\"blue\",\"blue\",\"red\",\"red\",\"red\",\"blue\",\"blue\",\"red\",\"blue\",\"blue\",\"red\",\"blue\",\"blue\",\"red\",\"blue\",\"blue\",\"red\",\"blue\",\"red\",\"red\",\"blue\",\"blue\",\"blue\",\"red\",\"blue\",\"blue\",\"blue\",\"red\",\"red\",\"blue\",\"blue\",\"blue\",\"red\",\"blue\",\"blue\",\"blue\",\"red\",\"blue\",\"blue\",\"blue\",\"blue\",\"red\",\"blue\",\"blue\",\"red\",\"red\",\"red\",\"blue\",\"blue\",\"blue\",\"red\",\"red\",\"blue\",\"blue\",\"blue\",\"red\",\"blue\",\"blue\",\"blue\",\"blue\",\"blue\",\"red\",\"red\",\"blue\",\"blue\",\"blue\",\"red\",\"red\",\"blue\",\"red\",\"red\",\"red\",\"blue\",\"red\",\"red\",\"blue\",\"red\",\"blue\",\"blue\",\"red\",\"blue\",\"blue\",\"red\",\"red\",\"blue\",\"blue\",\"blue\",\"blue\",\"red\",\"red\",\"red\",\"red\",\"blue\",\"blue\",\"blue\",\"red\",\"blue\",\"blue\",\"red\",\"blue\",\"red\",\"red\",\"blue\",\"red\",\"blue\",\"red\",\"red\",\"blue\",\"red\",\"blue\",\"blue\",\"blue\",\"red\",\"blue\",\"red\",\"blue\",\"blue\",\"blue\",\"blue\",\"blue\",\"red\",\"blue\",\"blue\",\"red\",\"blue\",\"red\",\"blue\",\"red\",\"blue\",\"red\",\"red\",\"red\",\"red\",\"red\",\"red\",\"blue\",\"blue\",\"blue\",\"red\",\"blue\",\"red\",\"red\",\"blue\",\"red\",\"red\",\"red\",\"red\",\"red\",\"red\",\"blue\",\"blue\",\"blue\",\"red\",\"blue\",\"red\",\"blue\",\"blue\",\"red\",\"red\",\"red\",\"blue\",\"red\",\"blue\",\"blue\",\"blue\",\"red\",\"blue\",\"blue\",\"red\",\"blue\",\"blue\",\"blue\",\"blue\",\"blue\",\"blue\",\"red\",\"red\",\"red\",\"blue\",\"blue\",\"red\",\"blue\",\"blue\",\"blue\",\"red\",\"blue\",\"red\",\"blue\",\"blue\",\"red\",\"red\",\"blue\",\"red\",\"red\",\"red\",\"blue\",\"red\",\"red\",\"blue\",\"red\",\"red\",\"blue\",\"blue\",\"blue\",\"red\",\"red\",\"red\",\"blue\",\"blue\",\"blue\",\"red\",\"red\",\"red\",\"red\",\"blue\",\"blue\",\"red\",\"red\",\"red\",\"red\",\"red\",\"red\",\"blue\",\"blue\",\"red\",\"red\",\"red\",\"blue\",\"red\",\"red\",\"red\",\"blue\",\"red\",\"red\",\"blue\",\"red\",\"red\",\"blue\",\"blue\",\"blue\",\"red\",\"blue\",\"blue\",\"blue\",\"red\",\"red\",\"red\",\"blue\",\"blue\",\"red\",\"red\",\"blue\",\"red\",\"blue\",\"blue\",\"blue\",\"red\",\"red\",\"blue\",\"red\",\"red\",\"blue\",\"red\",\"blue\",\"blue\",\"red\",\"red\",\"red\",\"red\",\"red\",\"red\",\"red\",\"red\",\"red\",\"blue\",\"blue\",\"blue\",\"red\",\"red\",\"blue\",\"blue\",\"blue\",\"red\",\"blue\",\"blue\",\"blue\",\"blue\",\"red\",\"blue\",\"red\",\"blue\",\"red\",\"red\",\"red\",\"blue\",\"red\",\"red\",\"red\",\"blue\",\"red\",\"blue\",\"blue\",\"blue\",\"red\",\"red\",\"red\",\"blue\",\"blue\",\"blue\",\"red\",\"red\",\"red\",\"blue\",\"red\",\"red\",\"red\",\"blue\",\"red\",\"blue\",\"red\",\"red\",\"blue\",\"red\",\"blue\",\"blue\",\"red\",\"red\",\"blue\",\"blue\",\"blue\",\"blue\",\"red\",\"blue\",\"blue\",\"red\",\"red\",\"red\",\"red\",\"blue\",\"blue\",\"red\",\"red\",\"red\",\"red\",\"red\",\"blue\",\"blue\",\"red\",\"red\",\"red\",\"blue\",\"blue\",\"blue\",\"blue\",\"blue\",\"red\",\"red\",\"red\",\"blue\",\"blue\",\"red\",\"red\",\"red\",\"red\",\"red\",\"blue\",\"blue\",\"blue\",\"red\",\"red\",\"red\",\"red\",\"red\",\"blue\",\"red\",\"red\",\"red\",\"blue\",\"red\",\"red\",\"red\",\"red\",\"red\",\"red\",\"red\",\"red\",\"red\",\"blue\",\"blue\",\"blue\",\"blue\",\"blue\",\"red\",\"blue\",\"blue\",\"red\",\"blue\",\"red\",\"red\",\"blue\",\"red\",\"red\",\"blue\",\"red\",\"blue\",\"red\",\"red\",\"red\",\"blue\",\"red\",\"blue\",\"blue\",\"blue\",\"red\",\"blue\",\"blue\",\"red\",\"blue\",\"blue\",\"blue\",\"blue\",\"red\",\"blue\",\"red\",\"red\",\"red\",\"red\",\"blue\",\"blue\",\"red\",\"red\",\"blue\",\"red\",\"red\",\"blue\",\"red\",\"blue\",\"red\",\"blue\",\"blue\",\"red\",\"blue\",\"blue\",\"blue\",\"red\",\"blue\",\"red\",\"blue\",\"blue\",\"red\",\"red\",\"red\",\"blue\",\"blue\",\"blue\",\"red\",\"blue\",\"red\",\"blue\",\"blue\",\"red\",\"blue\",\"blue\",\"blue\",\"red\",\"red\",\"red\",\"blue\",\"red\",\"red\",\"red\",\"blue\",\"red\",\"red\",\"blue\",\"red\",\"blue\",\"blue\",\"blue\",\"red\",\"blue\",\"blue\",\"red\",\"red\",\"red\",\"blue\",\"blue\",\"blue\",\"red\",\"blue\",\"red\",\"blue\",\"red\",\"red\",\"blue\",\"red\",\"red\",\"red\",\"blue\",\"blue\",\"blue\",\"red\",\"red\",\"red\",\"red\",\"red\",\"red\",\"blue\",\"red\",\"red\",\"blue\",\"red\",\"red\",\"blue\",\"red\",\"blue\",\"blue\",\"blue\",\"blue\",\"red\",\"blue\",\"blue\",\"blue\",\"blue\",\"red\",\"red\",\"blue\",\"blue\",\"red\",\"red\",\"red\",\"blue\",\"red\",\"red\",\"blue\",\"blue\",\"red\",\"red\",\"blue\",\"red\",\"red\",\"blue\",\"red\",\"red\",\"red\",\"blue\",\"blue\",\"red\",\"red\",\"red\",\"blue\",\"red\",\"blue\",\"red\",\"blue\",\"red\",\"blue\",\"red\",\"blue\",\"red\",\"red\",\"blue\",\"blue\",\"blue\",\"red\",\"red\",\"red\",\"red\",\"red\",\"red\",\"blue\",\"red\",\"blue\",\"red\",\"blue\",\"red\",\"blue\",\"blue\",\"blue\",\"red\",\"blue\",\"blue\",\"red\",\"blue\",\"blue\",\"blue\",\"red\",\"red\",\"red\",\"blue\",\"blue\",\"blue\",\"red\",\"red\",\"blue\",\"red\",\"red\",\"red\",\"red\",\"blue\",\"red\",\"red\",\"red\",\"red\",\"blue\",\"blue\",\"blue\",\"red\",\"blue\",\"red\",\"red\",\"blue\",\"red\",\"blue\",\"blue\",\"red\",\"red\",\"red\",\"blue\",\"blue\",\"blue\",\"blue\",\"red\",\"red\",\"blue\",\"blue\",\"red\",\"blue\",\"blue\",\"blue\",\"blue\",\"red\",\"blue\",\"red\",\"red\",\"blue\",\"blue\",\"blue\",\"blue\",\"blue\",\"red\",\"red\",\"red\",\"red\",\"blue\",\"red\",\"blue\",\"red\",\"blue\",\"red\",\"blue\",\"red\",\"blue\",\"red\",\"blue\",\"blue\",\"red\",\"blue\",\"red\",\"blue\",\"red\",\"blue\",\"blue\",\"blue\",\"red\",\"red\",\"blue\",\"red\",\"red\",\"blue\",\"blue\",\"blue\",\"red\",\"blue\",\"blue\",\"red\",\"red\",\"red\",\"blue\",\"red\",\"blue\",\"blue\",\"red\",\"red\",\"red\",\"blue\",\"red\",\"blue\",\"blue\",\"blue\",\"red\",\"blue\",\"red\",\"red\",\"red\",\"red\",\"red\",\"red\",\"blue\",\"red\",\"blue\",\"blue\",\"blue\",\"red\",\"blue\",\"red\",\"red\",\"blue\",\"blue\",\"red\",\"red\",\"blue\",\"red\",\"blue\",\"red\",\"red\",\"blue\",\"red\",\"red\",\"blue\",\"red\",\"red\",\"red\",\"blue\",\"blue\",\"blue\",\"red\",\"blue\",\"blue\",\"blue\",\"red\",\"blue\",\"red\",\"red\",\"blue\",\"red\",\"blue\",\"blue\",\"red\",\"blue\",\"red\",\"blue\",\"blue\",\"red\",\"blue\",\"blue\",\"red\",\"blue\",\"blue\",\"blue\",\"red\",\"red\",\"blue\",\"blue\",\"red\",\"blue\",\"red\",\"red\",\"red\",\"blue\",\"blue\",\"blue\",\"red\",\"blue\",\"blue\",\"blue\",\"red\",\"blue\",\"blue\",\"blue\",\"blue\",\"blue\",\"red\",\"blue\",\"blue\",\"red\",\"red\",\"blue\",\"red\",\"red\",\"red\",\"blue\",\"blue\",\"blue\",\"red\",\"blue\",\"blue\",\"blue\",\"red\",\"red\",\"red\",\"red\",\"red\",\"blue\",\"blue\",\"red\",\"blue\",\"red\",\"blue\",\"blue\",\"blue\",\"red\",\"red\",\"red\",\"blue\",\"blue\",\"red\",\"red\",\"blue\",\"red\",\"blue\",\"blue\",\"red\",\"blue\",\"blue\",\"red\",\"red\",\"red\",\"red\",\"red\",\"red\",\"blue\",\"red\",\"red\",\"blue\",\"blue\",\"red\",\"blue\",\"blue\",\"blue\",\"red\",\"blue\",\"blue\",\"blue\",\"blue\",\"blue\",\"red\",\"red\",\"red\",\"red\",\"red\",\"red\",\"blue\",\"blue\",\"red\",\"red\",\"red\",\"blue\",\"red\",\"blue\",\"blue\",\"red\",\"blue\",\"blue\",\"red\",\"blue\",\"red\",\"red\",\"blue\",\"red\",\"red\",\"blue\",\"blue\",\"blue\",\"red\",\"red\",\"red\",\"blue\",\"blue\",\"red\",\"blue\",\"blue\",\"blue\",\"red\",\"red\",\"red\",\"blue\",\"red\",\"red\",\"red\",\"blue\",\"blue\",\"red\",\"blue\",\"blue\",\"blue\",\"blue\",\"blue\",\"blue\",\"blue\",\"blue\",\"blue\",\"red\",\"blue\",\"red\",\"red\",\"blue\",\"blue\",\"red\",\"red\",\"blue\",\"blue\",\"blue\",\"red\"],\"x\":{\"__ndarray__\":\"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\",\"dtype\":\"float64\",\"order\":\"little\",\"shape\":[1280]},\"y\":{\"__ndarray__\":\"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\",\"dtype\":\"float64\",\"order\":\"little\",\"shape\":[1280]}},\"selected\":{\"id\":\"1049\"},\"selection_policy\":{\"id\":\"1048\"}},\"id\":\"1002\",\"type\":\"ColumnDataSource\"},{\"attributes\":{\"source\":{\"id\":\"1002\"}},\"id\":\"1038\",\"type\":\"CDSView\"},{\"attributes\":{\"data_source\":{\"id\":\"1002\"},\"glyph\":{\"id\":\"1035\"},\"hover_glyph\":null,\"muted_glyph\":null,\"nonselection_glyph\":{\"id\":\"1036\"},\"selection_glyph\":null,\"view\":{\"id\":\"1038\"}},\"id\":\"1037\",\"type\":\"GlyphRenderer\"},{\"attributes\":{},\"id\":\"1008\",\"type\":\"LinearScale\"},{\"attributes\":{\"active_drag\":\"auto\",\"active_inspect\":\"auto\",\"active_multi\":null,\"active_scroll\":{\"id\":\"1021\"},\"active_tap\":\"auto\",\"tools\":[{\"id\":\"1020\"},{\"id\":\"1021\"},{\"id\":\"1022\"},{\"id\":\"1023\"},{\"id\":\"1024\"},{\"id\":\"1025\"},{\"id\":\"1039\"}]},\"id\":\"1027\",\"type\":\"Toolbar\"},{\"attributes\":{},\"id\":\"1020\",\"type\":\"PanTool\"},{\"attributes\":{},\"id\":\"1025\",\"type\":\"HelpTool\"},{\"attributes\":{},\"id\":\"1021\",\"type\":\"WheelZoomTool\"},{\"attributes\":{},\"id\":\"1004\",\"type\":\"DataRange1d\"},{\"attributes\":{\"overlay\":{\"id\":\"1026\"}},\"id\":\"1022\",\"type\":\"BoxZoomTool\"},{\"attributes\":{},\"id\":\"1023\",\"type\":\"SaveTool\"},{\"attributes\":{},\"id\":\"1006\",\"type\":\"DataRange1d\"},{\"attributes\":{},\"id\":\"1024\",\"type\":\"ResetTool\"},{\"attributes\":{\"fill_alpha\":{\"value\":0.1},\"fill_color\":{\"field\":\"color\"},\"line_alpha\":{\"value\":0.1},\"line_color\":{\"field\":\"color\"},\"size\":{\"units\":\"screen\",\"value\":10},\"x\":{\"field\":\"x\"},\"y\":{\"field\":\"y\"}},\"id\":\"1036\",\"type\":\"Scatter\"},{\"attributes\":{\"bottom_units\":\"screen\",\"fill_alpha\":0.5,\"fill_color\":\"lightgrey\",\"left_units\":\"screen\",\"level\":\"overlay\",\"line_alpha\":1.0,\"line_color\":\"black\",\"line_dash\":[4,4],\"line_width\":2,\"right_units\":\"screen\",\"top_units\":\"screen\"},\"id\":\"1026\",\"type\":\"BoxAnnotation\"},{\"attributes\":{},\"id\":\"1010\",\"type\":\"LinearScale\"},{\"attributes\":{\"formatter\":{\"id\":\"1046\"},\"ticker\":{\"id\":\"1013\"}},\"id\":\"1012\",\"type\":\"LinearAxis\"},{\"attributes\":{\"formatter\":{\"id\":\"1044\"},\"ticker\":{\"id\":\"1017\"}},\"id\":\"1016\",\"type\":\"LinearAxis\"},{\"attributes\":{},\"id\":\"1013\",\"type\":\"BasicTicker\"},{\"attributes\":{\"callback\":null,\"tooltips\":[]},\"id\":\"1039\",\"type\":\"HoverTool\"},{\"attributes\":{\"axis\":{\"id\":\"1012\"},\"ticker\":null},\"id\":\"1015\",\"type\":\"Grid\"}],\"root_ids\":[\"1003\"]},\"title\":\"Bokeh Application\",\"version\":\"2.2.2\"}};\n",
       "  var render_items = [{\"docid\":\"99571e27-2ce6-45b7-b75d-dd63739b201d\",\"root_ids\":[\"1003\"],\"roots\":{\"1003\":\"a6f58fbd-c9a4-45e8-bd2a-12f2eb905835\"}}];\n",
       "  root.Bokeh.embed.embed_items_notebook(docs_json, render_items);\n",
       "\n",
       "  }\n",
       "  if (root.Bokeh !== undefined) {\n",
       "    embed_document(root);\n",
       "  } else {\n",
       "    var attempts = 0;\n",
       "    var timer = setInterval(function(root) {\n",
       "      if (root.Bokeh !== undefined) {\n",
       "        clearInterval(timer);\n",
       "        embed_document(root);\n",
       "      } else {\n",
       "        attempts++;\n",
       "        if (attempts > 100) {\n",
       "          clearInterval(timer);\n",
       "          console.log(\"Bokeh: ERROR: Unable to run BokehJS code because BokehJS library is missing\");\n",
       "        }\n",
       "      }\n",
       "    }, 10, root)\n",
       "  }\n",
       "})(window);"
      ],
      "application/vnd.bokehjs_exec.v0+json": ""
     },
     "metadata": {
      "application/vnd.bokehjs_exec.v0+json": {
       "id": "1003"
      }
     },
     "output_type": "display_data"
    },
    {
     "data": {
      "text/html": [
       "<div style=\"display: table;\"><div style=\"display: table-row;\"><div style=\"display: table-cell;\"><b title=\"bokeh.plotting.figure.Figure\">Figure</b>(</div><div style=\"display: table-cell;\">id&nbsp;=&nbsp;'1003', <span id=\"1096\" style=\"cursor: pointer;\">&hellip;)</span></div></div><div class=\"1095\" style=\"display: none;\"><div style=\"display: table-cell;\"></div><div style=\"display: table-cell;\">above&nbsp;=&nbsp;[],</div></div><div class=\"1095\" style=\"display: none;\"><div style=\"display: table-cell;\"></div><div style=\"display: table-cell;\">align&nbsp;=&nbsp;'start',</div></div><div class=\"1095\" style=\"display: none;\"><div style=\"display: table-cell;\"></div><div style=\"display: table-cell;\">aspect_ratio&nbsp;=&nbsp;None,</div></div><div class=\"1095\" style=\"display: none;\"><div style=\"display: table-cell;\"></div><div style=\"display: table-cell;\">aspect_scale&nbsp;=&nbsp;1,</div></div><div class=\"1095\" style=\"display: none;\"><div style=\"display: table-cell;\"></div><div style=\"display: table-cell;\">background&nbsp;=&nbsp;None,</div></div><div class=\"1095\" style=\"display: none;\"><div style=\"display: table-cell;\"></div><div style=\"display: table-cell;\">background_fill_alpha&nbsp;=&nbsp;1.0,</div></div><div class=\"1095\" style=\"display: none;\"><div style=\"display: table-cell;\"></div><div style=\"display: table-cell;\">background_fill_color&nbsp;=&nbsp;'#ffffff',</div></div><div class=\"1095\" style=\"display: none;\"><div style=\"display: table-cell;\"></div><div style=\"display: table-cell;\">below&nbsp;=&nbsp;[LinearAxis(id='1012', ...)],</div></div><div class=\"1095\" style=\"display: none;\"><div style=\"display: table-cell;\"></div><div style=\"display: table-cell;\">border_fill_alpha&nbsp;=&nbsp;1.0,</div></div><div class=\"1095\" style=\"display: none;\"><div style=\"display: table-cell;\"></div><div style=\"display: table-cell;\">border_fill_color&nbsp;=&nbsp;'#ffffff',</div></div><div class=\"1095\" style=\"display: none;\"><div style=\"display: table-cell;\"></div><div style=\"display: table-cell;\">center&nbsp;=&nbsp;[Grid(id='1015', ...), Grid(id='1019', ...)],</div></div><div class=\"1095\" style=\"display: none;\"><div style=\"display: table-cell;\"></div><div style=\"display: table-cell;\">css_classes&nbsp;=&nbsp;[],</div></div><div class=\"1095\" style=\"display: none;\"><div style=\"display: table-cell;\"></div><div style=\"display: table-cell;\">disabled&nbsp;=&nbsp;False,</div></div><div class=\"1095\" style=\"display: none;\"><div style=\"display: table-cell;\"></div><div style=\"display: table-cell;\">extra_x_ranges&nbsp;=&nbsp;{},</div></div><div class=\"1095\" style=\"display: none;\"><div style=\"display: table-cell;\"></div><div style=\"display: table-cell;\">extra_y_ranges&nbsp;=&nbsp;{},</div></div><div class=\"1095\" style=\"display: none;\"><div style=\"display: table-cell;\"></div><div style=\"display: table-cell;\">frame_height&nbsp;=&nbsp;None,</div></div><div class=\"1095\" style=\"display: none;\"><div style=\"display: table-cell;\"></div><div style=\"display: table-cell;\">frame_width&nbsp;=&nbsp;None,</div></div><div class=\"1095\" style=\"display: none;\"><div style=\"display: table-cell;\"></div><div style=\"display: table-cell;\">height&nbsp;=&nbsp;None,</div></div><div class=\"1095\" style=\"display: none;\"><div style=\"display: table-cell;\"></div><div style=\"display: table-cell;\">height_policy&nbsp;=&nbsp;'auto',</div></div><div class=\"1095\" style=\"display: none;\"><div style=\"display: table-cell;\"></div><div style=\"display: table-cell;\">hidpi&nbsp;=&nbsp;True,</div></div><div class=\"1095\" style=\"display: none;\"><div style=\"display: table-cell;\"></div><div style=\"display: table-cell;\">js_event_callbacks&nbsp;=&nbsp;{},</div></div><div class=\"1095\" style=\"display: none;\"><div style=\"display: table-cell;\"></div><div style=\"display: table-cell;\">js_property_callbacks&nbsp;=&nbsp;{},</div></div><div class=\"1095\" style=\"display: none;\"><div style=\"display: table-cell;\"></div><div style=\"display: table-cell;\">left&nbsp;=&nbsp;[LinearAxis(id='1016', ...)],</div></div><div class=\"1095\" style=\"display: none;\"><div style=\"display: table-cell;\"></div><div style=\"display: table-cell;\">lod_factor&nbsp;=&nbsp;10,</div></div><div class=\"1095\" style=\"display: none;\"><div style=\"display: table-cell;\"></div><div style=\"display: table-cell;\">lod_interval&nbsp;=&nbsp;300,</div></div><div class=\"1095\" style=\"display: none;\"><div style=\"display: table-cell;\"></div><div style=\"display: table-cell;\">lod_threshold&nbsp;=&nbsp;2000,</div></div><div class=\"1095\" style=\"display: none;\"><div style=\"display: table-cell;\"></div><div style=\"display: table-cell;\">lod_timeout&nbsp;=&nbsp;500,</div></div><div class=\"1095\" style=\"display: none;\"><div style=\"display: table-cell;\"></div><div style=\"display: table-cell;\">margin&nbsp;=&nbsp;(0, 0, 0, 0),</div></div><div class=\"1095\" style=\"display: none;\"><div style=\"display: table-cell;\"></div><div style=\"display: table-cell;\">match_aspect&nbsp;=&nbsp;False,</div></div><div class=\"1095\" style=\"display: none;\"><div style=\"display: table-cell;\"></div><div style=\"display: table-cell;\">max_height&nbsp;=&nbsp;None,</div></div><div class=\"1095\" style=\"display: none;\"><div style=\"display: table-cell;\"></div><div style=\"display: table-cell;\">max_width&nbsp;=&nbsp;None,</div></div><div class=\"1095\" style=\"display: none;\"><div style=\"display: table-cell;\"></div><div style=\"display: table-cell;\">min_border&nbsp;=&nbsp;5,</div></div><div class=\"1095\" style=\"display: none;\"><div style=\"display: table-cell;\"></div><div style=\"display: table-cell;\">min_border_bottom&nbsp;=&nbsp;None,</div></div><div class=\"1095\" style=\"display: none;\"><div style=\"display: table-cell;\"></div><div style=\"display: table-cell;\">min_border_left&nbsp;=&nbsp;None,</div></div><div class=\"1095\" style=\"display: none;\"><div style=\"display: table-cell;\"></div><div style=\"display: table-cell;\">min_border_right&nbsp;=&nbsp;None,</div></div><div class=\"1095\" style=\"display: none;\"><div style=\"display: table-cell;\"></div><div style=\"display: table-cell;\">min_border_top&nbsp;=&nbsp;None,</div></div><div class=\"1095\" style=\"display: none;\"><div style=\"display: table-cell;\"></div><div style=\"display: table-cell;\">min_height&nbsp;=&nbsp;None,</div></div><div class=\"1095\" style=\"display: none;\"><div style=\"display: table-cell;\"></div><div style=\"display: table-cell;\">min_width&nbsp;=&nbsp;None,</div></div><div class=\"1095\" style=\"display: none;\"><div style=\"display: table-cell;\"></div><div style=\"display: table-cell;\">name&nbsp;=&nbsp;None,</div></div><div class=\"1095\" style=\"display: none;\"><div style=\"display: table-cell;\"></div><div style=\"display: table-cell;\">outline_line_alpha&nbsp;=&nbsp;1.0,</div></div><div class=\"1095\" style=\"display: none;\"><div style=\"display: table-cell;\"></div><div style=\"display: table-cell;\">outline_line_cap&nbsp;=&nbsp;'butt',</div></div><div class=\"1095\" style=\"display: none;\"><div style=\"display: table-cell;\"></div><div style=\"display: table-cell;\">outline_line_color&nbsp;=&nbsp;'#e5e5e5',</div></div><div class=\"1095\" style=\"display: none;\"><div style=\"display: table-cell;\"></div><div style=\"display: table-cell;\">outline_line_dash&nbsp;=&nbsp;[],</div></div><div class=\"1095\" style=\"display: none;\"><div style=\"display: table-cell;\"></div><div style=\"display: table-cell;\">outline_line_dash_offset&nbsp;=&nbsp;0,</div></div><div class=\"1095\" style=\"display: none;\"><div style=\"display: table-cell;\"></div><div style=\"display: table-cell;\">outline_line_join&nbsp;=&nbsp;'bevel',</div></div><div class=\"1095\" style=\"display: none;\"><div style=\"display: table-cell;\"></div><div style=\"display: table-cell;\">outline_line_width&nbsp;=&nbsp;1,</div></div><div class=\"1095\" style=\"display: none;\"><div style=\"display: table-cell;\"></div><div style=\"display: table-cell;\">output_backend&nbsp;=&nbsp;'canvas',</div></div><div class=\"1095\" style=\"display: none;\"><div style=\"display: table-cell;\"></div><div style=\"display: table-cell;\">plot_height&nbsp;=&nbsp;400,</div></div><div class=\"1095\" style=\"display: none;\"><div style=\"display: table-cell;\"></div><div style=\"display: table-cell;\">plot_width&nbsp;=&nbsp;600,</div></div><div class=\"1095\" style=\"display: none;\"><div style=\"display: table-cell;\"></div><div style=\"display: table-cell;\">renderers&nbsp;=&nbsp;[GlyphRenderer(id='1037', ...)],</div></div><div class=\"1095\" style=\"display: none;\"><div style=\"display: table-cell;\"></div><div style=\"display: table-cell;\">reset_policy&nbsp;=&nbsp;'standard',</div></div><div class=\"1095\" style=\"display: none;\"><div style=\"display: table-cell;\"></div><div style=\"display: table-cell;\">right&nbsp;=&nbsp;[],</div></div><div class=\"1095\" style=\"display: none;\"><div style=\"display: table-cell;\"></div><div style=\"display: table-cell;\">sizing_mode&nbsp;=&nbsp;None,</div></div><div class=\"1095\" style=\"display: none;\"><div style=\"display: table-cell;\"></div><div style=\"display: table-cell;\">subscribed_events&nbsp;=&nbsp;[],</div></div><div class=\"1095\" style=\"display: none;\"><div style=\"display: table-cell;\"></div><div style=\"display: table-cell;\">tags&nbsp;=&nbsp;[],</div></div><div class=\"1095\" style=\"display: none;\"><div style=\"display: table-cell;\"></div><div style=\"display: table-cell;\">title&nbsp;=&nbsp;Title(id='1042', ...),</div></div><div class=\"1095\" style=\"display: none;\"><div style=\"display: table-cell;\"></div><div style=\"display: table-cell;\">title_location&nbsp;=&nbsp;'above',</div></div><div class=\"1095\" style=\"display: none;\"><div style=\"display: table-cell;\"></div><div style=\"display: table-cell;\">toolbar&nbsp;=&nbsp;Toolbar(id='1027', ...),</div></div><div class=\"1095\" style=\"display: none;\"><div style=\"display: table-cell;\"></div><div style=\"display: table-cell;\">toolbar_location&nbsp;=&nbsp;'right',</div></div><div class=\"1095\" style=\"display: none;\"><div style=\"display: table-cell;\"></div><div style=\"display: table-cell;\">toolbar_sticky&nbsp;=&nbsp;True,</div></div><div class=\"1095\" style=\"display: none;\"><div style=\"display: table-cell;\"></div><div style=\"display: table-cell;\">visible&nbsp;=&nbsp;True,</div></div><div class=\"1095\" style=\"display: none;\"><div style=\"display: table-cell;\"></div><div style=\"display: table-cell;\">width&nbsp;=&nbsp;None,</div></div><div class=\"1095\" style=\"display: none;\"><div style=\"display: table-cell;\"></div><div style=\"display: table-cell;\">width_policy&nbsp;=&nbsp;'auto',</div></div><div class=\"1095\" style=\"display: none;\"><div style=\"display: table-cell;\"></div><div style=\"display: table-cell;\">x_range&nbsp;=&nbsp;DataRange1d(id='1004', ...),</div></div><div class=\"1095\" style=\"display: none;\"><div style=\"display: table-cell;\"></div><div style=\"display: table-cell;\">x_scale&nbsp;=&nbsp;LinearScale(id='1008', ...),</div></div><div class=\"1095\" style=\"display: none;\"><div style=\"display: table-cell;\"></div><div style=\"display: table-cell;\">y_range&nbsp;=&nbsp;DataRange1d(id='1006', ...),</div></div><div class=\"1095\" style=\"display: none;\"><div style=\"display: table-cell;\"></div><div style=\"display: table-cell;\">y_scale&nbsp;=&nbsp;LinearScale(id='1010', ...))</div></div></div>\n",
       "<script>\n",
       "(function() {\n",
       "  var expanded = false;\n",
       "  var ellipsis = document.getElementById(\"1096\");\n",
       "  ellipsis.addEventListener(\"click\", function() {\n",
       "    var rows = document.getElementsByClassName(\"1095\");\n",
       "    for (var i = 0; i < rows.length; i++) {\n",
       "      var el = rows[i];\n",
       "      el.style.display = expanded ? \"none\" : \"table-row\";\n",
       "    }\n",
       "    ellipsis.innerHTML = expanded ? \"&hellip;)\" : \"&lsaquo;&lsaquo;&lsaquo;\";\n",
       "    expanded = !expanded;\n",
       "  });\n",
       "})();\n",
       "</script>\n"
      ],
      "text/plain": [
       "Figure(id='1003', ...)"
      ]
     },
     "execution_count": 19,
     "metadata": {},
     "output_type": "execute_result"
    }
   ],
   "source": [
    "draw_vectors(\n",
    "    examples[\"transformed_features\"][:, 0], \n",
    "    examples[\"transformed_features\"][:, 1], \n",
    "    color=[[\"red\", \"blue\"][t] for t in examples[\"targets\"]]\n",
    "    )"
   ]
  },
  {
   "cell_type": "markdown",
   "metadata": {
    "id": "0fNF6LRQ9MPI"
   },
   "source": [
    "Скорее всего, ты увидел не сильно различающиеся классы. Возможно, обычный линейный классификатор не очень хорошо справится с задачей. Надо будет делать глубокую(хотя бы два слоя) нейронную сеть.\n",
    "\n",
    "Подготовим загрузчики данных.\n",
    "Усреднее векторов будем делать в \"батчевалке\"(`collate_fn`). Она используется для того, чтобы собирать из данных `torch.Tensor` батчи, которые можно отправлять в модель.\n"
   ]
  },
  {
   "cell_type": "code",
   "execution_count": 21,
   "metadata": {
    "id": "y1XapsADtITv"
   },
   "outputs": [],
   "source": [
    "from torch.utils.data import DataLoader\n",
    "\n",
    "\n",
    "batch_size = 1024\n",
    "num_workers = 4\n",
    "\n",
    "def average_emb(batch):\n",
    "    features = [np.mean(b[\"feature\"], axis=0) for b in batch]\n",
    "    targets = [b[\"target\"] for b in batch]\n",
    "\n",
    "    return {\"features\": torch.FloatTensor(features), \"targets\": torch.LongTensor(targets)}\n",
    "\n",
    "\n",
    "train_size = math.ceil(len(dev) * 0.8)\n",
    "\n",
    "train, valid = random_split(dev, [train_size, len(dev) - train_size])\n",
    "\n",
    "train_loader = DataLoader(train, batch_size=batch_size, num_workers=num_workers, shuffle=True, drop_last=True, collate_fn=average_emb)\n",
    "valid_loader = DataLoader(valid, batch_size=batch_size, num_workers=num_workers, shuffle=False, drop_last=False, collate_fn=average_emb)"
   ]
  },
  {
   "cell_type": "markdown",
   "metadata": {
    "id": "p-zs0WEK-Vkt"
   },
   "source": [
    "Для обученния и тестирования нейросетевой модели сделаем отдельные функции."
   ]
  },
  {
   "cell_type": "code",
   "execution_count": 31,
   "metadata": {
    "id": "U--T2Gjw1r27"
   },
   "outputs": [],
   "source": [
    "from tqdm.notebook import tqdm\n",
    "\n",
    "\n",
    "def training(model, optimizer, criterion, train_loader, epoch, device=\"cpu\"):\n",
    "    #pbar = tqdm(train_loader, desc=f\"Epoch {e + 1}. Train Loss: {0}\")\n",
    "    print('-2')\n",
    "    model.train()\n",
    "    print('-1')\n",
    "    for batch in train_loader:\n",
    "        print('0')\n",
    "        features = batch[\"features\"].to(device)\n",
    "        targets = batch[\"targets\"].to(device)\n",
    "        print('1')\n",
    "        optimizer.zero_grad()\n",
    "        print('2')\n",
    "        outputs = model(features) # Получи предсказания модели\n",
    "        print('3')\n",
    "        loss = criterion(outputs, torch.FloatTensor(targets)) # Посчитай лосс\n",
    "        print('4')\n",
    "        loss.backward()\n",
    "        print('5')\n",
    "        optimizer.step() # Обнови параметры модели\n",
    "        \n",
    "        #pbar.set_description(f\"Epoch {e + 1}. Train Loss: {loss:.4}\")\n",
    "    \n",
    "\n",
    "def testing(model, criterion, test_loader, device=\"cpu\"):\n",
    "    pbar = tqdm(test_loader, desc=f\"Test Loss: {0}, Test Acc: {0}\")\n",
    "    mean_loss = 0\n",
    "    mean_acc = 0\n",
    "    model.eval()\n",
    "    with torch.no_grad():\n",
    "        for batch in pbar:\n",
    "            features = batch[\"features\"].to(device)\n",
    "            targets = batch[\"targets\"].to(device)\n",
    "\n",
    "            outputs = model(features) # Получи предсказания модели\n",
    "            loss = criterion(outputs, targets) # Посчитай лосс\n",
    "            acc = ((output>0.5).float() == targets).float().sum()/len(targets) # Посчитай точность модели\n",
    "\n",
    "            mean_loss += loss.item()\n",
    "            mean_acc += acc.item()\n",
    "\n",
    "            pbar.set_description(f\"Test Loss: {loss:.4}, Test Acc: {acc:.4}\")\n",
    "\n",
    "    pbar.set_description(f\"Test Loss: {mean_loss / len(test_loader):.4}, Test Acc: {mean_acc / len(test_loader):.4}\")\n",
    "\n",
    "    return {\"Test Loss\": mean_loss / len(test_loader), \"Test Acc\": mean_acc / len(test_loader)}"
   ]
  },
  {
   "cell_type": "markdown",
   "metadata": {
    "id": "oVg_XBBb-YBH"
   },
   "source": [
    "Создадим модель, оптимизатор и целевую функцию. Можете создавать любую модель, с любым количеством слоев, функций активации и прочее.\n"
   ]
  },
  {
   "cell_type": "code",
   "execution_count": 32,
   "metadata": {
    "id": "EBoZ4F3Fx1Hm"
   },
   "outputs": [],
   "source": [
    "import torch.nn as nn\n",
    "from torch.optim import Adam\n",
    "\n",
    "\n",
    "# Не забудь поиграться с параметрами ;)\n",
    "vector_size = dev.word2vec.vector_size\n",
    "num_classes = 2\n",
    "lr = 1e-2\n",
    "num_epochs = 1\n",
    "\n",
    "layers = []\n",
    "layers.append(nn.Linear(300, 50))\n",
    "layers.append(nn.Sigmoid())\n",
    "layers.append(nn.Linear(50, 50))\n",
    "layers.append(nn.Sigmoid())\n",
    "layers.append(nn.Linear(50, 1))\n",
    "layers.append(nn.Sigmoid())\n",
    "model = nn.Sequential(*layers) # Твоя модель\n",
    "\n",
    "model = model.cuda()\n",
    "criterion = nn.BCELoss() # Твой лосс\n",
    "optimizer = Adam(model.parameters(), lr=lr) # Твой оптимайзер"
   ]
  },
  {
   "cell_type": "markdown",
   "metadata": {
    "id": "-AitU8AR-zBj"
   },
   "source": [
    "Обучим модель и протестируем её.\n",
    "После каждой эпохи, проверим качество модели по валидационной части датасета. Если метрика стала лучше, будем сохранять модель. Подумай, какая метрика (точность или лосс) будет лучше работать в этой задаче? \n",
    "\n",
    "Здесь и далее реализованно с помощью лосс. Если думаешь, что лучше сравнивать модель через качество, то поменяй код выбора модели."
   ]
  },
  {
   "cell_type": "code",
   "execution_count": null,
   "metadata": {
    "id": "gKhk71Pmx1F1"
   },
   "outputs": [
    {
     "name": "stdout",
     "output_type": "stream",
     "text": [
      "starting training\n",
      "-2\n",
      "-1\n"
     ]
    }
   ],
   "source": [
    "best_metric = np.inf\n",
    "for e in range(num_epochs):\n",
    "    print('starting training')\n",
    "    training(model, optimizer, criterion, train_loader, e, device)\n",
    "    print('before log')\n",
    "    log = testing(model, criterion, valid_loader, device)\n",
    "    print(log)\n",
    "    print('before if')\n",
    "    if log[\"Test Loss\"] < best_metric:\n",
    "        print('trying to save')\n",
    "        torch.save(model.state_dict(), \"model.pt\")\n",
    "        best_metric = log[\"Test Loss\"]"
   ]
  },
  {
   "cell_type": "code",
   "execution_count": null,
   "metadata": {},
   "outputs": [],
   "source": [
    "print('()')"
   ]
  },
  {
   "cell_type": "code",
   "execution_count": null,
   "metadata": {
    "id": "di4dGwD4x1Dt"
   },
   "outputs": [],
   "source": [
    "test_loader = DataLoader(\n",
    "    TwitterDataset(test_data, \"text\", \"emotion\", word2vec), \n",
    "    batch_size=batch_size, \n",
    "    num_workers=num_workers, \n",
    "    shuffle=False,\n",
    "    drop_last=False, \n",
    "    collate_fn=average_emb)\n",
    "\n",
    "model.load_state_dict(torch.load(\"model.pt\", map_location=device))\n",
    "\n",
    "print(testing(model, criterion, test_loader, device=device))"
   ]
  },
  {
   "cell_type": "markdown",
   "metadata": {
    "id": "TGhiep9Z-Ata"
   },
   "source": [
    "## TF-iDF\n",
    "---\n",
    "\n",
    "Вместо обычного усреднения эмбеддингов их можно дополнительно перевзвесить. Для этого воспользуемся алгоритмом `TD-iDF`. Он уже реализован в библиотеке `scikit-learn`, остается только его добавить в наш пайплайн."
   ]
  },
  {
   "cell_type": "code",
   "execution_count": null,
   "metadata": {
    "id": "zCPPkqA_-CS9"
   },
   "outputs": [],
   "source": [
    "from collections import defaultdict\n",
    "from typing import Dict\n",
    "\n",
    "from sklearn.feature_extraction.text import TfidfVectorizer\n",
    "\n",
    "\n",
    "class TwitterDatasetTfIdf(TwitterDataset):\n",
    "    def __init__(self, data: pd.DataFrame, feature_column: str, target_column: str, word2vec: gensim.models.Word2Vec, weights: Dict[str, float] = None):\n",
    "        super().__init__(data, feature_column, target_column, word2vec)\n",
    "\n",
    "        if weights is None:\n",
    "            self.weights = self.get_tf_idf_()\n",
    "        else:\n",
    "            self.weights = weights\n",
    "\n",
    "    def get_embeddings_(self, tokens):\n",
    "        embeddings = [(self.word2vec.get_vector(token) - self.mean) / self.std  * self.weights.get(token, 1) for token in tokens]\n",
    "\n",
    "        if len(embeddings) == 0:\n",
    "            embeddings = np.zeros((1, self.word2vec.vector_size))\n",
    "        else:\n",
    "            embeddings = np.array(embeddings)\n",
    "            if len(embeddings.shape) == 1:\n",
    "                embeddings = embeddings.reshape(-1, 1)\n",
    "\n",
    "        return embeddings\n",
    "\n",
    "    def get_tf_idf_(self):\n",
    "        # Надо обучить tfidf на очищенном тексте. Но он принимает только список текстов, а не список списка токенов. Надо превратить второе в первое\n",
    "        tokenized_texts = ...\n",
    "        tf_idf = TfidfVectorizer()\n",
    "        # Обучи tf-idf\n",
    "        return dict(zip(tf_idf.get_feature_names(), tf_idf.idf_))\n"
   ]
  },
  {
   "cell_type": "code",
   "execution_count": null,
   "metadata": {
    "id": "w0CtoHf_M7xY"
   },
   "outputs": [],
   "source": [
    "dev = TwitterDatasetTfIdf(dev_data, \"text\", \"emotion\", word2vec)"
   ]
  },
  {
   "cell_type": "markdown",
   "metadata": {
    "id": "S4WzviI8_Ofq"
   },
   "source": [
    "Посмотрим на сложность получившейся задачи используя визуализацию через `PCA`."
   ]
  },
  {
   "cell_type": "code",
   "execution_count": null,
   "metadata": {
    "id": "eP0CgnM9M7wQ"
   },
   "outputs": [],
   "source": [
    "indexes = np.arange(len(dev))\n",
    "np.random.shuffle(indexes)\n",
    "example_indexes = indexes[::1000]\n",
    "\n",
    "examples = {\"features\": [np.sum(dev[i][\"feature\"], axis=0) for i in example_indexes], \n",
    "            \"targets\": [dev[i][\"target\"] for i in example_indexes]}\n",
    "print(len(examples[\"features\"]))"
   ]
  },
  {
   "cell_type": "code",
   "execution_count": null,
   "metadata": {
    "id": "E7wDp159TTG5"
   },
   "outputs": [],
   "source": [
    "from sklearn.decomposition import PCA\n",
    "\n",
    "\n",
    "pca = PCA(n_components=2)\n",
    "examples[\"transformed_features\"] = # Ты знаешь, что делать"
   ]
  },
  {
   "cell_type": "code",
   "execution_count": null,
   "metadata": {
    "id": "sKESl5wLTTFm"
   },
   "outputs": [],
   "source": [
    "draw_vectors(\n",
    "    examples[\"transformed_features\"][:, 0], \n",
    "    examples[\"transformed_features\"][:, 1], \n",
    "    color=[[\"red\", \"blue\"][t] for t in examples[\"targets\"]]\n",
    "    )"
   ]
  },
  {
   "cell_type": "markdown",
   "metadata": {
    "id": "RiW3d1mg_Zs7"
   },
   "source": [
    "Создать нейросетку, обучим её на этих данных."
   ]
  },
  {
   "cell_type": "code",
   "execution_count": null,
   "metadata": {
    "id": "Nl1FSgfnTTC-"
   },
   "outputs": [],
   "source": [
    "train_size = math.ceil(len(dev) * 0.8)\n",
    "\n",
    "train, valid = random_split(dev, [train_size, len(dev) - train_size])\n",
    "\n",
    "train_loader = DataLoader(train, batch_size=batch_size, num_workers=num_workers, shuffle=True, drop_last=True, collate_fn=average_emb)\n",
    "valid_loader = DataLoader(valid, batch_size=batch_size, num_workers=num_workers, shuffle=False, drop_last=False, collate_fn=average_emb)"
   ]
  },
  {
   "cell_type": "code",
   "execution_count": null,
   "metadata": {
    "id": "IpTbK_TETTBY"
   },
   "outputs": [],
   "source": [
    "# Не забудь поиграться с параметрами ;)\n",
    "\n",
    "vector_size = dev.word2vec.vector_size\n",
    "num_classes = 2\n",
    "lr = 1e-2\n",
    "num_epochs = 1\n",
    "\n",
    "model = # Твоя модель\n",
    "model = model.cuda()\n",
    "criterion = # Твой лосс\n",
    "optimizer = # Твой оптимайзер"
   ]
  },
  {
   "cell_type": "code",
   "execution_count": null,
   "metadata": {
    "id": "g0kO5Z_MTS_S"
   },
   "outputs": [],
   "source": [
    "best_metric = np.inf\n",
    "for e in range(num_epochs):\n",
    "    training(model, optimizer, criterion, train_loader, e, device)\n",
    "    print(testing(model, criterion, valid_loader, device))\n",
    "    print(log)\n",
    "    if log[\"Test Loss\"] < best_metric:\n",
    "        torch.save(model.state_dict(), \"model.pt\")\n",
    "        best_metric = log[\"Test Loss\"]"
   ]
  },
  {
   "cell_type": "code",
   "execution_count": null,
   "metadata": {
    "id": "ekAnIC9XM7th"
   },
   "outputs": [],
   "source": [
    "test = TwitterDatasetTfIdf(test_data, \"text\", \"emotion\", word2vec, weights=dev.weights)\n",
    "\n",
    "test_loader = DataLoader(\n",
    "    test, \n",
    "    batch_size=batch_size, \n",
    "    num_workers=num_workers, \n",
    "    shuffle=False,\n",
    "    drop_last=False, \n",
    "    collate_fn=average_emb)\n",
    "\n",
    "model.load_state_dict(torch.load(\"model.pt\", map_location=device))\n",
    "\n",
    "print(testing(model, criterion, test_loader, device=device))"
   ]
  },
  {
   "cell_type": "markdown",
   "metadata": {
    "id": "07pomK_qAcN4"
   },
   "source": [
    "Есть ли разница в качестве между способами? Получилось ли улучшить качество модели?\n",
    "\n",
    "----\n",
    "<твой ответ>\n",
    "\n",
    "----"
   ]
  },
  {
   "cell_type": "markdown",
   "metadata": {
    "id": "mdBiO_BL_j8z"
   },
   "source": [
    "Сделай небольшое исследование:\n",
    "- Попробуй сделать несколько нейросеток в качестве классификатора\n",
    "- Попробуй другие предобученные эмбеддинги\n",
    "- Попробуй очистить текст от ников (\"@username\"), url-ов и других символов\n",
    "\n",
    "Для реализации последнего тебе могут помочь регулярные выражения (`import re`). Напише ниже отчет, что ты попробовал и что получилось.\n",
    "\n",
    "---\n",
    "\n",
    "<твой отчет>\n",
    "\n",
    "---"
   ]
  },
  {
   "cell_type": "code",
   "execution_count": null,
   "metadata": {
    "id": "b3azHINnM7qi"
   },
   "outputs": [],
   "source": []
  }
 ],
 "metadata": {
  "accelerator": "GPU",
  "colab": {
   "name": "homework_embeddings",
   "private_outputs": true,
   "provenance": []
  },
  "kernelspec": {
   "display_name": "Python 3",
   "language": "python",
   "name": "python3"
  },
  "language_info": {
   "codemirror_mode": {
    "name": "ipython",
    "version": 3
   },
   "file_extension": ".py",
   "mimetype": "text/x-python",
   "name": "python",
   "nbconvert_exporter": "python",
   "pygments_lexer": "ipython3",
   "version": "3.7.8"
  }
 },
 "nbformat": 4,
 "nbformat_minor": 4
}
