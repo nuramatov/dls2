{
 "cells": [
  {
   "cell_type": "markdown",
   "metadata": {
    "id": "eYtJxkhKpYK2"
   },
   "source": [
    "# Embeddings\n",
    "\n",
    "Привет! Сегодня ты поработаешь с эмбеддингами: сделаешь классификатор эмоции твитов. Для начала, загрузи их:"
   ]
  },
  {
   "cell_type": "code",
   "execution_count": 12,
   "metadata": {
    "id": "wXjhtsfF_gBK"
   },
   "outputs": [],
   "source": [
    "#!gdown https://drive.google.com/uc?id=1eE1FiUkXkcbw0McId4i7qY-L8hH-_Qph&export=download\n",
    "#!unzip archive.zip"
   ]
  },
  {
   "cell_type": "markdown",
   "metadata": {
    "id": "Sh6wW-K53Mle"
   },
   "source": [
    "Заимпортируй библиотеки и сделай работу скриптов вопсроизводимой."
   ]
  },
  {
   "cell_type": "code",
   "execution_count": 13,
   "metadata": {},
   "outputs": [],
   "source": [
    "# conda install gensim=3.4.0 smart_open=1.9.0"
   ]
  },
  {
   "cell_type": "code",
   "execution_count": 14,
   "metadata": {
    "id": "A2Y5CHRm6NFe"
   },
   "outputs": [],
   "source": [
    "import math\n",
    "import random\n",
    "import string\n",
    "\n",
    "import numpy as np\n",
    "import pandas as pd\n",
    "import seaborn as sns\n",
    "\n",
    "import torch\n",
    "import nltk\n",
    "import gensim\n",
    "import gensim.downloader as api"
   ]
  },
  {
   "cell_type": "code",
   "execution_count": 15,
   "metadata": {
    "id": "73Lb0wbESrgQ"
   },
   "outputs": [],
   "source": [
    "random.seed(42)\n",
    "np.random.seed(42)\n",
    "torch.random.manual_seed(42)\n",
    "torch.cuda.random.manual_seed(42)\n",
    "torch.cuda.random.manual_seed_all(42)\n",
    "\n",
    "device = \"cuda\" if torch.cuda.is_available() else \"cpu\""
   ]
  },
  {
   "cell_type": "code",
   "execution_count": 16,
   "metadata": {
    "id": "L_Wv-4bu83Fl"
   },
   "outputs": [],
   "source": [
    "data = pd.read_csv(\"training.1600000.processed.noemoticon.csv\", encoding=\"latin\", header=None, names=[\"emotion\", \"id\", \"date\", \"flag\", \"user\", \"text\"])"
   ]
  },
  {
   "cell_type": "markdown",
   "metadata": {
    "id": "RY1pvYDS3Yuj"
   },
   "source": [
    "Посмотрим на данные"
   ]
  },
  {
   "cell_type": "code",
   "execution_count": 17,
   "metadata": {
    "id": "jST2tjgjCTWD"
   },
   "outputs": [
    {
     "data": {
      "text/html": [
       "<div>\n",
       "<style scoped>\n",
       "    .dataframe tbody tr th:only-of-type {\n",
       "        vertical-align: middle;\n",
       "    }\n",
       "\n",
       "    .dataframe tbody tr th {\n",
       "        vertical-align: top;\n",
       "    }\n",
       "\n",
       "    .dataframe thead th {\n",
       "        text-align: right;\n",
       "    }\n",
       "</style>\n",
       "<table border=\"1\" class=\"dataframe\">\n",
       "  <thead>\n",
       "    <tr style=\"text-align: right;\">\n",
       "      <th></th>\n",
       "      <th>emotion</th>\n",
       "      <th>id</th>\n",
       "      <th>date</th>\n",
       "      <th>flag</th>\n",
       "      <th>user</th>\n",
       "      <th>text</th>\n",
       "    </tr>\n",
       "  </thead>\n",
       "  <tbody>\n",
       "    <tr>\n",
       "      <th>0</th>\n",
       "      <td>0</td>\n",
       "      <td>1467810369</td>\n",
       "      <td>Mon Apr 06 22:19:45 PDT 2009</td>\n",
       "      <td>NO_QUERY</td>\n",
       "      <td>_TheSpecialOne_</td>\n",
       "      <td>@switchfoot http://twitpic.com/2y1zl - Awww, t...</td>\n",
       "    </tr>\n",
       "    <tr>\n",
       "      <th>1</th>\n",
       "      <td>0</td>\n",
       "      <td>1467810672</td>\n",
       "      <td>Mon Apr 06 22:19:49 PDT 2009</td>\n",
       "      <td>NO_QUERY</td>\n",
       "      <td>scotthamilton</td>\n",
       "      <td>is upset that he can't update his Facebook by ...</td>\n",
       "    </tr>\n",
       "    <tr>\n",
       "      <th>2</th>\n",
       "      <td>0</td>\n",
       "      <td>1467810917</td>\n",
       "      <td>Mon Apr 06 22:19:53 PDT 2009</td>\n",
       "      <td>NO_QUERY</td>\n",
       "      <td>mattycus</td>\n",
       "      <td>@Kenichan I dived many times for the ball. Man...</td>\n",
       "    </tr>\n",
       "    <tr>\n",
       "      <th>3</th>\n",
       "      <td>0</td>\n",
       "      <td>1467811184</td>\n",
       "      <td>Mon Apr 06 22:19:57 PDT 2009</td>\n",
       "      <td>NO_QUERY</td>\n",
       "      <td>ElleCTF</td>\n",
       "      <td>my whole body feels itchy and like its on fire</td>\n",
       "    </tr>\n",
       "    <tr>\n",
       "      <th>4</th>\n",
       "      <td>0</td>\n",
       "      <td>1467811193</td>\n",
       "      <td>Mon Apr 06 22:19:57 PDT 2009</td>\n",
       "      <td>NO_QUERY</td>\n",
       "      <td>Karoli</td>\n",
       "      <td>@nationwideclass no, it's not behaving at all....</td>\n",
       "    </tr>\n",
       "  </tbody>\n",
       "</table>\n",
       "</div>"
      ],
      "text/plain": [
       "   emotion          id                          date      flag  \\\n",
       "0        0  1467810369  Mon Apr 06 22:19:45 PDT 2009  NO_QUERY   \n",
       "1        0  1467810672  Mon Apr 06 22:19:49 PDT 2009  NO_QUERY   \n",
       "2        0  1467810917  Mon Apr 06 22:19:53 PDT 2009  NO_QUERY   \n",
       "3        0  1467811184  Mon Apr 06 22:19:57 PDT 2009  NO_QUERY   \n",
       "4        0  1467811193  Mon Apr 06 22:19:57 PDT 2009  NO_QUERY   \n",
       "\n",
       "              user                                               text  \n",
       "0  _TheSpecialOne_  @switchfoot http://twitpic.com/2y1zl - Awww, t...  \n",
       "1    scotthamilton  is upset that he can't update his Facebook by ...  \n",
       "2         mattycus  @Kenichan I dived many times for the ball. Man...  \n",
       "3          ElleCTF    my whole body feels itchy and like its on fire   \n",
       "4           Karoli  @nationwideclass no, it's not behaving at all....  "
      ]
     },
     "execution_count": 17,
     "metadata": {},
     "output_type": "execute_result"
    }
   ],
   "source": [
    "data.head()"
   ]
  },
  {
   "cell_type": "code",
   "execution_count": 18,
   "metadata": {
    "id": "kCBwe0wR83C2"
   },
   "outputs": [
    {
     "name": "stdout",
     "output_type": "stream",
     "text": [
      "@chrishasboobs AHHH I HOPE YOUR OK!!! \n",
      "@misstoriblack cool , i have no tweet apps  for my razr 2\n",
      "@TiannaChaos i know  just family drama. its lame.hey next time u hang out with kim n u guys like have a sleepover or whatever, ill call u\n",
      "School email won't open  and I have geography stuff on there to revise! *Stupid School* :'(\n",
      "upper airways problem \n",
      "Going to miss Pastor's sermon on Faith... \n",
      "on lunch....dj should come eat with me \n",
      "@piginthepoke oh why are you feeling like that? \n",
      "gahh noo!peyton needs to live!this is horrible \n",
      "@mrstessyman thank you glad you like it! There is a product review bit on the site  Enjoy knitting it!\n"
     ]
    }
   ],
   "source": [
    "examples = data[\"text\"].sample(10)\n",
    "print(\"\\n\".join(examples))"
   ]
  },
  {
   "cell_type": "markdown",
   "metadata": {
    "id": "GvcYW8aX3mKt"
   },
   "source": [
    "Текст очень грязные. Надо добавить очистку текста в его предобработку. \n",
    "\n",
    "Чтобы сравнивать различные методы обработки текста/модели/прочее, разделим датасет на dev(для обучения модели) и test(для получения качества модели)."
   ]
  },
  {
   "cell_type": "code",
   "execution_count": 19,
   "metadata": {
    "id": "f8hUK-jnQg6O"
   },
   "outputs": [],
   "source": [
    "indexes = np.arange(data.shape[0])\n",
    "np.random.shuffle(indexes)\n",
    "dev_size = math.ceil(data.shape[0] * 0.8)\n",
    "\n",
    "dev_indexes = indexes[:dev_size]\n",
    "test_indexes = indexes[dev_size:]\n",
    "\n",
    "dev_data = data.iloc[dev_indexes]\n",
    "test_data = data.iloc[test_indexes]\n",
    "\n",
    "dev_data.reset_index(drop=True, inplace=True)\n",
    "test_data.reset_index(drop=True, inplace=True)"
   ]
  },
  {
   "cell_type": "markdown",
   "metadata": {
    "id": "6ivcpeFoCnZA"
   },
   "source": [
    "## Обработка текста"
   ]
  },
  {
   "cell_type": "markdown",
   "metadata": {
    "id": "Df4nca285Dar"
   },
   "source": [
    "Стокенизируем текст, избавим от знаков пунктуации и мелких слов."
   ]
  },
  {
   "cell_type": "code",
   "execution_count": 20,
   "metadata": {
    "id": "nsNHNDES9ZVF"
   },
   "outputs": [
    {
     "name": "stdout",
     "output_type": "stream",
     "text": [
      "@ claire_nelson i ' m on the north devon coast the next few weeks will be down in devon again in may sometime i hope though !\n"
     ]
    }
   ],
   "source": [
    "tokenizer = nltk.WordPunctTokenizer()\n",
    "line = tokenizer.tokenize(dev_data[\"text\"][0].lower())\n",
    "print(\" \".join(line))"
   ]
  },
  {
   "cell_type": "code",
   "execution_count": 21,
   "metadata": {
    "id": "GcBS_u_hTuxp"
   },
   "outputs": [
    {
     "name": "stdout",
     "output_type": "stream",
     "text": [
      "north devon coast next weeks will down devon again sometime hope though\n"
     ]
    }
   ],
   "source": [
    "filtered_line = [w for w in line if all(c not in string.punctuation for c in w) and len(w) > 3]\n",
    "print(\" \".join(filtered_line))"
   ]
  },
  {
   "cell_type": "markdown",
   "metadata": {
    "id": "cuFmlXkC6E7X"
   },
   "source": [
    "Загрузим предобученную модель эмбеддингов. Если хотите, можно попробовать другую. Полный список можно найти здесь: https://github.com/RaRe-Technologies/gensim-data . "
   ]
  },
  {
   "cell_type": "code",
   "execution_count": 22,
   "metadata": {
    "id": "cACJpje2T5bc"
   },
   "outputs": [
    {
     "name": "stderr",
     "output_type": "stream",
     "text": [
      "/home/arsen/miniconda3/envs/dlenv/lib/python3.7/site-packages/smart_open/smart_open_lib.py:402: UserWarning: This function is deprecated, use smart_open.open instead. See the migration notes for details: https://github.com/RaRe-Technologies/smart_open/blob/master/README.rst#migrating-to-the-new-open-function\n",
      "  'See the migration notes for details: %s' % _MIGRATION_NOTES_URL\n"
     ]
    }
   ],
   "source": [
    "word2vec = api.load(\"word2vec-google-news-300\")"
   ]
  },
  {
   "cell_type": "code",
   "execution_count": 23,
   "metadata": {
    "id": "NafmYHrkT5YD"
   },
   "outputs": [
    {
     "name": "stdout",
     "output_type": "stream",
     "text": [
      "(300,)\n"
     ]
    }
   ],
   "source": [
    "emb_line = [word2vec.get_vector(w) for w in filtered_line if w in word2vec]\n",
    "print(sum(emb_line).shape)"
   ]
  },
  {
   "cell_type": "markdown",
   "metadata": {
    "id": "LTS6LCkd6_E7"
   },
   "source": [
    "Эмбеддинги не нормализированны, поэтому это тоже надо делать (нейросети и не только любят нормальные данные)."
   ]
  },
  {
   "cell_type": "code",
   "execution_count": 24,
   "metadata": {
    "id": "3PyLTZ6xf3Oq"
   },
   "outputs": [
    {
     "name": "stdout",
     "output_type": "stream",
     "text": [
      "(300,)\n",
      "[False, False, False, False, False, False, False, False, False, False, False, False]\n"
     ]
    }
   ],
   "source": [
    "mean = np.mean(word2vec.vectors, 0)\n",
    "std = np.std(word2vec.vectors, 0)\n",
    "norm_emb_line = [(word2vec.get_vector(w) - mean) / std for w in filtered_line if w in word2vec and len(w) > 3]\n",
    "print(sum(norm_emb_line).shape)\n",
    "print([all(norm_emb_line[i] == emb_line[i]) for i in range(len(emb_line))])"
   ]
  },
  {
   "cell_type": "markdown",
   "metadata": {
    "id": "q7vm6Ppd7Ubw"
   },
   "source": [
    "Сделаем датасет, который будет по запросу возвращать подготовленные данные."
   ]
  },
  {
   "cell_type": "markdown",
   "metadata": {},
   "source": [
    "# DATASET"
   ]
  },
  {
   "cell_type": "code",
   "execution_count": 25,
   "metadata": {
    "id": "b4eZajF7pZ1X"
   },
   "outputs": [],
   "source": [
    "from torch.utils.data import Dataset, random_split\n",
    "import re\n",
    "\n",
    "class TwitterDataset(Dataset):\n",
    "    def __init__(self, data: pd.DataFrame, feature_column: str, target_column: str, word2vec: gensim.models.Word2Vec, remove_links: bool = True):\n",
    "        self.tokenizer = nltk.WordPunctTokenizer()\n",
    "        \n",
    "        self.data = data\n",
    "\n",
    "        self.feature_column = feature_column\n",
    "        self.target_column = target_column\n",
    "        \n",
    "        self.word2vec = word2vec\n",
    "\n",
    "        self.label2num = lambda label: 0 if label == 0 else 1\n",
    "        self.mean = np.mean(word2vec.vectors, axis=0)\n",
    "        self.std = np.std(word2vec.vectors, axis=0)\n",
    "        \n",
    "        if remove_links:\n",
    "            data['text'].replace(r\"@\\w+\\ \", '', regex=True, inplace=True)\n",
    "            data['text'].replace(r\"http://([^\\s]+) \", '', regex=True, inplace=True)\n",
    "            data['text'].replace(r\"https://([^\\s]+) \", '', regex=True, inplace=True)\n",
    "\n",
    "    def __getitem__(self, item):\n",
    "        text = self.data[self.feature_column][item]\n",
    "        label = self.label2num(self.data[self.target_column][item])\n",
    "\n",
    "        tokens = self.get_tokens_(text)\n",
    "        embeddings = self.get_embeddings_(tokens)\n",
    "\n",
    "        return {\"feature\": embeddings, \"target\": label}\n",
    "\n",
    "    def get_tokens_(self, text):\n",
    "        # Получи все токены из текста и профильтруй их\n",
    "        tokens = self.tokenizer.tokenize(text.lower())\n",
    "        filtered_tokens = [w for w in tokens if all(c not in string.punctuation for c in w) and len(w) > 3]\n",
    "        return filtered_tokens\n",
    "    \n",
    "    def get_embeddings_(self, tokens):\n",
    "        tokens = [token for token in tokens if token in self.word2vec.vocab]\n",
    "        embeddings = [(self.word2vec.get_vector(w) - self.mean) / self.std for w in tokens if w in self.word2vec and len(w) > 3] # Получи эмбеддинги слов и усредни их\n",
    "\n",
    "        if len(embeddings) == 0:\n",
    "            embeddings = np.zeros((1, self.word2vec.vector_size))\n",
    "        else:\n",
    "            embeddings = np.array(embeddings)\n",
    "            if len(embeddings.shape) == 1:\n",
    "                embeddings = embeddings.reshape(-1, 1)\n",
    "\n",
    "        return embeddings\n",
    "\n",
    "    def __len__(self):\n",
    "        return self.data.shape[0]"
   ]
  },
  {
   "cell_type": "code",
   "execution_count": 26,
   "metadata": {
    "id": "IZJpttbXpZyz"
   },
   "outputs": [
    {
     "name": "stderr",
     "output_type": "stream",
     "text": [
      "/home/arsen/miniconda3/envs/dlenv/lib/python3.7/site-packages/pandas/core/series.py:4569: SettingWithCopyWarning: \n",
      "A value is trying to be set on a copy of a slice from a DataFrame\n",
      "\n",
      "See the caveats in the documentation: https://pandas.pydata.org/pandas-docs/stable/user_guide/indexing.html#returning-a-view-versus-a-copy\n",
      "  method=method,\n"
     ]
    }
   ],
   "source": [
    "dev = TwitterDataset(dev_data, \"text\", \"emotion\", word2vec)"
   ]
  },
  {
   "cell_type": "markdown",
   "metadata": {
    "id": "4AhHrWa196Yc"
   },
   "source": [
    "## Average embedding\n",
    "---\n",
    "Попробуем получить векторное представление предложения из эмбеддингов слов. Самый простой вариант: усреднить вектора по всем словам. Полученный вектор можно отправить любому классификатору как вектор признаков.\n",
    "\n",
    "Посмотрим, насколько хорошо усреднее работает для определение эмоций твитов. Сделаем их визуализацию."
   ]
  },
  {
   "cell_type": "code",
   "execution_count": 27,
   "metadata": {
    "id": "ScdokSW-994t"
   },
   "outputs": [
    {
     "name": "stdout",
     "output_type": "stream",
     "text": [
      "1280\n"
     ]
    }
   ],
   "source": [
    "indexes = np.arange(len(dev))\n",
    "np.random.shuffle(indexes)\n",
    "example_indexes = indexes[::1000]\n",
    "\n",
    "examples = {\"features\": [np.sum(dev[i][\"feature\"], axis=0) for i in example_indexes], \n",
    "            \"targets\": [dev[i][\"target\"] for i in example_indexes]}\n",
    "print(len(examples[\"features\"]))"
   ]
  },
  {
   "cell_type": "markdown",
   "metadata": {
    "id": "LZwFksd_8uYO"
   },
   "source": [
    "Для визуализации векторов надо получить их проекцию на плоскость. Сделаем это с помощью `PCA`. Можно получить более аккуратными алгоритмами, но данный алгоритм покажет сложность задачи и поможет оценить требования к классификатору."
   ]
  },
  {
   "cell_type": "code",
   "execution_count": 28,
   "metadata": {
    "id": "aKFZRSHdtIac"
   },
   "outputs": [],
   "source": [
    "from sklearn.decomposition import PCA\n",
    "\n",
    "\n",
    "pca = PCA(n_components=2)\n",
    "examples[\"transformed_features\"] = pca.fit_transform(X=examples[\"features\"]) # Обучи PCA на эмбеддингах слов"
   ]
  },
  {
   "cell_type": "code",
   "execution_count": 29,
   "metadata": {
    "id": "szEOWdiNtIX8"
   },
   "outputs": [
    {
     "data": {
      "text/html": [
       "\n",
       "    <div class=\"bk-root\">\n",
       "        <a href=\"https://bokeh.org\" target=\"_blank\" class=\"bk-logo bk-logo-small bk-logo-notebook\"></a>\n",
       "        <span id=\"1001\">Loading BokehJS ...</span>\n",
       "    </div>"
      ]
     },
     "metadata": {},
     "output_type": "display_data"
    },
    {
     "data": {
      "application/javascript": [
       "\n",
       "(function(root) {\n",
       "  function now() {\n",
       "    return new Date();\n",
       "  }\n",
       "\n",
       "  var force = true;\n",
       "\n",
       "  if (typeof root._bokeh_onload_callbacks === \"undefined\" || force === true) {\n",
       "    root._bokeh_onload_callbacks = [];\n",
       "    root._bokeh_is_loading = undefined;\n",
       "  }\n",
       "\n",
       "  var JS_MIME_TYPE = 'application/javascript';\n",
       "  var HTML_MIME_TYPE = 'text/html';\n",
       "  var EXEC_MIME_TYPE = 'application/vnd.bokehjs_exec.v0+json';\n",
       "  var CLASS_NAME = 'output_bokeh rendered_html';\n",
       "\n",
       "  /**\n",
       "   * Render data to the DOM node\n",
       "   */\n",
       "  function render(props, node) {\n",
       "    var script = document.createElement(\"script\");\n",
       "    node.appendChild(script);\n",
       "  }\n",
       "\n",
       "  /**\n",
       "   * Handle when an output is cleared or removed\n",
       "   */\n",
       "  function handleClearOutput(event, handle) {\n",
       "    var cell = handle.cell;\n",
       "\n",
       "    var id = cell.output_area._bokeh_element_id;\n",
       "    var server_id = cell.output_area._bokeh_server_id;\n",
       "    // Clean up Bokeh references\n",
       "    if (id != null && id in Bokeh.index) {\n",
       "      Bokeh.index[id].model.document.clear();\n",
       "      delete Bokeh.index[id];\n",
       "    }\n",
       "\n",
       "    if (server_id !== undefined) {\n",
       "      // Clean up Bokeh references\n",
       "      var cmd = \"from bokeh.io.state import curstate; print(curstate().uuid_to_server['\" + server_id + \"'].get_sessions()[0].document.roots[0]._id)\";\n",
       "      cell.notebook.kernel.execute(cmd, {\n",
       "        iopub: {\n",
       "          output: function(msg) {\n",
       "            var id = msg.content.text.trim();\n",
       "            if (id in Bokeh.index) {\n",
       "              Bokeh.index[id].model.document.clear();\n",
       "              delete Bokeh.index[id];\n",
       "            }\n",
       "          }\n",
       "        }\n",
       "      });\n",
       "      // Destroy server and session\n",
       "      var cmd = \"import bokeh.io.notebook as ion; ion.destroy_server('\" + server_id + \"')\";\n",
       "      cell.notebook.kernel.execute(cmd);\n",
       "    }\n",
       "  }\n",
       "\n",
       "  /**\n",
       "   * Handle when a new output is added\n",
       "   */\n",
       "  function handleAddOutput(event, handle) {\n",
       "    var output_area = handle.output_area;\n",
       "    var output = handle.output;\n",
       "\n",
       "    // limit handleAddOutput to display_data with EXEC_MIME_TYPE content only\n",
       "    if ((output.output_type != \"display_data\") || (!output.data.hasOwnProperty(EXEC_MIME_TYPE))) {\n",
       "      return\n",
       "    }\n",
       "\n",
       "    var toinsert = output_area.element.find(\".\" + CLASS_NAME.split(' ')[0]);\n",
       "\n",
       "    if (output.metadata[EXEC_MIME_TYPE][\"id\"] !== undefined) {\n",
       "      toinsert[toinsert.length - 1].firstChild.textContent = output.data[JS_MIME_TYPE];\n",
       "      // store reference to embed id on output_area\n",
       "      output_area._bokeh_element_id = output.metadata[EXEC_MIME_TYPE][\"id\"];\n",
       "    }\n",
       "    if (output.metadata[EXEC_MIME_TYPE][\"server_id\"] !== undefined) {\n",
       "      var bk_div = document.createElement(\"div\");\n",
       "      bk_div.innerHTML = output.data[HTML_MIME_TYPE];\n",
       "      var script_attrs = bk_div.children[0].attributes;\n",
       "      for (var i = 0; i < script_attrs.length; i++) {\n",
       "        toinsert[toinsert.length - 1].firstChild.setAttribute(script_attrs[i].name, script_attrs[i].value);\n",
       "        toinsert[toinsert.length - 1].firstChild.textContent = bk_div.children[0].textContent\n",
       "      }\n",
       "      // store reference to server id on output_area\n",
       "      output_area._bokeh_server_id = output.metadata[EXEC_MIME_TYPE][\"server_id\"];\n",
       "    }\n",
       "  }\n",
       "\n",
       "  function register_renderer(events, OutputArea) {\n",
       "\n",
       "    function append_mime(data, metadata, element) {\n",
       "      // create a DOM node to render to\n",
       "      var toinsert = this.create_output_subarea(\n",
       "        metadata,\n",
       "        CLASS_NAME,\n",
       "        EXEC_MIME_TYPE\n",
       "      );\n",
       "      this.keyboard_manager.register_events(toinsert);\n",
       "      // Render to node\n",
       "      var props = {data: data, metadata: metadata[EXEC_MIME_TYPE]};\n",
       "      render(props, toinsert[toinsert.length - 1]);\n",
       "      element.append(toinsert);\n",
       "      return toinsert\n",
       "    }\n",
       "\n",
       "    /* Handle when an output is cleared or removed */\n",
       "    events.on('clear_output.CodeCell', handleClearOutput);\n",
       "    events.on('delete.Cell', handleClearOutput);\n",
       "\n",
       "    /* Handle when a new output is added */\n",
       "    events.on('output_added.OutputArea', handleAddOutput);\n",
       "\n",
       "    /**\n",
       "     * Register the mime type and append_mime function with output_area\n",
       "     */\n",
       "    OutputArea.prototype.register_mime_type(EXEC_MIME_TYPE, append_mime, {\n",
       "      /* Is output safe? */\n",
       "      safe: true,\n",
       "      /* Index of renderer in `output_area.display_order` */\n",
       "      index: 0\n",
       "    });\n",
       "  }\n",
       "\n",
       "  // register the mime type if in Jupyter Notebook environment and previously unregistered\n",
       "  if (root.Jupyter !== undefined) {\n",
       "    var events = require('base/js/events');\n",
       "    var OutputArea = require('notebook/js/outputarea').OutputArea;\n",
       "\n",
       "    if (OutputArea.prototype.mime_types().indexOf(EXEC_MIME_TYPE) == -1) {\n",
       "      register_renderer(events, OutputArea);\n",
       "    }\n",
       "  }\n",
       "\n",
       "  \n",
       "  if (typeof (root._bokeh_timeout) === \"undefined\" || force === true) {\n",
       "    root._bokeh_timeout = Date.now() + 5000;\n",
       "    root._bokeh_failed_load = false;\n",
       "  }\n",
       "\n",
       "  var NB_LOAD_WARNING = {'data': {'text/html':\n",
       "     \"<div style='background-color: #fdd'>\\n\"+\n",
       "     \"<p>\\n\"+\n",
       "     \"BokehJS does not appear to have successfully loaded. If loading BokehJS from CDN, this \\n\"+\n",
       "     \"may be due to a slow or bad network connection. Possible fixes:\\n\"+\n",
       "     \"</p>\\n\"+\n",
       "     \"<ul>\\n\"+\n",
       "     \"<li>re-rerun `output_notebook()` to attempt to load from CDN again, or</li>\\n\"+\n",
       "     \"<li>use INLINE resources instead, as so:</li>\\n\"+\n",
       "     \"</ul>\\n\"+\n",
       "     \"<code>\\n\"+\n",
       "     \"from bokeh.resources import INLINE\\n\"+\n",
       "     \"output_notebook(resources=INLINE)\\n\"+\n",
       "     \"</code>\\n\"+\n",
       "     \"</div>\"}};\n",
       "\n",
       "  function display_loaded() {\n",
       "    var el = document.getElementById(\"1001\");\n",
       "    if (el != null) {\n",
       "      el.textContent = \"BokehJS is loading...\";\n",
       "    }\n",
       "    if (root.Bokeh !== undefined) {\n",
       "      if (el != null) {\n",
       "        el.textContent = \"BokehJS \" + root.Bokeh.version + \" successfully loaded.\";\n",
       "      }\n",
       "    } else if (Date.now() < root._bokeh_timeout) {\n",
       "      setTimeout(display_loaded, 100)\n",
       "    }\n",
       "  }\n",
       "\n",
       "\n",
       "  function run_callbacks() {\n",
       "    try {\n",
       "      root._bokeh_onload_callbacks.forEach(function(callback) {\n",
       "        if (callback != null)\n",
       "          callback();\n",
       "      });\n",
       "    } finally {\n",
       "      delete root._bokeh_onload_callbacks\n",
       "    }\n",
       "    console.debug(\"Bokeh: all callbacks have finished\");\n",
       "  }\n",
       "\n",
       "  function load_libs(css_urls, js_urls, callback) {\n",
       "    if (css_urls == null) css_urls = [];\n",
       "    if (js_urls == null) js_urls = [];\n",
       "\n",
       "    root._bokeh_onload_callbacks.push(callback);\n",
       "    if (root._bokeh_is_loading > 0) {\n",
       "      console.debug(\"Bokeh: BokehJS is being loaded, scheduling callback at\", now());\n",
       "      return null;\n",
       "    }\n",
       "    if (js_urls == null || js_urls.length === 0) {\n",
       "      run_callbacks();\n",
       "      return null;\n",
       "    }\n",
       "    console.debug(\"Bokeh: BokehJS not loaded, scheduling load and callback at\", now());\n",
       "    root._bokeh_is_loading = css_urls.length + js_urls.length;\n",
       "\n",
       "    function on_load() {\n",
       "      root._bokeh_is_loading--;\n",
       "      if (root._bokeh_is_loading === 0) {\n",
       "        console.debug(\"Bokeh: all BokehJS libraries/stylesheets loaded\");\n",
       "        run_callbacks()\n",
       "      }\n",
       "    }\n",
       "\n",
       "    function on_error() {\n",
       "      console.error(\"failed to load \" + url);\n",
       "    }\n",
       "\n",
       "    for (var i = 0; i < css_urls.length; i++) {\n",
       "      var url = css_urls[i];\n",
       "      const element = document.createElement(\"link\");\n",
       "      element.onload = on_load;\n",
       "      element.onerror = on_error;\n",
       "      element.rel = \"stylesheet\";\n",
       "      element.type = \"text/css\";\n",
       "      element.href = url;\n",
       "      console.debug(\"Bokeh: injecting link tag for BokehJS stylesheet: \", url);\n",
       "      document.body.appendChild(element);\n",
       "    }\n",
       "\n",
       "    const hashes = {\"https://cdn.bokeh.org/bokeh/release/bokeh-2.2.2.min.js\": \"JayppSWSRBsibIZqI8S4vAb1oFgLL0uhNvSn8cmArlOvYOwfFjYeyY5UWwJ+K0SU\", \"https://cdn.bokeh.org/bokeh/release/bokeh-widgets-2.2.2.min.js\": \"G0/Tv/Yy/zEPNsnW0Qif/FOsGesd+KIrKg/QLmvQmReuUW9qmSP7mAmr0VpiUNr3\", \"https://cdn.bokeh.org/bokeh/release/bokeh-tables-2.2.2.min.js\": \"VLYHEbLQDk5G1+/4ALU0myoJPMEUsngWry2fzYorFOUmarjGRPLLURaeK/on6JqX\"};\n",
       "\n",
       "    for (var i = 0; i < js_urls.length; i++) {\n",
       "      var url = js_urls[i];\n",
       "      var element = document.createElement('script');\n",
       "      element.onload = on_load;\n",
       "      element.onerror = on_error;\n",
       "      element.async = false;\n",
       "      element.src = url;\n",
       "      if (url in hashes) {\n",
       "        element.crossOrigin = \"anonymous\";\n",
       "        element.integrity = \"sha384-\" + hashes[url];\n",
       "      }\n",
       "      console.debug(\"Bokeh: injecting script tag for BokehJS library: \", url);\n",
       "      document.head.appendChild(element);\n",
       "    }\n",
       "  };\n",
       "\n",
       "  function inject_raw_css(css) {\n",
       "    const element = document.createElement(\"style\");\n",
       "    element.appendChild(document.createTextNode(css));\n",
       "    document.body.appendChild(element);\n",
       "  }\n",
       "\n",
       "  \n",
       "  var js_urls = [\"https://cdn.bokeh.org/bokeh/release/bokeh-2.2.2.min.js\", \"https://cdn.bokeh.org/bokeh/release/bokeh-widgets-2.2.2.min.js\", \"https://cdn.bokeh.org/bokeh/release/bokeh-tables-2.2.2.min.js\"];\n",
       "  var css_urls = [];\n",
       "  \n",
       "\n",
       "  var inline_js = [\n",
       "    function(Bokeh) {\n",
       "      Bokeh.set_log_level(\"info\");\n",
       "    },\n",
       "    function(Bokeh) {\n",
       "    \n",
       "    \n",
       "    }\n",
       "  ];\n",
       "\n",
       "  function run_inline_js() {\n",
       "    \n",
       "    if (root.Bokeh !== undefined || force === true) {\n",
       "      \n",
       "    for (var i = 0; i < inline_js.length; i++) {\n",
       "      inline_js[i].call(root, root.Bokeh);\n",
       "    }\n",
       "    if (force === true) {\n",
       "        display_loaded();\n",
       "      }} else if (Date.now() < root._bokeh_timeout) {\n",
       "      setTimeout(run_inline_js, 100);\n",
       "    } else if (!root._bokeh_failed_load) {\n",
       "      console.log(\"Bokeh: BokehJS failed to load within specified timeout.\");\n",
       "      root._bokeh_failed_load = true;\n",
       "    } else if (force !== true) {\n",
       "      var cell = $(document.getElementById(\"1001\")).parents('.cell').data().cell;\n",
       "      cell.output_area.append_execute_result(NB_LOAD_WARNING)\n",
       "    }\n",
       "\n",
       "  }\n",
       "\n",
       "  if (root._bokeh_is_loading === 0) {\n",
       "    console.debug(\"Bokeh: BokehJS loaded, going straight to plotting\");\n",
       "    run_inline_js();\n",
       "  } else {\n",
       "    load_libs(css_urls, js_urls, function() {\n",
       "      console.debug(\"Bokeh: BokehJS plotting callback run at\", now());\n",
       "      run_inline_js();\n",
       "    });\n",
       "  }\n",
       "}(window));"
      ],
      "application/vnd.bokehjs_load.v0+json": "\n(function(root) {\n  function now() {\n    return new Date();\n  }\n\n  var force = true;\n\n  if (typeof root._bokeh_onload_callbacks === \"undefined\" || force === true) {\n    root._bokeh_onload_callbacks = [];\n    root._bokeh_is_loading = undefined;\n  }\n\n  \n\n  \n  if (typeof (root._bokeh_timeout) === \"undefined\" || force === true) {\n    root._bokeh_timeout = Date.now() + 5000;\n    root._bokeh_failed_load = false;\n  }\n\n  var NB_LOAD_WARNING = {'data': {'text/html':\n     \"<div style='background-color: #fdd'>\\n\"+\n     \"<p>\\n\"+\n     \"BokehJS does not appear to have successfully loaded. If loading BokehJS from CDN, this \\n\"+\n     \"may be due to a slow or bad network connection. Possible fixes:\\n\"+\n     \"</p>\\n\"+\n     \"<ul>\\n\"+\n     \"<li>re-rerun `output_notebook()` to attempt to load from CDN again, or</li>\\n\"+\n     \"<li>use INLINE resources instead, as so:</li>\\n\"+\n     \"</ul>\\n\"+\n     \"<code>\\n\"+\n     \"from bokeh.resources import INLINE\\n\"+\n     \"output_notebook(resources=INLINE)\\n\"+\n     \"</code>\\n\"+\n     \"</div>\"}};\n\n  function display_loaded() {\n    var el = document.getElementById(\"1001\");\n    if (el != null) {\n      el.textContent = \"BokehJS is loading...\";\n    }\n    if (root.Bokeh !== undefined) {\n      if (el != null) {\n        el.textContent = \"BokehJS \" + root.Bokeh.version + \" successfully loaded.\";\n      }\n    } else if (Date.now() < root._bokeh_timeout) {\n      setTimeout(display_loaded, 100)\n    }\n  }\n\n\n  function run_callbacks() {\n    try {\n      root._bokeh_onload_callbacks.forEach(function(callback) {\n        if (callback != null)\n          callback();\n      });\n    } finally {\n      delete root._bokeh_onload_callbacks\n    }\n    console.debug(\"Bokeh: all callbacks have finished\");\n  }\n\n  function load_libs(css_urls, js_urls, callback) {\n    if (css_urls == null) css_urls = [];\n    if (js_urls == null) js_urls = [];\n\n    root._bokeh_onload_callbacks.push(callback);\n    if (root._bokeh_is_loading > 0) {\n      console.debug(\"Bokeh: BokehJS is being loaded, scheduling callback at\", now());\n      return null;\n    }\n    if (js_urls == null || js_urls.length === 0) {\n      run_callbacks();\n      return null;\n    }\n    console.debug(\"Bokeh: BokehJS not loaded, scheduling load and callback at\", now());\n    root._bokeh_is_loading = css_urls.length + js_urls.length;\n\n    function on_load() {\n      root._bokeh_is_loading--;\n      if (root._bokeh_is_loading === 0) {\n        console.debug(\"Bokeh: all BokehJS libraries/stylesheets loaded\");\n        run_callbacks()\n      }\n    }\n\n    function on_error() {\n      console.error(\"failed to load \" + url);\n    }\n\n    for (var i = 0; i < css_urls.length; i++) {\n      var url = css_urls[i];\n      const element = document.createElement(\"link\");\n      element.onload = on_load;\n      element.onerror = on_error;\n      element.rel = \"stylesheet\";\n      element.type = \"text/css\";\n      element.href = url;\n      console.debug(\"Bokeh: injecting link tag for BokehJS stylesheet: \", url);\n      document.body.appendChild(element);\n    }\n\n    const hashes = {\"https://cdn.bokeh.org/bokeh/release/bokeh-2.2.2.min.js\": \"JayppSWSRBsibIZqI8S4vAb1oFgLL0uhNvSn8cmArlOvYOwfFjYeyY5UWwJ+K0SU\", \"https://cdn.bokeh.org/bokeh/release/bokeh-widgets-2.2.2.min.js\": \"G0/Tv/Yy/zEPNsnW0Qif/FOsGesd+KIrKg/QLmvQmReuUW9qmSP7mAmr0VpiUNr3\", \"https://cdn.bokeh.org/bokeh/release/bokeh-tables-2.2.2.min.js\": \"VLYHEbLQDk5G1+/4ALU0myoJPMEUsngWry2fzYorFOUmarjGRPLLURaeK/on6JqX\"};\n\n    for (var i = 0; i < js_urls.length; i++) {\n      var url = js_urls[i];\n      var element = document.createElement('script');\n      element.onload = on_load;\n      element.onerror = on_error;\n      element.async = false;\n      element.src = url;\n      if (url in hashes) {\n        element.crossOrigin = \"anonymous\";\n        element.integrity = \"sha384-\" + hashes[url];\n      }\n      console.debug(\"Bokeh: injecting script tag for BokehJS library: \", url);\n      document.head.appendChild(element);\n    }\n  };\n\n  function inject_raw_css(css) {\n    const element = document.createElement(\"style\");\n    element.appendChild(document.createTextNode(css));\n    document.body.appendChild(element);\n  }\n\n  \n  var js_urls = [\"https://cdn.bokeh.org/bokeh/release/bokeh-2.2.2.min.js\", \"https://cdn.bokeh.org/bokeh/release/bokeh-widgets-2.2.2.min.js\", \"https://cdn.bokeh.org/bokeh/release/bokeh-tables-2.2.2.min.js\"];\n  var css_urls = [];\n  \n\n  var inline_js = [\n    function(Bokeh) {\n      Bokeh.set_log_level(\"info\");\n    },\n    function(Bokeh) {\n    \n    \n    }\n  ];\n\n  function run_inline_js() {\n    \n    if (root.Bokeh !== undefined || force === true) {\n      \n    for (var i = 0; i < inline_js.length; i++) {\n      inline_js[i].call(root, root.Bokeh);\n    }\n    if (force === true) {\n        display_loaded();\n      }} else if (Date.now() < root._bokeh_timeout) {\n      setTimeout(run_inline_js, 100);\n    } else if (!root._bokeh_failed_load) {\n      console.log(\"Bokeh: BokehJS failed to load within specified timeout.\");\n      root._bokeh_failed_load = true;\n    } else if (force !== true) {\n      var cell = $(document.getElementById(\"1001\")).parents('.cell').data().cell;\n      cell.output_area.append_execute_result(NB_LOAD_WARNING)\n    }\n\n  }\n\n  if (root._bokeh_is_loading === 0) {\n    console.debug(\"Bokeh: BokehJS loaded, going straight to plotting\");\n    run_inline_js();\n  } else {\n    load_libs(css_urls, js_urls, function() {\n      console.debug(\"Bokeh: BokehJS plotting callback run at\", now());\n      run_inline_js();\n    });\n  }\n}(window));"
     },
     "metadata": {},
     "output_type": "display_data"
    }
   ],
   "source": [
    "import bokeh.models as bm, bokeh.plotting as pl\n",
    "from bokeh.io import output_notebook\n",
    "output_notebook()\n",
    "\n",
    "def draw_vectors(x, y, radius=10, alpha=0.25, color='blue',\n",
    "                 width=600, height=400, show=True, **kwargs):\n",
    "    \"\"\" draws an interactive plot for data points with auxilirary info on hover \"\"\"\n",
    "    data_source = bm.ColumnDataSource({ 'x' : x, 'y' : y, 'color': color, **kwargs })\n",
    "\n",
    "    fig = pl.figure(active_scroll='wheel_zoom', width=width, height=height)\n",
    "    fig.scatter('x', 'y', size=radius, color='color', alpha=alpha, source=data_source)\n",
    "\n",
    "    fig.add_tools(bm.HoverTool(tooltips=[(key, \"@\" + key) for key in kwargs.keys()]))\n",
    "    if show: pl.show(fig)\n",
    "    return fig"
   ]
  },
  {
   "cell_type": "code",
   "execution_count": 30,
   "metadata": {
    "id": "7OONK8ldtIWe"
   },
   "outputs": [
    {
     "data": {
      "text/html": [
       "\n",
       "\n",
       "\n",
       "\n",
       "\n",
       "\n",
       "  <div class=\"bk-root\" id=\"8bc53e3a-074b-4863-988f-e00768ad43dd\" data-root-id=\"1003\"></div>\n"
      ]
     },
     "metadata": {},
     "output_type": "display_data"
    },
    {
     "data": {
      "application/javascript": [
       "(function(root) {\n",
       "  function embed_document(root) {\n",
       "    \n",
       "  var docs_json = {\"8c623dc0-34fc-4ecd-9ca4-6b14ba267b0f\":{\"roots\":{\"references\":[{\"attributes\":{\"below\":[{\"id\":\"1012\"}],\"center\":[{\"id\":\"1015\"},{\"id\":\"1019\"}],\"left\":[{\"id\":\"1016\"}],\"plot_height\":400,\"renderers\":[{\"id\":\"1037\"}],\"title\":{\"id\":\"1042\"},\"toolbar\":{\"id\":\"1027\"},\"x_range\":{\"id\":\"1004\"},\"x_scale\":{\"id\":\"1008\"},\"y_range\":{\"id\":\"1006\"},\"y_scale\":{\"id\":\"1010\"}},\"id\":\"1003\",\"subtype\":\"Figure\",\"type\":\"Plot\"},{\"attributes\":{\"axis\":{\"id\":\"1012\"},\"ticker\":null},\"id\":\"1015\",\"type\":\"Grid\"},{\"attributes\":{\"formatter\":{\"id\":\"1044\"},\"ticker\":{\"id\":\"1017\"}},\"id\":\"1016\",\"type\":\"LinearAxis\"},{\"attributes\":{},\"id\":\"1017\",\"type\":\"BasicTicker\"},{\"attributes\":{\"callback\":null,\"tooltips\":[]},\"id\":\"1039\",\"type\":\"HoverTool\"},{\"attributes\":{},\"id\":\"1046\",\"type\":\"BasicTickFormatter\"},{\"attributes\":{\"data_source\":{\"id\":\"1002\"},\"glyph\":{\"id\":\"1035\"},\"hover_glyph\":null,\"muted_glyph\":null,\"nonselection_glyph\":{\"id\":\"1036\"},\"selection_glyph\":null,\"view\":{\"id\":\"1038\"}},\"id\":\"1037\",\"type\":\"GlyphRenderer\"},{\"attributes\":{\"active_drag\":\"auto\",\"active_inspect\":\"auto\",\"active_multi\":null,\"active_scroll\":{\"id\":\"1021\"},\"active_tap\":\"auto\",\"tools\":[{\"id\":\"1020\"},{\"id\":\"1021\"},{\"id\":\"1022\"},{\"id\":\"1023\"},{\"id\":\"1024\"},{\"id\":\"1025\"},{\"id\":\"1039\"}]},\"id\":\"1027\",\"type\":\"Toolbar\"},{\"attributes\":{\"text\":\"\"},\"id\":\"1042\",\"type\":\"Title\"},{\"attributes\":{\"fill_alpha\":{\"value\":0.25},\"fill_color\":{\"field\":\"color\"},\"line_alpha\":{\"value\":0.25},\"line_color\":{\"field\":\"color\"},\"size\":{\"units\":\"screen\",\"value\":10},\"x\":{\"field\":\"x\"},\"y\":{\"field\":\"y\"}},\"id\":\"1035\",\"type\":\"Scatter\"},{\"attributes\":{},\"id\":\"1047\",\"type\":\"Selection\"},{\"attributes\":{\"axis\":{\"id\":\"1016\"},\"dimension\":1,\"ticker\":null},\"id\":\"1019\",\"type\":\"Grid\"},{\"attributes\":{},\"id\":\"1044\",\"type\":\"BasicTickFormatter\"},{\"attributes\":{\"fill_alpha\":{\"value\":0.1},\"fill_color\":{\"field\":\"color\"},\"line_alpha\":{\"value\":0.1},\"line_color\":{\"field\":\"color\"},\"size\":{\"units\":\"screen\",\"value\":10},\"x\":{\"field\":\"x\"},\"y\":{\"field\":\"y\"}},\"id\":\"1036\",\"type\":\"Scatter\"},{\"attributes\":{},\"id\":\"1048\",\"type\":\"UnionRenderers\"},{\"attributes\":{\"data\":{\"color\":[\"red\",\"red\",\"red\",\"blue\",\"red\",\"blue\",\"blue\",\"blue\",\"blue\",\"blue\",\"blue\",\"blue\",\"blue\",\"red\",\"red\",\"blue\",\"blue\",\"blue\",\"red\",\"blue\",\"blue\",\"blue\",\"blue\",\"red\",\"blue\",\"blue\",\"red\",\"red\",\"blue\",\"red\",\"blue\",\"red\",\"red\",\"blue\",\"red\",\"red\",\"blue\",\"red\",\"blue\",\"blue\",\"red\",\"blue\",\"blue\",\"blue\",\"red\",\"red\",\"red\",\"red\",\"blue\",\"red\",\"blue\",\"blue\",\"blue\",\"red\",\"blue\",\"red\",\"blue\",\"blue\",\"red\",\"red\",\"red\",\"blue\",\"blue\",\"red\",\"red\",\"blue\",\"blue\",\"red\",\"blue\",\"blue\",\"blue\",\"blue\",\"red\",\"red\",\"red\",\"red\",\"red\",\"blue\",\"red\",\"red\",\"blue\",\"blue\",\"red\",\"red\",\"blue\",\"red\",\"red\",\"red\",\"blue\",\"red\",\"red\",\"red\",\"red\",\"blue\",\"blue\",\"red\",\"red\",\"blue\",\"red\",\"red\",\"blue\",\"red\",\"blue\",\"red\",\"red\",\"red\",\"red\",\"blue\",\"red\",\"blue\",\"blue\",\"blue\",\"blue\",\"red\",\"red\",\"blue\",\"blue\",\"blue\",\"red\",\"blue\",\"red\",\"red\",\"red\",\"red\",\"blue\",\"blue\",\"red\",\"blue\",\"red\",\"blue\",\"blue\",\"blue\",\"red\",\"blue\",\"red\",\"blue\",\"red\",\"red\",\"blue\",\"red\",\"red\",\"blue\",\"red\",\"red\",\"blue\",\"red\",\"red\",\"blue\",\"blue\",\"blue\",\"blue\",\"red\",\"red\",\"red\",\"blue\",\"red\",\"red\",\"red\",\"blue\",\"red\",\"red\",\"red\",\"red\",\"red\",\"red\",\"blue\",\"blue\",\"red\",\"blue\",\"blue\",\"red\",\"red\",\"red\",\"blue\",\"red\",\"red\",\"blue\",\"red\",\"blue\",\"blue\",\"red\",\"blue\",\"red\",\"red\",\"blue\",\"blue\",\"blue\",\"blue\",\"blue\",\"red\",\"red\",\"red\",\"blue\",\"blue\",\"blue\",\"red\",\"red\",\"blue\",\"blue\",\"blue\",\"blue\",\"blue\",\"blue\",\"red\",\"red\",\"red\",\"red\",\"red\",\"red\",\"red\",\"red\",\"red\",\"blue\",\"blue\",\"blue\",\"red\",\"blue\",\"red\",\"blue\",\"blue\",\"red\",\"blue\",\"red\",\"blue\",\"blue\",\"red\",\"blue\",\"blue\",\"blue\",\"blue\",\"red\",\"blue\",\"red\",\"red\",\"red\",\"blue\",\"red\",\"blue\",\"red\",\"red\",\"red\",\"blue\",\"red\",\"blue\",\"red\",\"blue\",\"red\",\"blue\",\"red\",\"blue\",\"blue\",\"blue\",\"blue\",\"blue\",\"blue\",\"blue\",\"red\",\"red\",\"red\",\"red\",\"blue\",\"red\",\"red\",\"blue\",\"blue\",\"blue\",\"red\",\"red\",\"red\",\"red\",\"blue\",\"blue\",\"blue\",\"blue\",\"blue\",\"blue\",\"blue\",\"red\",\"blue\",\"red\",\"red\",\"red\",\"blue\",\"red\",\"red\",\"blue\",\"blue\",\"red\",\"blue\",\"blue\",\"red\",\"red\",\"blue\",\"red\",\"red\",\"blue\",\"blue\",\"red\",\"blue\",\"red\",\"red\",\"blue\",\"red\",\"red\",\"blue\",\"red\",\"blue\",\"blue\",\"red\",\"red\",\"blue\",\"blue\",\"blue\",\"red\",\"blue\",\"blue\",\"red\",\"red\",\"red\",\"blue\",\"blue\",\"red\",\"blue\",\"red\",\"red\",\"red\",\"red\",\"red\",\"blue\",\"blue\",\"red\",\"red\",\"red\",\"red\",\"red\",\"blue\",\"red\",\"red\",\"red\",\"blue\",\"blue\",\"blue\",\"blue\",\"blue\",\"red\",\"blue\",\"blue\",\"red\",\"red\",\"blue\",\"blue\",\"blue\",\"blue\",\"red\",\"blue\",\"blue\",\"blue\",\"blue\",\"red\",\"blue\",\"red\",\"blue\",\"red\",\"red\",\"blue\",\"blue\",\"blue\",\"red\",\"red\",\"blue\",\"red\",\"red\",\"red\",\"blue\",\"red\",\"blue\",\"blue\",\"blue\",\"red\",\"red\",\"red\",\"blue\",\"blue\",\"red\",\"blue\",\"blue\",\"red\",\"blue\",\"blue\",\"red\",\"blue\",\"blue\",\"red\",\"blue\",\"red\",\"red\",\"blue\",\"blue\",\"blue\",\"red\",\"blue\",\"blue\",\"blue\",\"red\",\"red\",\"blue\",\"blue\",\"blue\",\"red\",\"blue\",\"blue\",\"blue\",\"red\",\"blue\",\"blue\",\"blue\",\"blue\",\"red\",\"blue\",\"blue\",\"red\",\"red\",\"red\",\"blue\",\"blue\",\"blue\",\"red\",\"red\",\"blue\",\"blue\",\"blue\",\"red\",\"blue\",\"blue\",\"blue\",\"blue\",\"blue\",\"red\",\"red\",\"blue\",\"blue\",\"blue\",\"red\",\"red\",\"blue\",\"red\",\"red\",\"red\",\"blue\",\"red\",\"red\",\"blue\",\"red\",\"blue\",\"blue\",\"red\",\"blue\",\"blue\",\"red\",\"red\",\"blue\",\"blue\",\"blue\",\"blue\",\"red\",\"red\",\"red\",\"red\",\"blue\",\"blue\",\"blue\",\"red\",\"blue\",\"blue\",\"red\",\"blue\",\"red\",\"red\",\"blue\",\"red\",\"blue\",\"red\",\"red\",\"blue\",\"red\",\"blue\",\"blue\",\"blue\",\"red\",\"blue\",\"red\",\"blue\",\"blue\",\"blue\",\"blue\",\"blue\",\"red\",\"blue\",\"blue\",\"red\",\"blue\",\"red\",\"blue\",\"red\",\"blue\",\"red\",\"red\",\"red\",\"red\",\"red\",\"red\",\"blue\",\"blue\",\"blue\",\"red\",\"blue\",\"red\",\"red\",\"blue\",\"red\",\"red\",\"red\",\"red\",\"red\",\"red\",\"blue\",\"blue\",\"blue\",\"red\",\"blue\",\"red\",\"blue\",\"blue\",\"red\",\"red\",\"red\",\"blue\",\"red\",\"blue\",\"blue\",\"blue\",\"red\",\"blue\",\"blue\",\"red\",\"blue\",\"blue\",\"blue\",\"blue\",\"blue\",\"blue\",\"red\",\"red\",\"red\",\"blue\",\"blue\",\"red\",\"blue\",\"blue\",\"blue\",\"red\",\"blue\",\"red\",\"blue\",\"blue\",\"red\",\"red\",\"blue\",\"red\",\"red\",\"red\",\"blue\",\"red\",\"red\",\"blue\",\"red\",\"red\",\"blue\",\"blue\",\"blue\",\"red\",\"red\",\"red\",\"blue\",\"blue\",\"blue\",\"red\",\"red\",\"red\",\"red\",\"blue\",\"blue\",\"red\",\"red\",\"red\",\"red\",\"red\",\"red\",\"blue\",\"blue\",\"red\",\"red\",\"red\",\"blue\",\"red\",\"red\",\"red\",\"blue\",\"red\",\"red\",\"blue\",\"red\",\"red\",\"blue\",\"blue\",\"blue\",\"red\",\"blue\",\"blue\",\"blue\",\"red\",\"red\",\"red\",\"blue\",\"blue\",\"red\",\"red\",\"blue\",\"red\",\"blue\",\"blue\",\"blue\",\"red\",\"red\",\"blue\",\"red\",\"red\",\"blue\",\"red\",\"blue\",\"blue\",\"red\",\"red\",\"red\",\"red\",\"red\",\"red\",\"red\",\"red\",\"red\",\"blue\",\"blue\",\"blue\",\"red\",\"red\",\"blue\",\"blue\",\"blue\",\"red\",\"blue\",\"blue\",\"blue\",\"blue\",\"red\",\"blue\",\"red\",\"blue\",\"red\",\"red\",\"red\",\"blue\",\"red\",\"red\",\"red\",\"blue\",\"red\",\"blue\",\"blue\",\"blue\",\"red\",\"red\",\"red\",\"blue\",\"blue\",\"blue\",\"red\",\"red\",\"red\",\"blue\",\"red\",\"red\",\"red\",\"blue\",\"red\",\"blue\",\"red\",\"red\",\"blue\",\"red\",\"blue\",\"blue\",\"red\",\"red\",\"blue\",\"blue\",\"blue\",\"blue\",\"red\",\"blue\",\"blue\",\"red\",\"red\",\"red\",\"red\",\"blue\",\"blue\",\"red\",\"red\",\"red\",\"red\",\"red\",\"blue\",\"blue\",\"red\",\"red\",\"red\",\"blue\",\"blue\",\"blue\",\"blue\",\"blue\",\"red\",\"red\",\"red\",\"blue\",\"blue\",\"red\",\"red\",\"red\",\"red\",\"red\",\"blue\",\"blue\",\"blue\",\"red\",\"red\",\"red\",\"red\",\"red\",\"blue\",\"red\",\"red\",\"red\",\"blue\",\"red\",\"red\",\"red\",\"red\",\"red\",\"red\",\"red\",\"red\",\"red\",\"blue\",\"blue\",\"blue\",\"blue\",\"blue\",\"red\",\"blue\",\"blue\",\"red\",\"blue\",\"red\",\"red\",\"blue\",\"red\",\"red\",\"blue\",\"red\",\"blue\",\"red\",\"red\",\"red\",\"blue\",\"red\",\"blue\",\"blue\",\"blue\",\"red\",\"blue\",\"blue\",\"red\",\"blue\",\"blue\",\"blue\",\"blue\",\"red\",\"blue\",\"red\",\"red\",\"red\",\"red\",\"blue\",\"blue\",\"red\",\"red\",\"blue\",\"red\",\"red\",\"blue\",\"red\",\"blue\",\"red\",\"blue\",\"blue\",\"red\",\"blue\",\"blue\",\"blue\",\"red\",\"blue\",\"red\",\"blue\",\"blue\",\"red\",\"red\",\"red\",\"blue\",\"blue\",\"blue\",\"red\",\"blue\",\"red\",\"blue\",\"blue\",\"red\",\"blue\",\"blue\",\"blue\",\"red\",\"red\",\"red\",\"blue\",\"red\",\"red\",\"red\",\"blue\",\"red\",\"red\",\"blue\",\"red\",\"blue\",\"blue\",\"blue\",\"red\",\"blue\",\"blue\",\"red\",\"red\",\"red\",\"blue\",\"blue\",\"blue\",\"red\",\"blue\",\"red\",\"blue\",\"red\",\"red\",\"blue\",\"red\",\"red\",\"red\",\"blue\",\"blue\",\"blue\",\"red\",\"red\",\"red\",\"red\",\"red\",\"red\",\"blue\",\"red\",\"red\",\"blue\",\"red\",\"red\",\"blue\",\"red\",\"blue\",\"blue\",\"blue\",\"blue\",\"red\",\"blue\",\"blue\",\"blue\",\"blue\",\"red\",\"red\",\"blue\",\"blue\",\"red\",\"red\",\"red\",\"blue\",\"red\",\"red\",\"blue\",\"blue\",\"red\",\"red\",\"blue\",\"red\",\"red\",\"blue\",\"red\",\"red\",\"red\",\"blue\",\"blue\",\"red\",\"red\",\"red\",\"blue\",\"red\",\"blue\",\"red\",\"blue\",\"red\",\"blue\",\"red\",\"blue\",\"red\",\"red\",\"blue\",\"blue\",\"blue\",\"red\",\"red\",\"red\",\"red\",\"red\",\"red\",\"blue\",\"red\",\"blue\",\"red\",\"blue\",\"red\",\"blue\",\"blue\",\"blue\",\"red\",\"blue\",\"blue\",\"red\",\"blue\",\"blue\",\"blue\",\"red\",\"red\",\"red\",\"blue\",\"blue\",\"blue\",\"red\",\"red\",\"blue\",\"red\",\"red\",\"red\",\"red\",\"blue\",\"red\",\"red\",\"red\",\"red\",\"blue\",\"blue\",\"blue\",\"red\",\"blue\",\"red\",\"red\",\"blue\",\"red\",\"blue\",\"blue\",\"red\",\"red\",\"red\",\"blue\",\"blue\",\"blue\",\"blue\",\"red\",\"red\",\"blue\",\"blue\",\"red\",\"blue\",\"blue\",\"blue\",\"blue\",\"red\",\"blue\",\"red\",\"red\",\"blue\",\"blue\",\"blue\",\"blue\",\"blue\",\"red\",\"red\",\"red\",\"red\",\"blue\",\"red\",\"blue\",\"red\",\"blue\",\"red\",\"blue\",\"red\",\"blue\",\"red\",\"blue\",\"blue\",\"red\",\"blue\",\"red\",\"blue\",\"red\",\"blue\",\"blue\",\"blue\",\"red\",\"red\",\"blue\",\"red\",\"red\",\"blue\",\"blue\",\"blue\",\"red\",\"blue\",\"blue\",\"red\",\"red\",\"red\",\"blue\",\"red\",\"blue\",\"blue\",\"red\",\"red\",\"red\",\"blue\",\"red\",\"blue\",\"blue\",\"blue\",\"red\",\"blue\",\"red\",\"red\",\"red\",\"red\",\"red\",\"red\",\"blue\",\"red\",\"blue\",\"blue\",\"blue\",\"red\",\"blue\",\"red\",\"red\",\"blue\",\"blue\",\"red\",\"red\",\"blue\",\"red\",\"blue\",\"red\",\"red\",\"blue\",\"red\",\"red\",\"blue\",\"red\",\"red\",\"red\",\"blue\",\"blue\",\"blue\",\"red\",\"blue\",\"blue\",\"blue\",\"red\",\"blue\",\"red\",\"red\",\"blue\",\"red\",\"blue\",\"blue\",\"red\",\"blue\",\"red\",\"blue\",\"blue\",\"red\",\"blue\",\"blue\",\"red\",\"blue\",\"blue\",\"blue\",\"red\",\"red\",\"blue\",\"blue\",\"red\",\"blue\",\"red\",\"red\",\"red\",\"blue\",\"blue\",\"blue\",\"red\",\"blue\",\"blue\",\"blue\",\"red\",\"blue\",\"blue\",\"blue\",\"blue\",\"blue\",\"red\",\"blue\",\"blue\",\"red\",\"red\",\"blue\",\"red\",\"red\",\"red\",\"blue\",\"blue\",\"blue\",\"red\",\"blue\",\"blue\",\"blue\",\"red\",\"red\",\"red\",\"red\",\"red\",\"blue\",\"blue\",\"red\",\"blue\",\"red\",\"blue\",\"blue\",\"blue\",\"red\",\"red\",\"red\",\"blue\",\"blue\",\"red\",\"red\",\"blue\",\"red\",\"blue\",\"blue\",\"red\",\"blue\",\"blue\",\"red\",\"red\",\"red\",\"red\",\"red\",\"red\",\"blue\",\"red\",\"red\",\"blue\",\"blue\",\"red\",\"blue\",\"blue\",\"blue\",\"red\",\"blue\",\"blue\",\"blue\",\"blue\",\"blue\",\"red\",\"red\",\"red\",\"red\",\"red\",\"red\",\"blue\",\"blue\",\"red\",\"red\",\"red\",\"blue\",\"red\",\"blue\",\"blue\",\"red\",\"blue\",\"blue\",\"red\",\"blue\",\"red\",\"red\",\"blue\",\"red\",\"red\",\"blue\",\"blue\",\"blue\",\"red\",\"red\",\"red\",\"blue\",\"blue\",\"red\",\"blue\",\"blue\",\"blue\",\"red\",\"red\",\"red\",\"blue\",\"red\",\"red\",\"red\",\"blue\",\"blue\",\"red\",\"blue\",\"blue\",\"blue\",\"blue\",\"blue\",\"blue\",\"blue\",\"blue\",\"blue\",\"red\",\"blue\",\"red\",\"red\",\"blue\",\"blue\",\"red\",\"red\",\"blue\",\"blue\",\"blue\",\"red\"],\"x\":{\"__ndarray__\":\"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\",\"dtype\":\"float64\",\"order\":\"little\",\"shape\":[1280]},\"y\":{\"__ndarray__\":\"NNT8MxfAIsDjIuyPHhMLQNPyv/q/7fm/sG01bVBoDcDpK5pYTpLBv0rxd3LhYck/++opgqk6IMADjK6GnsYRwHQHVgB5wUDAA3gBSeHOEEBRL3hSbCw4QMC+Yj0obRvAu34KP/aNGUBXhjn6bXwMwBKYYkIk9CbAiyYUW+ykG8C0QKxrsaUuwAbq7EsyCfy/CoKOsiDGJsDRz9WqUk0TQOIbsSNFTDFA4rfRMqF6H8CweBAzPdcTwPvHYGfQ5jJAxinF+jFrHEA24bK8JisgQNpDLIShgSPAEG0azMLDFEA6LnQHuhUTwJ89s8EG7StALnry5O0TBsCoobT7WXEswLcErvCxeCZAIc2yfmKxKMAF5HPHGCsEwHbmNQ68mSTAyU02YRm11b/9WpO7Y1glwJdRJ8xRbBtAsiW7eJ5TNkCba8Y2l+oaQAqfRdVqR9a/ZmnDgILAMkC2Z09AW1UWwCPL0gsEhipA1GCMxtcmG0BPIsakmKT1v4fa8Nq4mhPAoFOKC4kNGECFe7wSKAowwGoyVK3qTBxA2ReoR1BaEMBVD7VK9MQTwLyFIL/W4/Q/iWGcick/BkAcFWkJdhHTP/kO5zCeHxjAQS5hRUEmEEBSNf//CkoOwNKwTgqLWAfAJy1wF2xl8T/A7K8RP8YqQCWAMuxOaDXAnuzEGjLHCcA/eydoS3buPyKdl75C/t2/0xh8nr2kHcBbV5jFhJYUQMqeUWteSRFAjq2oIQRPIkDYmgpuamYqwHG4iyXaFyvAURiklFSpJMD791hcUqg+QD2O+5B+MzTAFQCnEbnmBUD7aj3l8pUCQFnVgkxlC0ZApCaP2vnSEcCduNG4feA2wH+6tf/fDRFA+hOojcHiL8CyWjrBH9MwQHpZvqizAgpA6JD3QVUgLUCXe6/1iGEwwANJldI9rua/S4km9EaRHcD6DorsjJQyQMF8g1HUWCHAAZ+9BLYwF8Db29Ctcy0wwAXkc8cYKwTARGT7rFJEGEBq5PmeXdQewOMVm/7cmCvASqShsXmbOUA7yMwRhU0eQJloqjo7UxfAFNvF0cGJIMAVAyXJAOoGQAwpqbLvnSLAu1Sd1SNBHkCkGa1vHw4CQPwThIZtWgDA9L7ecQ4yEUA0ap5gwdgdwI8YCqBVgiZAft7UVx8CGMBNwWKsVackwMoIs2AvyyXA4KwbNHuIHsCggGlSq3cTQDp7oojy/DrAlqs20URiNUD+/DzvjtMOQMm5/ARqOfk/2qaUUL+vNkD4G0C6o0A7QPLAuLGrFyNAsXPpDtKuAkAEGmmEMWkywMTAuWw5DA9AVxTY8G6dL0C06diCqWMqwJBb38bICzFA291aR/guJ8AvVCyBag4wQDVyQLHejyZAjjbxbdRFJkAMCiomGxIVwHxBThPzRRbAbz0Z4BbNH0BGnz1GegshQM3Fe1mcOQHAjqDwRz3SHsD2/VPdDwoFwPq0Bybe5UZABy4b9Ne6LUBgsgFzCqPmP1PuT68twJY/utISSXz7QcB8L5Sk9wY4QDdJqISiIy5AXJfpf6OAFkC6LBP2xoPwP58/CJRnVyvA1ctO0yMqKEDveQ3GHeQNQKC954GoCCRABOMTexNANUDM4yxGaNjMP3VUpMVNmRJA1frlyEFuR0DGC/fRCDLuv7Z4nGMi5zfA+tDZRRHYIcBwPw2ggD8dwASO4kxHRzxAXgvyKYEtCsC87FQKQSMlQAfWQ5d7PxdAUrdCYlaRMcDWF3HgiaAzQISbqaLKABlAkeTbAwbbJcB9KfxYlCoYwFLdY7rI7itA4XZx7j10SkB0Ngyd76vwP6KsIeasKkBA5a4hBEj0FMBIl1xXKyYRwAXkc8cYKwTAwCLa9PMEMMA2DnWdVEIzwA6uhfzX4SZADX2KjiaeEcALuDyITu4VwNgt/K9KFAfAiCHqjz0JAcDHEklKzfwlQPZO8QvHmyVACv19x51ZFUDnzHgeE5sDQMaWjHWU4RFAS29LoZRfUEDGcGoQPcswwFW6Y2+9LhXABRU5ddB8DsB38/0+0I83QC6BnP/cXCBAdcoh4ISzCEAo2kU4zm0dwCfFXU+ASihAc7Y9FfBsNcCcXeVyCUFDwDCxPoxFrfU/FbPTpMxqFsAF5HPHGCsEwBMAGbBQ4vU/2YAu6rKzMcCkfPCVVY4DwMGkyEjeJgvAKxtfb+0BI0AnijRRVWk6QG7lvcuLHwpAzn4bOebFMsDcRqDM4GEcwH1wpQ/+pSpAl+NcpUztGsAF5HPHGCsEwLP9Gqk9pUFAn90QJkOnLEDijpCPg8P9P4Djy52ISzNAwfiSs3tFEcCXdRz3sUjuv12l9xpk1zDAdwdrHcYjKcBDWX5/VV0uQMUYtZ+QjSZAfG4mdtT/G8CZKZtVlTstwG6lMJpo4DFA2DSqmKBuCEBlmT31Pb4dQChVhUx9JkhAgJHnbHJfIEAPkNRLi4chwGe7LjDvLSHAlBzfM14xNsD180q6VlclwDL4rcQm+wFAFcfDY84oGMASrdc8lLP+Pws6mx1JiTPAcCWHQCodGsDz1n4uS7MLwBsuHErjQBTA01IjhfZML0DIFHHgMDI+QMwu/fXIfPq/fJCMHz+CFcCFF4V1WV0GQJAUEIB42gnArg6bnJdzJ0AuevLk7RMGwKfh7MLCPDLAa+0vxjEnIEC0zmdTrksvwAezl1GENyPAPugbiT9+4b/VQZkFoNIDwDhEL2VSphtAsqT8YnpHKkB8BKhg9w8uwOrxW8QZNv2/0XCzg+OlJMDOz/IgmmBEwCdihZ0h6DZAJTsOQffw3L/gG4O2LukzwEpDbi1JySbAsTfy+lqBMUBKX1y241AvQE7sQ6f2BjbAdvS4tr3kNEBG/TdvNCgSwF1zE3DBGPi/m4tJPLrZJ8DtXq9hNvcmwJk2SWXxxPI/U2WEn2CIFEBwWtSl9eoCQPT8KeFyLdo/rnVZwhTxFMA+RAO7r5oPwEjEA78sxTdA67I7p23RN8D5m/bvCXItwGaIuvNtzQ5APv6nTXRkF0B6Q1MoGiwkQAcgFRtI/hLAB0KZW+qeE0CdjC1BQPoxwMiVyL2HnxNAFoMV6tISAECvtVtNIiEZQC3bTC+FgiRA6OC77rwAIcA1p8aj0QAbwCn2d82RIy5AEtwzZnEgJsD17k7F4mw9QBCrjPUHY01AZpJgp4G0MEAg6bvDBP00QNVjNmjCLCnAFMjrrtScA8CmX/afszTwP0msyUQovynAWyznjt+TAsDeQ8GS+aEawM1Xa+ykLi9AkbrJaySLJ8ABp6iGLt1AQOTyL4cPqiPAextFlCGkMcDsOmUkWq2yP8re5fWXAwHAjTW/DOzEH8CKCr54bBkWQJtqJJNGWQxARcrTOCNEIEDRSEpVzSr4P5DseD6rfCFANNhhiprmDMAC0DKFt8YnwPnQWUtfLTLAkkAEn0XbDkCCBCFMc0MiQGjQO5oez+y/BeRzxxgrBMB5AXvXkWQUQJWr60aP4CXANuqqTnD1FcDsQxWjQhEIQGAkyNScRC3AhCA+3oacJMC27kpg/TgkQNuPYQPKJR7Ac0HtvYH+F0BLXVklugoewCIPDKHZEiHAhWMk+of4LsAfuMwj55EXwOtl5qG8Afw/InSxxaNq87/AMSxsqKkLQHzCHXz+6/8/b1Z5sQGTDcD0PzROrQQwQJhRRqoFKSHANuvMq3OaIMDS4IQLY+oiwEdB6RUe6j1APDqfAKa4I0CjqJwYvRAwwGBRDSjM8BNAeD8JWHlHG0DdaHHoDLsjwG5MDhE7tQ5ANSoeRBtlJsAXa2JPwiA7QM4opcBARh5Az27fuLLp+z+YIaoY67QZQEIsA8yYsRLAVSTlPpCl/b94rvHwdp4FQCt55PpT6QTAa1e1o6quKUA4cZwLPHwbwCjVXrbWqhzA6ZdPbjZ0FsD3Y6U7Ik7yvxhw0wRumv8/fkuO0P+OG8D70GXErsUxQCvVE/xtsiTAtRTo0+4w0L+GKVZ1Ct40QEQzRv6cRRRA5pYSmF6DDsAd+e04DJM5QBQii1IyiRPAk53qZcELMsAFWZbv10A1QOKQw7UdqyLAExRYxyLbDUAPNZlSkScrwP2R3Sc+LyFAgNZj7v8pEMBS8J/CLQLaPzozfAk/hRvAEsCZ6av2MsCd2h4vthEvQPiwKLpmBSLAdWH9zFmaHMA+jlgQQGNDwIW3Np2koyXAkhx0kF3qFkBtvmojHWoxQGY7HC8vsQVAgcvTQmzvD0CY2wCKlSgXQMYDP0Azmua/vrpNorV9IMDJ4nsXCgUnQN/aZec9oSZAiWja0F1QG0Cu1frP6P9FQFLXXyRvvPC/o3wWNtd1JcDCv2dCAWItQAaJcGyzdxNAx9YewK9jyT+akM9jeLAgQH0p/FiUKhjA9aITdIraJ0BhvxTwdsIlwHnuD817cgzA0nY2lpvbIECVQJjO7AgQwIesGK1DWjtAdN9IGOMKMMBJ9YbM1PMBwNW/+9NiaxlA5K43X6nmL8Awx2l3rw/jP8v7qFXaFBNAOzB8wrhuJ8BkNSVBxQsZQJd6kEVRqPi/7aA0BP/AEkBhrsMQ2kQsQI4kw8VcRjVAjCvOulM9McC8YXLYfsUIQDX4b503jSLAF8TfNWBICUDY1bgwMZwaQOWhIUXehh1Ap5YJtpX3PMCF9xpf6BssQE6OUZB5mCnAF96IGb5SCMAiqzUr7oMoQNqtQWW+KjfABMsOgxRNJ0C90sRzeD/xPyDrxNxo5hzA/2dPuUtQJ8DCdXZsTMUSwABs3PIMPjDAJ0dLEwp9mj92e+wvoAcwQGREIcoRoiTAUoZvIS4zF0AY4BG2JzAgQGsM1jjPwQ/A6wTgCkuHLMANlj8aQ7knwG4C2XiExQhAQU7aMceOHMBBf7kHtrwCwO1/6g0x4jrABsYX0c9aHcD+0/rPpMlCQPlCfcdYGxhArJ+usDu8MECkTb5oREdAQGtmkwP6Mg3Adz4Ln7T5JcCDW/BSzulMQLQ5X1vJpCvA9sZV0WdHI8CX+P2KBiYCwJSIa2GhvUNAAI58GG2uF0Dkapd0jGkcwFriMs1L6yDAHeShmqknI0CtX86a4OczwGJIW+ThpTbABHP4ThMQMsDX6R0ETWMQQP7NpIQ/DBLAjEYojFiHCMBE0dUHAAksQFrTRwf7ySfAOsN2jt+v9D8jHjkU4bc3QAONP6Pg4RLAVgty1oS0HkBZTXTvP5cJwDubm2mDvte/5XRzgH11KkBO11Xz2xcwwC568uTtEwbAWTRDmoC1IsCSW86Gar3wv+C9vR0L8kFAScJRp9kvBcBxpwAqLu8dQK40al5Sc+4/JKT/nQNtIMAIHpWqbrYawCkzaRNfbybAlV8bSElkG0CChUmoSuQlQKRA+yZlNSxAyBCAGO07CUBcLNeYlUcVwNvJhNkpMwvAkqvktZrVA0Ci6Q8qdw8pwH283j/KqxDAlUxGzZLHMEBX7FfwuGHgv79IbLdLVhpAwoh7FgO+JMB8sNTsG6UqQAm8VoNnrvo/gJgl/g7hF0DcRKt79hwgQN5npFKSRQDABfrU9XMuKsDwCUk9piswwGp/PW+2wLM/hMgnFtOoGsDzcHbVrg80wH6f9Jvy/Mc/VxG2u40CPkA3Sm4WtZUAwL9/DOgyzS/ADOItpj9KKkC/r0P9hsTRPycyK7LwJQLA6Oz+DcTjMsCsQ3eU4PJIQM2h1yZuWBfA08S2oT6VGkBR54pDj1oqwPIbCzZiaSDAjoNjBJjMC8DML7DIze8kwH/l/BqJrTpAG131xzPhGcAb7xF90+boP9DVOrhE8iRAiafRAGCfFkAT69FjRHAAQPwl8MqwjBBAi98E6SrsFsA1vFNZ7oMfQBxbdSdcnAnAiMEyhi2SEMB0RBC+6sQ8QInnUXrLuDDAhxOe+vAkxj/QquIgLD4sQETjpabN5S3AeE/n9+YqIUAS7dc+ouU9wCfHBEHMGArA3c9K2ZkGEMBHK+3uBCYyQM89ljB7lyPA+QtE8JGMJMBtT/muvIAhQCE9MQsIfClAHSBRB+uoIUD3AlTg7R43wGLNvDnGGgvA9WjT3OigMMBw8g90e1kjQDtFFUo/wCXAZPZ28un+JMBa677gRzgzQCEFcgFpV1FAcfA5leddC8BJeWEFNlcmwPr7l6/QaeK/PN5K+WZsKsDtWcTB5K0jwBPwDoBy+wDA11Eh9tjTGMBg5FZtJzURwBd7VOPIlDDAg1FPboreQUAtplH7O/L6P4hozFMMvhjAVcesU5B2BEDMZjePjzkpwAtS7qtDjCzAvLT2RN8iF8Dyl8QxsOkpQECSAEUUKTpAJwEv/xBHJkArbQAOMQssQCUWdqilwjLAUmfmvHyKDsBzANF0flErwCjj4HJKMRrAIVfLQqip1r8BoSsg92AqQEIqL2AcGi5A34Si/SyPGkCcHUQkdcoOQNbIDlzAvRHAEJlaX0rGKsBGX6mq/u4uwJ+UIkOz4xvALHJqRu1zIMByk9t95zwbwMH3SxNDGiPADyUgfeZlIcB1ie34suERwJCYQKEpJTPA49XBme5/G0B1VNjUK57XvwLK8FpXCiHAXpU0XvRRJ0CmQCxJcjXoP1HMR1T/YA7AfUiwsLUCIsA8pQzG0RsnwNLqfT6EoShARnBlf8KP6T8gvkYDNiYMwAXW/KCymTJA+isImsAZF8CNitoPI+sqwFCeHhkoRyXAMRPUZfGkJUCErQRRNFQJwLiCAKkjqCfA06TqS6BqHkAcHLCNAgYlQKJ4/uB/HwtA5QiL9kmGJ8CM2FmW7GsSQP2nkfh3MjDAmF/VWuQrQMB9cSSTEX4QwO9TxbyeQSVA5+lIuLfU+z/UirfveHAhwMcUYiszPxvAYrJmLymoGcA1NfVupm8KQDiqDSztgSnA/TCdBkfeEMCNQK3EJ44mwDbUvc6L3D1ALu1PRwpkF8CkLDWS8gI+wAkNWyvmJQlA0lUVbtq6LEDJq1F2hMa5vw7712iLWDHAlLGHg8sx9T/HhQCb5Xw4QO8LAkeFJiRArzgjc7jiIsBLVWkpQQ8PwMo6BQnXeBPAqSTzmBmlM8DHXcDbSj/xPzvh2SI0FhLAlzSpUi1YI0BRa3qR2SgVwLBVfyswRwpAtBHLFKj9KcAv7gpkadklwFkn+GX1GDVAj5YvlEIFDEC0WLjv31U4wGTEPuxiRSHAlIh5URzw9j+4SNIHJig5wH8t2SavfhXAvZK/rSMz8r9h7kFOARUewAXA1NRcs94/sGqOdp6nJ0Dx6Rw8igwMwN3IHmD3UhhA2+2gWa28N0BelYVAC2EwwFZy1n1ZxijAjtW5kkgE97/DhYueZNAgwO7GKeP1wzPARXfrii2qFUBujm1YcTETwPs0KDIvGC7AGNIZCD6WE0Bz7HMWKioJQAXkc8cYKwTAksny3kNeGkA1Ub+AfyklQAJCjC4VyyTAyjTyWW6fBECPOiKPhTHcPy4Goi8GmxPAR9AmEFHTK8C45gCxjkgWwNMPFKZopwhAmMhFgoB4NsBjzSrV7agawAXkc8cYKwTAnxK0M0BeI0DOghtW/WPcP6CG74UovBRAuDIDV2pnO0DGiaTXovwTwGCGDVqVAy9AJjSBebNn879E2e6E9U05wGsyrzkLeSPAfRLCnRzyJcANhLospAQ1QJSfJoOk9DDAJeZmUirN9r9sR3kuepUdwLBkpWT1TwrAYdJo1bOd8b88T5WNq2UpQG/UzCb2NgjAWmHPS1CsIEDOiHDpVzohwLtiFB5O4RXAIbqMcPRtE8D84k3gqVEZwAXkc8cYKwTA6Gype9tR7L8P4dbOayo4QO5+G1QiBxHAN15XC7z4NMDIJ6jKhYs4wGeMqp3wBUrAEVw0b2O+FkDiURKvR1fzv/wyGZR9rSvAGi3QfgHqFkBkAVJK3LonwN8vahD1Bh7A6i4SxlLNKUBoR0gpW0IMQJS9AmBiv/m/+DyyK5ERFUAdtVwG8AcQwLhixRomgw7AUcQ7dCq7EkAF5HPHGCsEwODGfOrJ3do/lSDc8WnpFUCARU04qAjOPyhpipJSnjXAFdYcJPBNOkBVnEt4CzpFQCkxolZ6QPg/wEQX99DwPUCR6lX4UX0hwCoSxeTdtSHAQ0c4WzMs6L8EVIydIFsXwJLphBDwzBDAEwlVOVZDJ8DeWE0NtosAwObnE2Iy1h1Ad6rbt+45IcDOTksIN+s0QAX+AiuhTBNAZHv1vT0VAcBEIoaYHR/jPw5kyLauRdu/T0yFNONmKEBD582vEDEzwA0D7Y2aVRfAMbN3L2uyFEDSROfb5hg1wDfQeS0K9DJAnoLgGnMS1L8EcUhK5hD8P7764MwgqTfAI2Xgyt3/OMCrQPb8HKxAQLIkEJcrKChAS6C8WlCZBkCUD0RSH3cvwHWDldeluR3ABkAbYJNRNkCz+/ECKXIcwCWFaIVcSChA/XIeNf0Q/z9SrxOaZ98XQBeJ6pGALxxATS0i1F2nyb9LEPKd9JIDwJ+lXjBArjlA/6igXKVAAkC3sP+ZBGUwQIzlOvj1MDFAg0cBuIqr879vUfBOmxgCwM4ZY9XDtztAzFBcnYBIuL8eEwBr2+oowCK29pq1MzVAtdr5SOM/D8CPK4wYUDAOQCnThblR4g/AxpCoWPKkG8DpYvkxA6UNwHD7wtzNjzDAvHw+xQlkPEDu1q9Iy1ozwJEw7+CrTDFAFrmZ28AGHEAo4+BySjEawEHxDWemiSpAaFVZ4zx6EECjvp5Cu4IXwO4lhk+MqB/ATyY/2KO5FsAF5HPHGCsEwH+7eP/UBS9A/YFq4FHhJMA8gv9XOZYPwBXgWSD2sS9Ae7bsRioeGMD+IpcZmoAJQBXvsRGhojLApo8zBxA8GcBvt1Zd9q8YQNK5cpdlgB1AHfw8LAzx57+v6rHUL5D/v7eMFyraNyfAufSWuzodIUDEVVZ45An+v/QIEwxHZxHA1P2RAlEbGsDMziLm4gMaQOWcFRmSFNQ/AhgTqcppMUCgBI17p44uwI6qVmX9kixAQKea5A+2FUC1Die5ctI8wE0H6e0xxwzAerBnutFOJ8AvwJ3WRMYiwPH5lMfASfe/J6CO6g77FMCB2e9GSZUjwPc+yObBqeK/ufjzZHZ4JkA+i2+JVvsgwG9pIIRIKyxAN2uQWQ9pIEDV5Lii6lQ0QLGgeweIVS9Aw4B07ypFF0CeVbi96ywtQMWKlIa/oAnAuRjjRujfNsBjTZerPCbGP4yDjTqBQxfATRzM/PAwKEAFxakElCYtwABxNyf8cBJAwJKa7MAgBUCovr4R4IsnwPrAoycwRSXAc3FS+45iPECcu5H852ABwPxm7P4f6xFA6LWRy2TuMcAIAu9sk5YUQAZ33wH1GiNAUgNFmUoBKkBTRCpWNe0QwMre5fWXAwHAsyaxSkAJ0r/AzYQda6UbwK971OzlmShAXxO1VCzXLUDded9Dt4MiwELeeGrN+yvAywmGz09dOsB/+YDkKSQDwKddmxX5VCbAjQowxB62MUBwa+vOPRYnQEW9SaiMIPS/XLqbmbzuI8CbBBM/5X0iwJBvpSnHKu6/VKLI31sBEMDZzLwjJ2QxwGDdOvCgjgPAt/dJGx9ZD0CaJEZ1VpUAQMZm6LbZQgBAavDdol5YKUC7rjtx2h3iv075qaBqSvy/fNYdTZTTC0AF5HPHGCsEwL723LYIVRnA3EVYPgKCMcCUtqwCEw7fP95Ux7dt9BbA1MCUFBtUKsCjDd46FNUswMgQiy5Xwh7A4XPYMdG1LkC5zSeBJmwowPhVcxXnzjFAmv23N/f0HcCxRtUh94MSwHviAeahV/6/wVREBqgJ7j8ql2xMoEQTwCchSNDYvSVAJwiOtBUmA8BRiQOSc0ghwO0yEwpBPCfAVaiJgoAOGkDxbDqG6jYhwAOMUwybMStAwwDZvW/sOEDew6oVW7YAwI4nBCLnZTVAskhtr7RYFcAdj+jMBfovQC568uTtEwbAsnotYG4dNMCD1lrZHEsRQM72CqDRoBDAwIV/wuVuE8C6QDrteoEBwBK1+oZ/4RNA5kSq3ix6NcC4nL4lQlfRPyORPPwjw/O/RHj4GxVaIsBAgj4pF8KEPy2b9Kz16TrAMtCLKzZiDkAlzAmwcJICwPsgASxzIhJABqnGurnSKkCjKgg2AQ49wB3QdA12fyTAFi2XaAC7EUAxTrJ0x8YIwG6+8eYHmuu/QG/U4EEhRUCHtgUE6iM9QFoVQNGUQpo/aHGeVqvvGcBVN9fngXk6wKvlbfo64B/Avt3AjYP49T+7aB6vtuQjwAWjAa5PEjhAE2ajiyr7JkCl8xgH+gMiQAbtj9J3rinA2s/hsBRLIMBab6vHGxslQNfHlbykIRrARVqxDQNd/b9LouW+93sjwHA/DaCAPx3A7WeThSFwO0CaPtGSuuYFwP/OjbmDFRHATMhzhBszFcDcjZlaN/IHwEZkcmkKExPAp/ZOCEHGMMBrKVqTowMlwGetYeZKDDTAQuBovoLHAkCPat7v8polwIpkHoWAFTrAHy5dTvXuM8D1u+NALTEfwK2riKhAM8m/xOL3dKfuAUDoWkY2tTknwAXkc8cYKwTAbvcZ5/krBUDSQyiX/x4awEFH6msc4xpAMlkHACsjKED+HroZop8kwNpuQ501FRbAVLqSTTscFkB8DjCwEBE8QDQnn5DMVxPAC+XsYHFlHUD3wMeoBPL3vw4WSK2DiyBAoCkN+j2FGkDHkduDNI8owIvqFF/R6xPAXOw72EROIUCafSLARtXHv/a52lAv0iFADmk74bWBIkBmm95E3BsfQN4/NxSXgwPAC+/jpjd9BEAjfIc66oApwEss3DEYrCnAPEuxeloUFMAqcRagawcLwAJii6Yu8QbAunqZrO/zQ0CcTT946lkowIp8dbsv3xNAlZELTKJ+F8BSK2L/ap8iwO7ELKMdoRrAzVxZpAJiKUDmphKWUTUPwCTTgPDxJyjAcWr/hT4XGsAEBN9XkhsLQOjXRtu4EjPAMaXpusI9EMCY8Mdmobr8P/7p+iNHAR1A4JoAS4VVG8Bo7ynnql8jwKD2q16SnwvABS6wxA5t8L+sYjqUb/40QFG2FbhztzBAedac8raQOEAz85ZMsIwmQFGn5NOejxNA5CHsY5L1NMBObIvnBYQoQIHlE6dqazBA6oojgL6bE0DU/d+hVCXyv3iq6aJhRQZAN4esIaQWFUDIZfm6efb6v4iPLcRP5ApATrCEJXGhIMAYfrAJd/4RwGbSWqcP1zdAxPkXPgXVA0Byq0k2X5oiwMaE7TzFASrA8SoFGUjeJcBRmpM7oJ7vPzs5IxOFOAFArkck7LAcMUAk5iR02socwLv1e94BPCZAU+Yiz0rbOsDuz2gnAZgqwFf8+geCMTNAkW1rr81rNMBXVSuAYowkQNgrowjYPfQ/hdZ+GTU4PMAF5HPHGCsEwIxuBG2heiDAUZZgKebzIMBjH7b/lUchwKBKxW937ylABbTgRqFhGcAHBdjFtbYrQBsDp6jJMPq/QFgja1GdIUB8zSPMbEoIwHYK+m5V3SrAZyEPk+qhAcAyV1LblDILwAfRdQfyPCTAWxZK+0lP/79Wp0dLcSw+QKrC3ZusYAJAMXkwWoYJH0B0rTBFVP8TwDOTeyGz7AfAw5Y2Eim2LEAuv1YQHMwpwJhxKiiFkzNA9saD8KarJ8D2HyPusBcxQKisxs3GajBAlwes+mWSEMDUowy6Xd8owNG6q+AzgyfAZA/UWH23EsBgtqupL4EDQJcFX4X5YCVATyhMH9mk6D9ROmaVLHURwLuaVgQ38STAdIihi0DGFMDb4z1KDWceQPMYK0oPxPi/WwFHz2/bH0CPk81P7RI1QEFbEUt/CiLAhX+UdUfqIkDXKHPCw3YaQBPezOv+9DpAfzmFAMQ7IUBR7VMDCfUYwKBoU42JyRnA8S1uBbPMLMB0TiVmNw4hQGIUKrJY1QdAwlgVZF90EMCavrZSSkYGwMldU+bngidATtfVXYj80b8rOH4iP5/XP/XmBF6FQSPApsMOlnxVFsAmcUBurGo4QNbPXWs5xCnAT+zuIawZLMB9dtGGyyotwLhZ4GYIpCVAi36vkGX+LEBsWMTnz9IEwI3Wx7LegA5AiD52Ckb7KMAJ72465ZsZQIdW+FVDzCDAk+KGBTBz+L9cfRmxJaP/PwawsR6iVhtA8qQK6DcwE8AY4yK6wzcDQM+g3S4lZjfA9/zEMyTg8j9TcTG4g2EQQALfvVrfpiVALQpflNNwOEC+u38QZpwowHNlI5KZxgTAXLjFMg3ZDcCuGx49x6QoQIGbu2R1kxNAGvsrT1o/FMAf6SMjIOkTwOVNFDF+WSRAfPmKN95qMEAqdx1InkQUQPKZ7C9CP/y/jI31dt7FK8DGnQCPgffrv//VC02HmwvAskhtr7RYFcB7mK69WtH1v/wqaxKtWzTACc8yErGqAEDmfXSBBi0jQHwvuFKhMATAZ0SLPczFDcA4JbTDAPogQAkyG8XcHzHAEp5BRMRqMMDOBiRf5ysfwKr4OOlYu8K/9pHFJSvBHUAXMwlBf1EFQAsYniSyMyzAzQvBm8ty+r8F5HPHGCsEwBYBW54oDD/AGKd7dRsCJcCwwtUYdtUwQFFhF5jmFiNAdBFCmRn3G0DrrxkfPR0nQOXcojwXRRbALHueoH0OFUDTGm8b0ww0wFMjmPBWO7m/4CxIY/WGDcA+sFFvZUclwEN+DBpNUBrAKN37qTQANUDQ0fOChsTzvx21DrMtJQ5ANffNivF2IcCDi9yAPOAqwE9LKczhKT5AgWpU1PXFKcCvXTz5pSfpP0vDgtUbugdAj5SyxciHGEAfkQWYufMiQJZGoI4c+yjA8O3ZWnGtGsBdf/uSoZwcwJ97IcaNdhnA1xiilYM+M0B5CBHmnLQiwOQEAvKuujNAod+yUmgG3z+Pm8d4AhMdQHRE0u81jsK/w4WM4vQLFsBNjY3Kg3sowPjQc0sWNwNAEqKaPXmWB8BT8Jjr1SHkv8jIezGFBBzA++giPGhhHkBENLmrM7kLQDwljSq4j0BALNqVBmlbGMB0MLkTtfcYQC78PaMdOhfATWgUBc89IkCNCGlIWCM8wF3twAwn/yJAuY8qy2KU1j/ZolS0qI0eQEPy8EoJcwbAyTITvrrtFsA6BLhwZx0dwGbLIWaMEOW/ddF2GytmAMB+kt2gacIhwHPmATgN0SfAKQ/ptjvhI0CDxz+d/CEywFoR5vADlj7Av9u8U8CaKUApUEO/qRkLQAEzUyELOBXA9OOWuR2pH8ApIuTQVEATwAnDabB0dzLA7GAexJENPEDZ/aTgEq7hvzvGc29YED1AK4mcxDcOKMCPeuqjn60QQEjT6Peb/i7ANwmqjsfkK0BZEISCqm4ZwEGOWeRCzQ1AyFRqKUxbJsDvK6BvbVE1wJneJMLg/CLAoHvDv/9lEsCeWveTkS42QHQMVEGCjSxADy8rrGZxLUCKFhsekZcqwGn+6kIVnTFAmW+KtlgBMsBifly+GJfsv/VaC2y0aBNANVgi8ymq/r+DXTaL+DcgwBm2aeftxSRAl8Vm7FEPLcDm7BnKJ/o1QDHd1ZrjGP6/SxoaTtkvJUDFYCSG6+YCQHN+3/ExADDAS0YSLtudF8B8sDKTsfEZwJkhSdJhMShAAQqn3WCWEcAVg2RMsC8xwA==\",\"dtype\":\"float64\",\"order\":\"little\",\"shape\":[1280]}},\"selected\":{\"id\":\"1047\"},\"selection_policy\":{\"id\":\"1048\"}},\"id\":\"1002\",\"type\":\"ColumnDataSource\"},{\"attributes\":{},\"id\":\"1025\",\"type\":\"HelpTool\"},{\"attributes\":{},\"id\":\"1024\",\"type\":\"ResetTool\"},{\"attributes\":{},\"id\":\"1021\",\"type\":\"WheelZoomTool\"},{\"attributes\":{},\"id\":\"1020\",\"type\":\"PanTool\"},{\"attributes\":{},\"id\":\"1023\",\"type\":\"SaveTool\"},{\"attributes\":{\"overlay\":{\"id\":\"1026\"}},\"id\":\"1022\",\"type\":\"BoxZoomTool\"},{\"attributes\":{},\"id\":\"1008\",\"type\":\"LinearScale\"},{\"attributes\":{},\"id\":\"1006\",\"type\":\"DataRange1d\"},{\"attributes\":{},\"id\":\"1010\",\"type\":\"LinearScale\"},{\"attributes\":{\"bottom_units\":\"screen\",\"fill_alpha\":0.5,\"fill_color\":\"lightgrey\",\"left_units\":\"screen\",\"level\":\"overlay\",\"line_alpha\":1.0,\"line_color\":\"black\",\"line_dash\":[4,4],\"line_width\":2,\"right_units\":\"screen\",\"top_units\":\"screen\"},\"id\":\"1026\",\"type\":\"BoxAnnotation\"},{\"attributes\":{},\"id\":\"1004\",\"type\":\"DataRange1d\"},{\"attributes\":{\"formatter\":{\"id\":\"1046\"},\"ticker\":{\"id\":\"1013\"}},\"id\":\"1012\",\"type\":\"LinearAxis\"},{\"attributes\":{\"source\":{\"id\":\"1002\"}},\"id\":\"1038\",\"type\":\"CDSView\"},{\"attributes\":{},\"id\":\"1013\",\"type\":\"BasicTicker\"}],\"root_ids\":[\"1003\"]},\"title\":\"Bokeh Application\",\"version\":\"2.2.2\"}};\n",
       "  var render_items = [{\"docid\":\"8c623dc0-34fc-4ecd-9ca4-6b14ba267b0f\",\"root_ids\":[\"1003\"],\"roots\":{\"1003\":\"8bc53e3a-074b-4863-988f-e00768ad43dd\"}}];\n",
       "  root.Bokeh.embed.embed_items_notebook(docs_json, render_items);\n",
       "\n",
       "  }\n",
       "  if (root.Bokeh !== undefined) {\n",
       "    embed_document(root);\n",
       "  } else {\n",
       "    var attempts = 0;\n",
       "    var timer = setInterval(function(root) {\n",
       "      if (root.Bokeh !== undefined) {\n",
       "        clearInterval(timer);\n",
       "        embed_document(root);\n",
       "      } else {\n",
       "        attempts++;\n",
       "        if (attempts > 100) {\n",
       "          clearInterval(timer);\n",
       "          console.log(\"Bokeh: ERROR: Unable to run BokehJS code because BokehJS library is missing\");\n",
       "        }\n",
       "      }\n",
       "    }, 10, root)\n",
       "  }\n",
       "})(window);"
      ],
      "application/vnd.bokehjs_exec.v0+json": ""
     },
     "metadata": {
      "application/vnd.bokehjs_exec.v0+json": {
       "id": "1003"
      }
     },
     "output_type": "display_data"
    },
    {
     "data": {
      "text/html": [
       "<div style=\"display: table;\"><div style=\"display: table-row;\"><div style=\"display: table-cell;\"><b title=\"bokeh.plotting.figure.Figure\">Figure</b>(</div><div style=\"display: table-cell;\">id&nbsp;=&nbsp;'1003', <span id=\"1096\" style=\"cursor: pointer;\">&hellip;)</span></div></div><div class=\"1095\" style=\"display: none;\"><div style=\"display: table-cell;\"></div><div style=\"display: table-cell;\">above&nbsp;=&nbsp;[],</div></div><div class=\"1095\" style=\"display: none;\"><div style=\"display: table-cell;\"></div><div style=\"display: table-cell;\">align&nbsp;=&nbsp;'start',</div></div><div class=\"1095\" style=\"display: none;\"><div style=\"display: table-cell;\"></div><div style=\"display: table-cell;\">aspect_ratio&nbsp;=&nbsp;None,</div></div><div class=\"1095\" style=\"display: none;\"><div style=\"display: table-cell;\"></div><div style=\"display: table-cell;\">aspect_scale&nbsp;=&nbsp;1,</div></div><div class=\"1095\" style=\"display: none;\"><div style=\"display: table-cell;\"></div><div style=\"display: table-cell;\">background&nbsp;=&nbsp;None,</div></div><div class=\"1095\" style=\"display: none;\"><div style=\"display: table-cell;\"></div><div style=\"display: table-cell;\">background_fill_alpha&nbsp;=&nbsp;1.0,</div></div><div class=\"1095\" style=\"display: none;\"><div style=\"display: table-cell;\"></div><div style=\"display: table-cell;\">background_fill_color&nbsp;=&nbsp;'#ffffff',</div></div><div class=\"1095\" style=\"display: none;\"><div style=\"display: table-cell;\"></div><div style=\"display: table-cell;\">below&nbsp;=&nbsp;[LinearAxis(id='1012', ...)],</div></div><div class=\"1095\" style=\"display: none;\"><div style=\"display: table-cell;\"></div><div style=\"display: table-cell;\">border_fill_alpha&nbsp;=&nbsp;1.0,</div></div><div class=\"1095\" style=\"display: none;\"><div style=\"display: table-cell;\"></div><div style=\"display: table-cell;\">border_fill_color&nbsp;=&nbsp;'#ffffff',</div></div><div class=\"1095\" style=\"display: none;\"><div style=\"display: table-cell;\"></div><div style=\"display: table-cell;\">center&nbsp;=&nbsp;[Grid(id='1015', ...), Grid(id='1019', ...)],</div></div><div class=\"1095\" style=\"display: none;\"><div style=\"display: table-cell;\"></div><div style=\"display: table-cell;\">css_classes&nbsp;=&nbsp;[],</div></div><div class=\"1095\" style=\"display: none;\"><div style=\"display: table-cell;\"></div><div style=\"display: table-cell;\">disabled&nbsp;=&nbsp;False,</div></div><div class=\"1095\" style=\"display: none;\"><div style=\"display: table-cell;\"></div><div style=\"display: table-cell;\">extra_x_ranges&nbsp;=&nbsp;{},</div></div><div class=\"1095\" style=\"display: none;\"><div style=\"display: table-cell;\"></div><div style=\"display: table-cell;\">extra_y_ranges&nbsp;=&nbsp;{},</div></div><div class=\"1095\" style=\"display: none;\"><div style=\"display: table-cell;\"></div><div style=\"display: table-cell;\">frame_height&nbsp;=&nbsp;None,</div></div><div class=\"1095\" style=\"display: none;\"><div style=\"display: table-cell;\"></div><div style=\"display: table-cell;\">frame_width&nbsp;=&nbsp;None,</div></div><div class=\"1095\" style=\"display: none;\"><div style=\"display: table-cell;\"></div><div style=\"display: table-cell;\">height&nbsp;=&nbsp;None,</div></div><div class=\"1095\" style=\"display: none;\"><div style=\"display: table-cell;\"></div><div style=\"display: table-cell;\">height_policy&nbsp;=&nbsp;'auto',</div></div><div class=\"1095\" style=\"display: none;\"><div style=\"display: table-cell;\"></div><div style=\"display: table-cell;\">hidpi&nbsp;=&nbsp;True,</div></div><div class=\"1095\" style=\"display: none;\"><div style=\"display: table-cell;\"></div><div style=\"display: table-cell;\">js_event_callbacks&nbsp;=&nbsp;{},</div></div><div class=\"1095\" style=\"display: none;\"><div style=\"display: table-cell;\"></div><div style=\"display: table-cell;\">js_property_callbacks&nbsp;=&nbsp;{},</div></div><div class=\"1095\" style=\"display: none;\"><div style=\"display: table-cell;\"></div><div style=\"display: table-cell;\">left&nbsp;=&nbsp;[LinearAxis(id='1016', ...)],</div></div><div class=\"1095\" style=\"display: none;\"><div style=\"display: table-cell;\"></div><div style=\"display: table-cell;\">lod_factor&nbsp;=&nbsp;10,</div></div><div class=\"1095\" style=\"display: none;\"><div style=\"display: table-cell;\"></div><div style=\"display: table-cell;\">lod_interval&nbsp;=&nbsp;300,</div></div><div class=\"1095\" style=\"display: none;\"><div style=\"display: table-cell;\"></div><div style=\"display: table-cell;\">lod_threshold&nbsp;=&nbsp;2000,</div></div><div class=\"1095\" style=\"display: none;\"><div style=\"display: table-cell;\"></div><div style=\"display: table-cell;\">lod_timeout&nbsp;=&nbsp;500,</div></div><div class=\"1095\" style=\"display: none;\"><div style=\"display: table-cell;\"></div><div style=\"display: table-cell;\">margin&nbsp;=&nbsp;(0, 0, 0, 0),</div></div><div class=\"1095\" style=\"display: none;\"><div style=\"display: table-cell;\"></div><div style=\"display: table-cell;\">match_aspect&nbsp;=&nbsp;False,</div></div><div class=\"1095\" style=\"display: none;\"><div style=\"display: table-cell;\"></div><div style=\"display: table-cell;\">max_height&nbsp;=&nbsp;None,</div></div><div class=\"1095\" style=\"display: none;\"><div style=\"display: table-cell;\"></div><div style=\"display: table-cell;\">max_width&nbsp;=&nbsp;None,</div></div><div class=\"1095\" style=\"display: none;\"><div style=\"display: table-cell;\"></div><div style=\"display: table-cell;\">min_border&nbsp;=&nbsp;5,</div></div><div class=\"1095\" style=\"display: none;\"><div style=\"display: table-cell;\"></div><div style=\"display: table-cell;\">min_border_bottom&nbsp;=&nbsp;None,</div></div><div class=\"1095\" style=\"display: none;\"><div style=\"display: table-cell;\"></div><div style=\"display: table-cell;\">min_border_left&nbsp;=&nbsp;None,</div></div><div class=\"1095\" style=\"display: none;\"><div style=\"display: table-cell;\"></div><div style=\"display: table-cell;\">min_border_right&nbsp;=&nbsp;None,</div></div><div class=\"1095\" style=\"display: none;\"><div style=\"display: table-cell;\"></div><div style=\"display: table-cell;\">min_border_top&nbsp;=&nbsp;None,</div></div><div class=\"1095\" style=\"display: none;\"><div style=\"display: table-cell;\"></div><div style=\"display: table-cell;\">min_height&nbsp;=&nbsp;None,</div></div><div class=\"1095\" style=\"display: none;\"><div style=\"display: table-cell;\"></div><div style=\"display: table-cell;\">min_width&nbsp;=&nbsp;None,</div></div><div class=\"1095\" style=\"display: none;\"><div style=\"display: table-cell;\"></div><div style=\"display: table-cell;\">name&nbsp;=&nbsp;None,</div></div><div class=\"1095\" style=\"display: none;\"><div style=\"display: table-cell;\"></div><div style=\"display: table-cell;\">outline_line_alpha&nbsp;=&nbsp;1.0,</div></div><div class=\"1095\" style=\"display: none;\"><div style=\"display: table-cell;\"></div><div style=\"display: table-cell;\">outline_line_cap&nbsp;=&nbsp;'butt',</div></div><div class=\"1095\" style=\"display: none;\"><div style=\"display: table-cell;\"></div><div style=\"display: table-cell;\">outline_line_color&nbsp;=&nbsp;'#e5e5e5',</div></div><div class=\"1095\" style=\"display: none;\"><div style=\"display: table-cell;\"></div><div style=\"display: table-cell;\">outline_line_dash&nbsp;=&nbsp;[],</div></div><div class=\"1095\" style=\"display: none;\"><div style=\"display: table-cell;\"></div><div style=\"display: table-cell;\">outline_line_dash_offset&nbsp;=&nbsp;0,</div></div><div class=\"1095\" style=\"display: none;\"><div style=\"display: table-cell;\"></div><div style=\"display: table-cell;\">outline_line_join&nbsp;=&nbsp;'bevel',</div></div><div class=\"1095\" style=\"display: none;\"><div style=\"display: table-cell;\"></div><div style=\"display: table-cell;\">outline_line_width&nbsp;=&nbsp;1,</div></div><div class=\"1095\" style=\"display: none;\"><div style=\"display: table-cell;\"></div><div style=\"display: table-cell;\">output_backend&nbsp;=&nbsp;'canvas',</div></div><div class=\"1095\" style=\"display: none;\"><div style=\"display: table-cell;\"></div><div style=\"display: table-cell;\">plot_height&nbsp;=&nbsp;400,</div></div><div class=\"1095\" style=\"display: none;\"><div style=\"display: table-cell;\"></div><div style=\"display: table-cell;\">plot_width&nbsp;=&nbsp;600,</div></div><div class=\"1095\" style=\"display: none;\"><div style=\"display: table-cell;\"></div><div style=\"display: table-cell;\">renderers&nbsp;=&nbsp;[GlyphRenderer(id='1037', ...)],</div></div><div class=\"1095\" style=\"display: none;\"><div style=\"display: table-cell;\"></div><div style=\"display: table-cell;\">reset_policy&nbsp;=&nbsp;'standard',</div></div><div class=\"1095\" style=\"display: none;\"><div style=\"display: table-cell;\"></div><div style=\"display: table-cell;\">right&nbsp;=&nbsp;[],</div></div><div class=\"1095\" style=\"display: none;\"><div style=\"display: table-cell;\"></div><div style=\"display: table-cell;\">sizing_mode&nbsp;=&nbsp;None,</div></div><div class=\"1095\" style=\"display: none;\"><div style=\"display: table-cell;\"></div><div style=\"display: table-cell;\">subscribed_events&nbsp;=&nbsp;[],</div></div><div class=\"1095\" style=\"display: none;\"><div style=\"display: table-cell;\"></div><div style=\"display: table-cell;\">tags&nbsp;=&nbsp;[],</div></div><div class=\"1095\" style=\"display: none;\"><div style=\"display: table-cell;\"></div><div style=\"display: table-cell;\">title&nbsp;=&nbsp;Title(id='1042', ...),</div></div><div class=\"1095\" style=\"display: none;\"><div style=\"display: table-cell;\"></div><div style=\"display: table-cell;\">title_location&nbsp;=&nbsp;'above',</div></div><div class=\"1095\" style=\"display: none;\"><div style=\"display: table-cell;\"></div><div style=\"display: table-cell;\">toolbar&nbsp;=&nbsp;Toolbar(id='1027', ...),</div></div><div class=\"1095\" style=\"display: none;\"><div style=\"display: table-cell;\"></div><div style=\"display: table-cell;\">toolbar_location&nbsp;=&nbsp;'right',</div></div><div class=\"1095\" style=\"display: none;\"><div style=\"display: table-cell;\"></div><div style=\"display: table-cell;\">toolbar_sticky&nbsp;=&nbsp;True,</div></div><div class=\"1095\" style=\"display: none;\"><div style=\"display: table-cell;\"></div><div style=\"display: table-cell;\">visible&nbsp;=&nbsp;True,</div></div><div class=\"1095\" style=\"display: none;\"><div style=\"display: table-cell;\"></div><div style=\"display: table-cell;\">width&nbsp;=&nbsp;None,</div></div><div class=\"1095\" style=\"display: none;\"><div style=\"display: table-cell;\"></div><div style=\"display: table-cell;\">width_policy&nbsp;=&nbsp;'auto',</div></div><div class=\"1095\" style=\"display: none;\"><div style=\"display: table-cell;\"></div><div style=\"display: table-cell;\">x_range&nbsp;=&nbsp;DataRange1d(id='1004', ...),</div></div><div class=\"1095\" style=\"display: none;\"><div style=\"display: table-cell;\"></div><div style=\"display: table-cell;\">x_scale&nbsp;=&nbsp;LinearScale(id='1008', ...),</div></div><div class=\"1095\" style=\"display: none;\"><div style=\"display: table-cell;\"></div><div style=\"display: table-cell;\">y_range&nbsp;=&nbsp;DataRange1d(id='1006', ...),</div></div><div class=\"1095\" style=\"display: none;\"><div style=\"display: table-cell;\"></div><div style=\"display: table-cell;\">y_scale&nbsp;=&nbsp;LinearScale(id='1010', ...))</div></div></div>\n",
       "<script>\n",
       "(function() {\n",
       "  var expanded = false;\n",
       "  var ellipsis = document.getElementById(\"1096\");\n",
       "  ellipsis.addEventListener(\"click\", function() {\n",
       "    var rows = document.getElementsByClassName(\"1095\");\n",
       "    for (var i = 0; i < rows.length; i++) {\n",
       "      var el = rows[i];\n",
       "      el.style.display = expanded ? \"none\" : \"table-row\";\n",
       "    }\n",
       "    ellipsis.innerHTML = expanded ? \"&hellip;)\" : \"&lsaquo;&lsaquo;&lsaquo;\";\n",
       "    expanded = !expanded;\n",
       "  });\n",
       "})();\n",
       "</script>\n"
      ],
      "text/plain": [
       "Figure(id='1003', ...)"
      ]
     },
     "execution_count": 30,
     "metadata": {},
     "output_type": "execute_result"
    }
   ],
   "source": [
    "draw_vectors(\n",
    "    examples[\"transformed_features\"][:, 0], \n",
    "    examples[\"transformed_features\"][:, 1], \n",
    "    color=[[\"red\", \"blue\"][t] for t in examples[\"targets\"]]\n",
    "    )"
   ]
  },
  {
   "cell_type": "markdown",
   "metadata": {
    "id": "0fNF6LRQ9MPI"
   },
   "source": [
    "Скорее всего, ты увидел не сильно различающиеся классы. Возможно, обычный линейный классификатор не очень хорошо справится с задачей. Надо будет делать глубокую(хотя бы два слоя) нейронную сеть.\n",
    "\n",
    "Подготовим загрузчики данных.\n",
    "Усреднее векторов будем делать в \"батчевалке\"(`collate_fn`). Она используется для того, чтобы собирать из данных `torch.Tensor` батчи, которые можно отправлять в модель.\n"
   ]
  },
  {
   "cell_type": "code",
   "execution_count": 31,
   "metadata": {
    "id": "y1XapsADtITv"
   },
   "outputs": [],
   "source": [
    "from torch.utils.data import DataLoader\n",
    "\n",
    "batch_size = 1024\n",
    "num_workers = 4\n",
    "\n",
    "def average_emb(batch):\n",
    "    features = [np.mean(b[\"feature\"], axis=0) for b in batch]\n",
    "    targets = [b[\"target\"] for b in batch]\n",
    "\n",
    "    return {\"features\": torch.FloatTensor(features), \"targets\": torch.LongTensor(targets)}\n",
    "\n",
    "\n",
    "train_size = math.ceil(len(dev) * 0.8)\n",
    "\n",
    "train, valid = random_split(dev, [train_size, len(dev) - train_size])\n",
    "\n",
    "train_loader = DataLoader(train, batch_size=batch_size, num_workers=num_workers, shuffle=True, drop_last=True, collate_fn=average_emb)\n",
    "valid_loader = DataLoader(valid, batch_size=batch_size, num_workers=num_workers, shuffle=False, drop_last=False, collate_fn=average_emb)"
   ]
  },
  {
   "cell_type": "markdown",
   "metadata": {
    "id": "p-zs0WEK-Vkt"
   },
   "source": [
    "Для обученния и тестирования нейросетевой модели сделаем отдельные функции."
   ]
  },
  {
   "cell_type": "markdown",
   "metadata": {},
   "source": [
    "# TRAINING LOOP"
   ]
  },
  {
   "cell_type": "code",
   "execution_count": 32,
   "metadata": {
    "id": "U--T2Gjw1r27"
   },
   "outputs": [],
   "source": [
    "from tqdm.notebook import tqdm\n",
    "\n",
    "\n",
    "def training(model, optimizer, criterion, train_loader, epoch, device=\"cpu\"):\n",
    "    pbar = tqdm(train_loader, desc=f\"Epoch {epoch + 1}. Train Loss: {0}\")\n",
    "    model.train()\n",
    "    for batch in pbar:\n",
    "        features = batch[\"features\"].to(device)\n",
    "        targets = batch[\"targets\"].to(device).float()\n",
    "        \n",
    "        optimizer.zero_grad()\n",
    "        outputs = model(features) # Получи предсказания модели\n",
    "        loss = criterion(outputs, targets) # Посчитай лосс\n",
    "        loss.backward()\n",
    "        optimizer.step() # Обнови параметры модели\n",
    "        \n",
    "        pbar.set_description(f\"Epoch {epoch + 1}. Train Loss: {loss:.4}\")\n",
    "    \n",
    "\n",
    "def testing(model, criterion, test_loader, device=\"cpu\"):\n",
    "    pbar = tqdm(test_loader, desc=f\"Test Loss: {0}, Test Acc: {0}\")\n",
    "    mean_loss = 0\n",
    "    mean_acc = 0\n",
    "    model.eval()\n",
    "    with torch.no_grad():\n",
    "        for batch in pbar:\n",
    "            features = batch[\"features\"].to(device)\n",
    "            targets = batch[\"targets\"].to(device).float()\n",
    "\n",
    "            outputs = model(features) # Получи предсказания модели\n",
    "            loss = criterion(outputs, targets) # Посчитай лосс\n",
    "            \n",
    "            acc = ((outputs>0.5).float() == targets.reshape(-1,1)).float().sum()/len(targets) # Посчитай точность модели\n",
    "\n",
    "            mean_loss += loss.item()\n",
    "            mean_acc += acc.item()\n",
    "\n",
    "            pbar.set_description(f\"Test Loss: {loss:.4}, Test Acc: {acc:.4}\")\n",
    "\n",
    "    pbar.set_description(f\"Test Loss: {mean_loss / len(test_loader):.4}, Test Acc: {mean_acc / len(test_loader):.4}\")\n",
    "\n",
    "    return {\"Test Loss\": mean_loss / len(test_loader), \"Test Acc\": mean_acc / len(test_loader)}"
   ]
  },
  {
   "cell_type": "markdown",
   "metadata": {
    "id": "oVg_XBBb-YBH"
   },
   "source": [
    "Создадим модель, оптимизатор и целевую функцию. Можете создавать любую модель, с любым количеством слоев, функций активации и прочее.\n"
   ]
  },
  {
   "cell_type": "markdown",
   "metadata": {},
   "source": [
    "# MODEL"
   ]
  },
  {
   "cell_type": "code",
   "execution_count": 33,
   "metadata": {
    "id": "EBoZ4F3Fx1Hm"
   },
   "outputs": [],
   "source": [
    "import torch.nn as nn\n",
    "from torch.optim import Adam\n",
    "\n",
    "\n",
    "# Не забудь поиграться с параметрами ;)\n",
    "vector_size = dev.word2vec.vector_size\n",
    "num_classes = 2\n",
    "lr = 3e-3\n",
    "num_epochs = 3\n",
    "\n",
    "layers = []\n",
    "layers.append(nn.Linear(vector_size, 250))\n",
    "layers.append(nn.Sigmoid())\n",
    "layers.append(nn.Linear(250, 200))\n",
    "layers.append(nn.Sigmoid())\n",
    "layers.append(nn.Linear(200, 150))\n",
    "layers.append(nn.Sigmoid())\n",
    "layers.append(nn.Linear(150, 100))\n",
    "layers.append(nn.Sigmoid())\n",
    "layers.append(nn.Linear(100, 50))\n",
    "layers.append(nn.Sigmoid())\n",
    "layers.append(nn.Linear(50, num_classes-1))\n",
    "layers.append(nn.Sigmoid())\n",
    "model = nn.Sequential(*layers) # Твоя модель\n",
    "\n",
    "model = model.to(device)\n",
    "criterion = nn.BCELoss() # Твой лосс\n",
    "optimizer = Adam(model.parameters(), lr=lr) # Твой оптимайзер"
   ]
  },
  {
   "cell_type": "markdown",
   "metadata": {
    "id": "-AitU8AR-zBj"
   },
   "source": [
    "Обучим модель и протестируем её.\n",
    "После каждой эпохи, проверим качество модели по валидационной части датасета. Если метрика стала лучше, будем сохранять модель. Подумай, какая метрика (точность или лосс) будет лучше работать в этой задаче? \n",
    "\n",
    "Здесь и далее реализованно с помощью лосс. Если думаешь, что лучше сравнивать модель через качество, то поменяй код выбора модели."
   ]
  },
  {
   "cell_type": "code",
   "execution_count": 34,
   "metadata": {
    "id": "gKhk71Pmx1F1"
   },
   "outputs": [
    {
     "data": {
      "application/vnd.jupyter.widget-view+json": {
       "model_id": "0e3ddb37485542cd95de2b97f6c943be",
       "version_major": 2,
       "version_minor": 0
      },
      "text/plain": [
       "HBox(children=(HTML(value='Epoch 1. Train Loss: 0'), FloatProgress(value=0.0, max=1000.0), HTML(value='')))"
      ]
     },
     "metadata": {},
     "output_type": "display_data"
    },
    {
     "name": "stderr",
     "output_type": "stream",
     "text": [
      "/home/arsen/miniconda3/envs/dlenv/lib/python3.7/site-packages/torch/nn/modules/loss.py:498: UserWarning: Using a target size (torch.Size([1024])) that is different to the input size (torch.Size([1024, 1])) is deprecated. Please ensure they have the same size.\n",
      "  return F.binary_cross_entropy(input, target, weight=self.weight, reduction=self.reduction)\n"
     ]
    },
    {
     "name": "stdout",
     "output_type": "stream",
     "text": [
      "\n"
     ]
    },
    {
     "data": {
      "application/vnd.jupyter.widget-view+json": {
       "model_id": "5daf4d8d0daa427b96d4278d52d5c8cb",
       "version_major": 2,
       "version_minor": 0
      },
      "text/plain": [
       "HBox(children=(HTML(value='Test Loss: 0, Test Acc: 0'), FloatProgress(value=0.0, max=250.0), HTML(value='')))"
      ]
     },
     "metadata": {},
     "output_type": "display_data"
    },
    {
     "name": "stdout",
     "output_type": "stream",
     "text": [
      "\n",
      "{'Test Loss': 0.5204112453460693, 'Test Acc': 0.7368046875}\n"
     ]
    },
    {
     "data": {
      "application/vnd.jupyter.widget-view+json": {
       "model_id": "fbb72903a00f4b2ebeccb4d169c95f37",
       "version_major": 2,
       "version_minor": 0
      },
      "text/plain": [
       "HBox(children=(HTML(value='Epoch 2. Train Loss: 0'), FloatProgress(value=0.0, max=1000.0), HTML(value='')))"
      ]
     },
     "metadata": {},
     "output_type": "display_data"
    },
    {
     "name": "stdout",
     "output_type": "stream",
     "text": [
      "\n"
     ]
    },
    {
     "data": {
      "application/vnd.jupyter.widget-view+json": {
       "model_id": "7c261f91f09e4227aef222238ca4d7a2",
       "version_major": 2,
       "version_minor": 0
      },
      "text/plain": [
       "HBox(children=(HTML(value='Test Loss: 0, Test Acc: 0'), FloatProgress(value=0.0, max=250.0), HTML(value='')))"
      ]
     },
     "metadata": {},
     "output_type": "display_data"
    },
    {
     "name": "stdout",
     "output_type": "stream",
     "text": [
      "\n",
      "{'Test Loss': 0.5033200724124909, 'Test Acc': 0.7512265625}\n"
     ]
    },
    {
     "data": {
      "application/vnd.jupyter.widget-view+json": {
       "model_id": "0aeefbd45cba41c094eefbc23448d9de",
       "version_major": 2,
       "version_minor": 0
      },
      "text/plain": [
       "HBox(children=(HTML(value='Epoch 3. Train Loss: 0'), FloatProgress(value=0.0, max=1000.0), HTML(value='')))"
      ]
     },
     "metadata": {},
     "output_type": "display_data"
    },
    {
     "name": "stdout",
     "output_type": "stream",
     "text": [
      "\n"
     ]
    },
    {
     "data": {
      "application/vnd.jupyter.widget-view+json": {
       "model_id": "9ac8255f2f9b4121890f79bafc97ffac",
       "version_major": 2,
       "version_minor": 0
      },
      "text/plain": [
       "HBox(children=(HTML(value='Test Loss: 0, Test Acc: 0'), FloatProgress(value=0.0, max=250.0), HTML(value='')))"
      ]
     },
     "metadata": {},
     "output_type": "display_data"
    },
    {
     "name": "stdout",
     "output_type": "stream",
     "text": [
      "\n",
      "{'Test Loss': 0.4973659225702286, 'Test Acc': 0.7552109375}\n"
     ]
    }
   ],
   "source": [
    "best_metric = np.inf\n",
    "for e in range(num_epochs):\n",
    "    training(model, optimizer, criterion, train_loader, e, device)\n",
    "    log = testing(model, criterion, valid_loader, device)\n",
    "    print(log)\n",
    "    if log[\"Test Acc\"] < best_metric:\n",
    "        torch.save(model.state_dict(), \"model.pt\")\n",
    "        best_metric = log[\"Test Acc\"]"
   ]
  },
  {
   "cell_type": "code",
   "execution_count": 35,
   "metadata": {
    "id": "di4dGwD4x1Dt"
   },
   "outputs": [
    {
     "name": "stderr",
     "output_type": "stream",
     "text": [
      "/home/arsen/miniconda3/envs/dlenv/lib/python3.7/site-packages/pandas/core/series.py:4569: SettingWithCopyWarning: \n",
      "A value is trying to be set on a copy of a slice from a DataFrame\n",
      "\n",
      "See the caveats in the documentation: https://pandas.pydata.org/pandas-docs/stable/user_guide/indexing.html#returning-a-view-versus-a-copy\n",
      "  method=method,\n"
     ]
    },
    {
     "data": {
      "application/vnd.jupyter.widget-view+json": {
       "model_id": "522911f1339b4cb080419ab03c4ef2f7",
       "version_major": 2,
       "version_minor": 0
      },
      "text/plain": [
       "HBox(children=(HTML(value='Test Loss: 0, Test Acc: 0'), FloatProgress(value=0.0, max=313.0), HTML(value='')))"
      ]
     },
     "metadata": {},
     "output_type": "display_data"
    },
    {
     "name": "stdout",
     "output_type": "stream",
     "text": [
      "\n",
      "{'Test Loss': 0.5216771208059293, 'Test Acc': 0.7361908446485623}\n"
     ]
    },
    {
     "name": "stderr",
     "output_type": "stream",
     "text": [
      "/home/arsen/miniconda3/envs/dlenv/lib/python3.7/site-packages/torch/nn/modules/loss.py:498: UserWarning: Using a target size (torch.Size([512])) that is different to the input size (torch.Size([512, 1])) is deprecated. Please ensure they have the same size.\n",
      "  return F.binary_cross_entropy(input, target, weight=self.weight, reduction=self.reduction)\n"
     ]
    }
   ],
   "source": [
    "test_loader = DataLoader(\n",
    "    TwitterDataset(test_data, \"text\", \"emotion\", word2vec), \n",
    "    batch_size=batch_size, \n",
    "    num_workers=num_workers, \n",
    "    shuffle=False,\n",
    "    drop_last=False, \n",
    "    collate_fn=average_emb)\n",
    "\n",
    "model.load_state_dict(torch.load(\"model.pt\", map_location=device))\n",
    "\n",
    "print(testing(model, criterion, test_loader, device=device))"
   ]
  },
  {
   "cell_type": "markdown",
   "metadata": {
    "id": "TGhiep9Z-Ata"
   },
   "source": [
    "## TF-iDF\n",
    "---\n",
    "\n",
    "Вместо обычного усреднения эмбеддингов их можно дополнительно перевзвесить. Для этого воспользуемся алгоритмом `TD-iDF`. Он уже реализован в библиотеке `scikit-learn`, остается только его добавить в наш пайплайн."
   ]
  },
  {
   "cell_type": "code",
   "execution_count": 36,
   "metadata": {
    "id": "zCPPkqA_-CS9"
   },
   "outputs": [],
   "source": [
    "from collections import defaultdict\n",
    "from typing import Dict\n",
    "\n",
    "from sklearn.feature_extraction.text import TfidfVectorizer\n",
    "\n",
    "\n",
    "class TwitterDatasetTfIdf(TwitterDataset):\n",
    "    def __init__(self, data: pd.DataFrame, feature_column: str, target_column: str, word2vec: gensim.models.Word2Vec, weights: Dict[str, float] = None, remove_links: bool = True):\n",
    "        super().__init__(data, feature_column, target_column, word2vec, remove_links)\n",
    "        \n",
    "    \n",
    "        if weights is None:\n",
    "            self.weights = self.get_tf_idf_()\n",
    "        else:\n",
    "            self.weights = weights\n",
    "\n",
    "    def get_embeddings_(self, tokens):\n",
    "        tokens = [token for token in tokens if token in self.word2vec.vocab]\n",
    "        embeddings = [(self.word2vec.get_vector(token) - self.mean) / self.std  * self.weights.get(token, 1) for token in tokens]\n",
    "\n",
    "        if len(embeddings) == 0:\n",
    "            embeddings = np.zeros((1, self.word2vec.vector_size))\n",
    "        else:\n",
    "            embeddings = np.array(embeddings)\n",
    "            if len(embeddings.shape) == 1:\n",
    "                embeddings = embeddings.reshape(-1, 1)\n",
    "\n",
    "        return embeddings\n",
    "\n",
    "    def get_tf_idf_(self):\n",
    "        # Надо обучить tfidf на очищенном тексте. Но он принимает только список текстов, а не список списка токенов. Надо превратить второе в первое\n",
    "        texts = self.data[self.feature_column]\n",
    "        tokens_list = [self.tokenizer.tokenize(text.lower()) for text in texts]\n",
    "        filtered_tokens_list = [[w for w in tokens if all(c not in string.punctuation for c in w) and len(w) > 3] for tokens in tokens_list]\n",
    "        tokenized_texts = [' '.join(filtered_tokens) for filtered_tokens in filtered_tokens_list]\n",
    "        tf_idf = TfidfVectorizer()\n",
    "        # Обучи tf-idf\n",
    "        tf_idf = tf_idf.fit(tokenized_texts)\n",
    "        return dict(zip(tf_idf.get_feature_names(), tf_idf.idf_))\n"
   ]
  },
  {
   "cell_type": "code",
   "execution_count": 37,
   "metadata": {},
   "outputs": [],
   "source": [
    "dev = TwitterDatasetTfIdf(dev_data, \"text\", \"emotion\", word2vec)"
   ]
  },
  {
   "cell_type": "markdown",
   "metadata": {
    "id": "S4WzviI8_Ofq"
   },
   "source": [
    "Посмотрим на сложность получившейся задачи используя визуализацию через `PCA`."
   ]
  },
  {
   "cell_type": "code",
   "execution_count": 38,
   "metadata": {
    "id": "eP0CgnM9M7wQ",
    "scrolled": true
   },
   "outputs": [
    {
     "name": "stdout",
     "output_type": "stream",
     "text": [
      "1280\n"
     ]
    }
   ],
   "source": [
    "indexes = np.arange(len(dev))\n",
    "#np.random.shuffle(indexes)\n",
    "example_indexes = indexes[::1000]\n",
    "\n",
    "examples = {\"features\": [np.sum(dev[i][\"feature\"], axis=0) for i in example_indexes], \n",
    "            \"targets\": [dev[i][\"target\"] for i in example_indexes]}\n",
    "print(len(examples[\"features\"]))"
   ]
  },
  {
   "cell_type": "code",
   "execution_count": 39,
   "metadata": {
    "id": "E7wDp159TTG5"
   },
   "outputs": [],
   "source": [
    "from sklearn.decomposition import PCA\n",
    "\n",
    "\n",
    "pca = PCA(n_components=2)\n",
    "examples[\"transformed_features\"] = pca.fit_transform(X=examples[\"features\"]) # Ты знаешь, что делать"
   ]
  },
  {
   "cell_type": "code",
   "execution_count": 40,
   "metadata": {
    "id": "sKESl5wLTTFm"
   },
   "outputs": [
    {
     "data": {
      "text/html": [
       "\n",
       "\n",
       "\n",
       "\n",
       "\n",
       "\n",
       "  <div class=\"bk-root\" id=\"b0ff4cad-5c90-4e15-b975-36d64e123a62\" data-root-id=\"1100\"></div>\n"
      ]
     },
     "metadata": {},
     "output_type": "display_data"
    },
    {
     "data": {
      "application/javascript": [
       "(function(root) {\n",
       "  function embed_document(root) {\n",
       "    \n",
       "  var docs_json = {\"b7d836ce-898e-414f-a74b-9b9e5322cab7\":{\"roots\":{\"references\":[{\"attributes\":{\"below\":[{\"id\":\"1109\"}],\"center\":[{\"id\":\"1112\"},{\"id\":\"1116\"}],\"left\":[{\"id\":\"1113\"}],\"plot_height\":400,\"renderers\":[{\"id\":\"1134\"}],\"title\":{\"id\":\"1148\"},\"toolbar\":{\"id\":\"1124\"},\"x_range\":{\"id\":\"1101\"},\"x_scale\":{\"id\":\"1105\"},\"y_range\":{\"id\":\"1103\"},\"y_scale\":{\"id\":\"1107\"}},\"id\":\"1100\",\"subtype\":\"Figure\",\"type\":\"Plot\"},{\"attributes\":{\"active_drag\":\"auto\",\"active_inspect\":\"auto\",\"active_multi\":null,\"active_scroll\":{\"id\":\"1118\"},\"active_tap\":\"auto\",\"tools\":[{\"id\":\"1117\"},{\"id\":\"1118\"},{\"id\":\"1119\"},{\"id\":\"1120\"},{\"id\":\"1121\"},{\"id\":\"1122\"},{\"id\":\"1136\"}]},\"id\":\"1124\",\"type\":\"Toolbar\"},{\"attributes\":{\"fill_alpha\":{\"value\":0.1},\"fill_color\":{\"field\":\"color\"},\"line_alpha\":{\"value\":0.1},\"line_color\":{\"field\":\"color\"},\"size\":{\"units\":\"screen\",\"value\":10},\"x\":{\"field\":\"x\"},\"y\":{\"field\":\"y\"}},\"id\":\"1133\",\"type\":\"Scatter\"},{\"attributes\":{},\"id\":\"1118\",\"type\":\"WheelZoomTool\"},{\"attributes\":{\"data_source\":{\"id\":\"1099\"},\"glyph\":{\"id\":\"1132\"},\"hover_glyph\":null,\"muted_glyph\":null,\"nonselection_glyph\":{\"id\":\"1133\"},\"selection_glyph\":null,\"view\":{\"id\":\"1135\"}},\"id\":\"1134\",\"type\":\"GlyphRenderer\"},{\"attributes\":{\"source\":{\"id\":\"1099\"}},\"id\":\"1135\",\"type\":\"CDSView\"},{\"attributes\":{},\"id\":\"1117\",\"type\":\"PanTool\"},{\"attributes\":{},\"id\":\"1153\",\"type\":\"Selection\"},{\"attributes\":{\"data\":{\"color\":[\"red\",\"blue\",\"red\",\"red\",\"red\",\"blue\",\"blue\",\"red\",\"red\",\"red\",\"blue\",\"red\",\"red\",\"red\",\"blue\",\"red\",\"red\",\"red\",\"blue\",\"blue\",\"red\",\"blue\",\"blue\",\"red\",\"red\",\"blue\",\"red\",\"blue\",\"blue\",\"blue\",\"red\",\"blue\",\"red\",\"blue\",\"blue\",\"blue\",\"blue\",\"blue\",\"blue\",\"blue\",\"red\",\"blue\",\"blue\",\"blue\",\"red\",\"blue\",\"blue\",\"blue\",\"blue\",\"blue\",\"blue\",\"blue\",\"red\",\"blue\",\"blue\",\"blue\",\"blue\",\"red\",\"red\",\"red\",\"blue\",\"blue\",\"blue\",\"blue\",\"blue\",\"blue\",\"red\",\"red\",\"blue\",\"red\",\"red\",\"blue\",\"red\",\"blue\",\"blue\",\"red\",\"blue\",\"red\",\"blue\",\"red\",\"red\",\"red\",\"blue\",\"red\",\"blue\",\"red\",\"blue\",\"red\",\"blue\",\"blue\",\"blue\",\"red\",\"blue\",\"red\",\"blue\",\"blue\",\"red\",\"red\",\"red\",\"red\",\"red\",\"red\",\"blue\",\"blue\",\"red\",\"red\",\"blue\",\"blue\",\"red\",\"blue\",\"red\",\"red\",\"red\",\"red\",\"red\",\"red\",\"red\",\"red\",\"red\",\"blue\",\"red\",\"red\",\"red\",\"blue\",\"blue\",\"blue\",\"blue\",\"red\",\"blue\",\"blue\",\"red\",\"blue\",\"blue\",\"red\",\"blue\",\"red\",\"red\",\"red\",\"blue\",\"red\",\"red\",\"red\",\"blue\",\"red\",\"red\",\"red\",\"blue\",\"red\",\"blue\",\"red\",\"red\",\"blue\",\"blue\",\"red\",\"blue\",\"red\",\"red\",\"blue\",\"blue\",\"red\",\"blue\",\"blue\",\"red\",\"blue\",\"red\",\"red\",\"red\",\"blue\",\"red\",\"red\",\"red\",\"blue\",\"blue\",\"red\",\"blue\",\"blue\",\"blue\",\"red\",\"red\",\"blue\",\"blue\",\"red\",\"blue\",\"red\",\"red\",\"red\",\"blue\",\"red\",\"blue\",\"red\",\"red\",\"blue\",\"blue\",\"red\",\"blue\",\"red\",\"red\",\"blue\",\"red\",\"blue\",\"red\",\"red\",\"red\",\"red\",\"red\",\"red\",\"red\",\"blue\",\"red\",\"red\",\"blue\",\"red\",\"blue\",\"red\",\"blue\",\"blue\",\"blue\",\"red\",\"blue\",\"blue\",\"red\",\"blue\",\"red\",\"blue\",\"red\",\"blue\",\"red\",\"red\",\"red\",\"red\",\"red\",\"red\",\"blue\",\"blue\",\"blue\",\"red\",\"blue\",\"blue\",\"blue\",\"blue\",\"blue\",\"blue\",\"red\",\"blue\",\"red\",\"blue\",\"red\",\"red\",\"blue\",\"red\",\"red\",\"red\",\"blue\",\"blue\",\"red\",\"red\",\"blue\",\"blue\",\"red\",\"red\",\"blue\",\"blue\",\"blue\",\"red\",\"blue\",\"blue\",\"red\",\"blue\",\"blue\",\"blue\",\"blue\",\"red\",\"blue\",\"red\",\"blue\",\"blue\",\"red\",\"blue\",\"blue\",\"blue\",\"blue\",\"blue\",\"red\",\"blue\",\"red\",\"blue\",\"red\",\"red\",\"red\",\"red\",\"blue\",\"blue\",\"red\",\"blue\",\"blue\",\"blue\",\"blue\",\"blue\",\"red\",\"blue\",\"blue\",\"red\",\"blue\",\"red\",\"blue\",\"red\",\"blue\",\"red\",\"blue\",\"red\",\"red\",\"blue\",\"red\",\"blue\",\"red\",\"red\",\"red\",\"blue\",\"blue\",\"blue\",\"blue\",\"red\",\"blue\",\"red\",\"red\",\"red\",\"red\",\"blue\",\"blue\",\"red\",\"red\",\"red\",\"red\",\"red\",\"red\",\"blue\",\"red\",\"red\",\"red\",\"red\",\"red\",\"red\",\"blue\",\"blue\",\"red\",\"red\",\"blue\",\"red\",\"red\",\"blue\",\"blue\",\"blue\",\"blue\",\"red\",\"red\",\"blue\",\"blue\",\"blue\",\"blue\",\"red\",\"blue\",\"blue\",\"blue\",\"blue\",\"blue\",\"blue\",\"blue\",\"blue\",\"blue\",\"blue\",\"blue\",\"red\",\"red\",\"red\",\"red\",\"red\",\"blue\",\"blue\",\"red\",\"red\",\"blue\",\"blue\",\"blue\",\"blue\",\"red\",\"blue\",\"red\",\"blue\",\"blue\",\"blue\",\"blue\",\"red\",\"red\",\"red\",\"red\",\"red\",\"blue\",\"red\",\"red\",\"red\",\"red\",\"blue\",\"blue\",\"blue\",\"red\",\"red\",\"red\",\"red\",\"red\",\"red\",\"blue\",\"blue\",\"red\",\"blue\",\"blue\",\"red\",\"blue\",\"red\",\"blue\",\"red\",\"blue\",\"blue\",\"blue\",\"red\",\"blue\",\"blue\",\"red\",\"blue\",\"red\",\"blue\",\"red\",\"blue\",\"blue\",\"blue\",\"red\",\"red\",\"red\",\"blue\",\"blue\",\"blue\",\"blue\",\"blue\",\"blue\",\"blue\",\"blue\",\"blue\",\"red\",\"red\",\"red\",\"blue\",\"red\",\"red\",\"red\",\"red\",\"blue\",\"blue\",\"red\",\"blue\",\"blue\",\"blue\",\"blue\",\"blue\",\"red\",\"red\",\"blue\",\"blue\",\"blue\",\"blue\",\"red\",\"blue\",\"blue\",\"red\",\"red\",\"blue\",\"blue\",\"blue\",\"blue\",\"blue\",\"blue\",\"red\",\"red\",\"blue\",\"red\",\"red\",\"blue\",\"red\",\"red\",\"red\",\"red\",\"blue\",\"red\",\"red\",\"blue\",\"red\",\"blue\",\"blue\",\"red\",\"red\",\"red\",\"blue\",\"blue\",\"red\",\"red\",\"red\",\"blue\",\"blue\",\"red\",\"blue\",\"red\",\"blue\",\"blue\",\"blue\",\"red\",\"blue\",\"blue\",\"blue\",\"red\",\"red\",\"red\",\"red\",\"blue\",\"red\",\"blue\",\"blue\",\"blue\",\"blue\",\"red\",\"red\",\"red\",\"blue\",\"red\",\"blue\",\"red\",\"red\",\"blue\",\"blue\",\"blue\",\"red\",\"blue\",\"red\",\"red\",\"red\",\"red\",\"red\",\"blue\",\"red\",\"red\",\"blue\",\"blue\",\"blue\",\"red\",\"blue\",\"red\",\"blue\",\"red\",\"blue\",\"red\",\"red\",\"red\",\"red\",\"blue\",\"red\",\"red\",\"red\",\"red\",\"red\",\"blue\",\"blue\",\"red\",\"red\",\"red\",\"blue\",\"red\",\"red\",\"blue\",\"blue\",\"blue\",\"blue\",\"blue\",\"blue\",\"blue\",\"blue\",\"blue\",\"red\",\"red\",\"red\",\"red\",\"blue\",\"blue\",\"red\",\"blue\",\"blue\",\"red\",\"red\",\"red\",\"blue\",\"red\",\"red\",\"blue\",\"red\",\"blue\",\"red\",\"blue\",\"blue\",\"blue\",\"red\",\"red\",\"red\",\"blue\",\"blue\",\"red\",\"blue\",\"red\",\"red\",\"red\",\"blue\",\"blue\",\"red\",\"blue\",\"red\",\"red\",\"red\",\"red\",\"red\",\"red\",\"blue\",\"red\",\"red\",\"red\",\"red\",\"blue\",\"red\",\"blue\",\"blue\",\"red\",\"blue\",\"blue\",\"red\",\"red\",\"red\",\"blue\",\"blue\",\"blue\",\"blue\",\"red\",\"blue\",\"red\",\"blue\",\"red\",\"red\",\"red\",\"blue\",\"red\",\"blue\",\"red\",\"blue\",\"blue\",\"red\",\"blue\",\"red\",\"blue\",\"blue\",\"blue\",\"red\",\"red\",\"blue\",\"red\",\"red\",\"red\",\"blue\",\"blue\",\"blue\",\"blue\",\"blue\",\"blue\",\"blue\",\"blue\",\"blue\",\"red\",\"red\",\"red\",\"red\",\"red\",\"blue\",\"blue\",\"blue\",\"red\",\"blue\",\"blue\",\"red\",\"blue\",\"blue\",\"red\",\"red\",\"blue\",\"red\",\"red\",\"blue\",\"red\",\"red\",\"blue\",\"red\",\"blue\",\"blue\",\"blue\",\"blue\",\"red\",\"blue\",\"red\",\"red\",\"red\",\"blue\",\"blue\",\"blue\",\"blue\",\"blue\",\"blue\",\"red\",\"blue\",\"red\",\"red\",\"blue\",\"red\",\"red\",\"red\",\"blue\",\"red\",\"blue\",\"blue\",\"blue\",\"red\",\"blue\",\"red\",\"red\",\"red\",\"blue\",\"red\",\"red\",\"blue\",\"blue\",\"red\",\"blue\",\"red\",\"blue\",\"red\",\"red\",\"blue\",\"red\",\"blue\",\"blue\",\"red\",\"blue\",\"blue\",\"blue\",\"red\",\"blue\",\"blue\",\"red\",\"red\",\"blue\",\"blue\",\"red\",\"blue\",\"blue\",\"red\",\"red\",\"blue\",\"blue\",\"red\",\"red\",\"red\",\"red\",\"blue\",\"red\",\"blue\",\"blue\",\"blue\",\"blue\",\"red\",\"blue\",\"red\",\"red\",\"blue\",\"blue\",\"blue\",\"red\",\"blue\",\"red\",\"red\",\"blue\",\"red\",\"red\",\"blue\",\"red\",\"blue\",\"red\",\"red\",\"red\",\"blue\",\"blue\",\"red\",\"blue\",\"blue\",\"red\",\"red\",\"blue\",\"red\",\"blue\",\"blue\",\"red\",\"blue\",\"red\",\"blue\",\"red\",\"blue\",\"blue\",\"red\",\"red\",\"blue\",\"blue\",\"red\",\"red\",\"red\",\"red\",\"blue\",\"blue\",\"blue\",\"blue\",\"red\",\"blue\",\"red\",\"red\",\"blue\",\"blue\",\"red\",\"blue\",\"red\",\"red\",\"blue\",\"red\",\"blue\",\"red\",\"blue\",\"red\",\"blue\",\"blue\",\"blue\",\"blue\",\"blue\",\"red\",\"red\",\"blue\",\"blue\",\"blue\",\"blue\",\"red\",\"red\",\"red\",\"red\",\"blue\",\"blue\",\"blue\",\"red\",\"red\",\"red\",\"red\",\"blue\",\"red\",\"blue\",\"blue\",\"red\",\"red\",\"red\",\"red\",\"red\",\"blue\",\"red\",\"blue\",\"blue\",\"red\",\"red\",\"red\",\"blue\",\"blue\",\"blue\",\"red\",\"red\",\"blue\",\"red\",\"red\",\"red\",\"blue\",\"blue\",\"blue\",\"red\",\"red\",\"blue\",\"blue\",\"blue\",\"red\",\"blue\",\"blue\",\"red\",\"red\",\"blue\",\"blue\",\"blue\",\"blue\",\"red\",\"blue\",\"blue\",\"red\",\"blue\",\"blue\",\"red\",\"blue\",\"blue\",\"red\",\"blue\",\"blue\",\"red\",\"red\",\"red\",\"red\",\"blue\",\"red\",\"blue\",\"red\",\"blue\",\"red\",\"red\",\"blue\",\"red\",\"red\",\"red\",\"blue\",\"red\",\"blue\",\"red\",\"blue\",\"blue\",\"red\",\"red\",\"red\",\"red\",\"red\",\"red\",\"red\",\"red\",\"blue\",\"blue\",\"blue\",\"red\",\"red\",\"red\",\"red\",\"red\",\"blue\",\"red\",\"red\",\"blue\",\"red\",\"blue\",\"blue\",\"red\",\"red\",\"red\",\"red\",\"blue\",\"red\",\"blue\",\"red\",\"blue\",\"red\",\"red\",\"red\",\"blue\",\"blue\",\"blue\",\"blue\",\"blue\",\"red\",\"red\",\"red\",\"blue\",\"red\",\"blue\",\"red\",\"red\",\"blue\",\"red\",\"red\",\"blue\",\"blue\",\"blue\",\"red\",\"blue\",\"blue\",\"blue\",\"blue\",\"blue\",\"red\",\"blue\",\"blue\",\"blue\",\"red\",\"blue\",\"red\",\"red\",\"red\",\"blue\",\"blue\",\"blue\",\"blue\",\"red\",\"blue\",\"red\",\"blue\",\"red\",\"blue\",\"blue\",\"red\",\"blue\",\"red\",\"blue\",\"blue\",\"red\",\"red\",\"blue\",\"red\",\"blue\",\"blue\",\"red\",\"red\",\"red\",\"blue\",\"blue\",\"blue\",\"blue\",\"red\",\"red\",\"blue\",\"blue\",\"red\",\"blue\",\"blue\",\"red\",\"red\",\"red\",\"red\",\"blue\",\"red\",\"blue\",\"red\",\"blue\",\"red\",\"red\",\"blue\",\"red\",\"blue\",\"blue\",\"blue\",\"blue\",\"blue\",\"blue\",\"red\",\"red\",\"red\",\"blue\",\"blue\",\"blue\",\"red\",\"blue\",\"blue\",\"red\",\"blue\",\"red\",\"blue\",\"blue\",\"red\",\"red\",\"red\",\"red\",\"red\",\"red\",\"red\",\"blue\",\"blue\",\"red\",\"blue\",\"red\",\"blue\",\"red\",\"red\",\"blue\",\"red\",\"blue\",\"red\",\"red\",\"blue\",\"red\",\"red\",\"blue\",\"blue\",\"blue\",\"blue\",\"red\",\"red\",\"red\",\"blue\",\"blue\",\"blue\",\"red\",\"blue\",\"blue\",\"red\",\"blue\",\"blue\",\"blue\",\"red\",\"red\",\"blue\",\"red\",\"blue\",\"blue\",\"red\",\"blue\",\"red\",\"red\",\"blue\",\"red\",\"blue\",\"blue\",\"red\",\"red\",\"blue\",\"red\",\"blue\",\"blue\",\"red\",\"blue\",\"red\",\"red\",\"blue\",\"blue\",\"red\",\"blue\",\"blue\",\"blue\",\"red\",\"blue\",\"red\",\"blue\",\"red\",\"red\",\"red\",\"blue\",\"blue\",\"blue\",\"blue\",\"red\",\"red\",\"blue\",\"blue\",\"blue\",\"red\",\"red\",\"blue\",\"blue\",\"blue\",\"blue\",\"red\",\"red\",\"red\",\"blue\",\"blue\",\"blue\",\"red\",\"red\",\"blue\",\"blue\",\"red\",\"blue\",\"blue\",\"red\",\"red\",\"blue\",\"red\",\"blue\",\"blue\",\"blue\",\"blue\",\"red\",\"red\",\"red\",\"blue\",\"red\",\"blue\",\"red\",\"red\",\"red\",\"red\",\"red\",\"red\",\"red\",\"red\",\"red\",\"red\",\"red\",\"red\",\"red\",\"blue\",\"red\",\"red\",\"red\",\"blue\",\"red\",\"blue\",\"blue\",\"blue\",\"blue\",\"blue\",\"blue\",\"red\",\"blue\",\"blue\",\"red\",\"blue\",\"blue\",\"blue\",\"blue\",\"red\",\"blue\",\"blue\",\"blue\",\"blue\",\"red\",\"red\",\"red\",\"red\",\"red\",\"blue\",\"blue\",\"red\",\"blue\",\"blue\",\"blue\",\"red\",\"blue\",\"red\",\"blue\",\"blue\",\"red\",\"blue\",\"blue\",\"red\",\"red\",\"blue\",\"red\",\"blue\",\"blue\",\"red\",\"red\",\"red\",\"red\",\"blue\",\"red\",\"blue\",\"blue\",\"red\",\"red\",\"red\",\"blue\",\"blue\",\"red\",\"red\",\"blue\",\"red\",\"blue\",\"blue\"],\"x\":{\"__ndarray__\":\"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\",\"dtype\":\"float64\",\"order\":\"little\",\"shape\":[1280]},\"y\":{\"__ndarray__\":\"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\",\"dtype\":\"float64\",\"order\":\"little\",\"shape\":[1280]}},\"selected\":{\"id\":\"1153\"},\"selection_policy\":{\"id\":\"1154\"}},\"id\":\"1099\",\"type\":\"ColumnDataSource\"},{\"attributes\":{\"text\":\"\"},\"id\":\"1148\",\"type\":\"Title\"},{\"attributes\":{},\"id\":\"1152\",\"type\":\"BasicTickFormatter\"},{\"attributes\":{\"overlay\":{\"id\":\"1123\"}},\"id\":\"1119\",\"type\":\"BoxZoomTool\"},{\"attributes\":{\"fill_alpha\":{\"value\":0.25},\"fill_color\":{\"field\":\"color\"},\"line_alpha\":{\"value\":0.25},\"line_color\":{\"field\":\"color\"},\"size\":{\"units\":\"screen\",\"value\":10},\"x\":{\"field\":\"x\"},\"y\":{\"field\":\"y\"}},\"id\":\"1132\",\"type\":\"Scatter\"},{\"attributes\":{\"bottom_units\":\"screen\",\"fill_alpha\":0.5,\"fill_color\":\"lightgrey\",\"left_units\":\"screen\",\"level\":\"overlay\",\"line_alpha\":1.0,\"line_color\":\"black\",\"line_dash\":[4,4],\"line_width\":2,\"right_units\":\"screen\",\"top_units\":\"screen\"},\"id\":\"1123\",\"type\":\"BoxAnnotation\"},{\"attributes\":{},\"id\":\"1101\",\"type\":\"DataRange1d\"},{\"attributes\":{},\"id\":\"1110\",\"type\":\"BasicTicker\"},{\"attributes\":{},\"id\":\"1120\",\"type\":\"SaveTool\"},{\"attributes\":{},\"id\":\"1105\",\"type\":\"LinearScale\"},{\"attributes\":{\"formatter\":{\"id\":\"1150\"},\"ticker\":{\"id\":\"1114\"}},\"id\":\"1113\",\"type\":\"LinearAxis\"},{\"attributes\":{},\"id\":\"1114\",\"type\":\"BasicTicker\"},{\"attributes\":{},\"id\":\"1154\",\"type\":\"UnionRenderers\"},{\"attributes\":{\"axis\":{\"id\":\"1113\"},\"dimension\":1,\"ticker\":null},\"id\":\"1116\",\"type\":\"Grid\"},{\"attributes\":{},\"id\":\"1121\",\"type\":\"ResetTool\"},{\"attributes\":{\"axis\":{\"id\":\"1109\"},\"ticker\":null},\"id\":\"1112\",\"type\":\"Grid\"},{\"attributes\":{},\"id\":\"1107\",\"type\":\"LinearScale\"},{\"attributes\":{\"formatter\":{\"id\":\"1152\"},\"ticker\":{\"id\":\"1110\"}},\"id\":\"1109\",\"type\":\"LinearAxis\"},{\"attributes\":{\"callback\":null,\"tooltips\":[]},\"id\":\"1136\",\"type\":\"HoverTool\"},{\"attributes\":{},\"id\":\"1122\",\"type\":\"HelpTool\"},{\"attributes\":{},\"id\":\"1150\",\"type\":\"BasicTickFormatter\"},{\"attributes\":{},\"id\":\"1103\",\"type\":\"DataRange1d\"}],\"root_ids\":[\"1100\"]},\"title\":\"Bokeh Application\",\"version\":\"2.2.2\"}};\n",
       "  var render_items = [{\"docid\":\"b7d836ce-898e-414f-a74b-9b9e5322cab7\",\"root_ids\":[\"1100\"],\"roots\":{\"1100\":\"b0ff4cad-5c90-4e15-b975-36d64e123a62\"}}];\n",
       "  root.Bokeh.embed.embed_items_notebook(docs_json, render_items);\n",
       "\n",
       "  }\n",
       "  if (root.Bokeh !== undefined) {\n",
       "    embed_document(root);\n",
       "  } else {\n",
       "    var attempts = 0;\n",
       "    var timer = setInterval(function(root) {\n",
       "      if (root.Bokeh !== undefined) {\n",
       "        clearInterval(timer);\n",
       "        embed_document(root);\n",
       "      } else {\n",
       "        attempts++;\n",
       "        if (attempts > 100) {\n",
       "          clearInterval(timer);\n",
       "          console.log(\"Bokeh: ERROR: Unable to run BokehJS code because BokehJS library is missing\");\n",
       "        }\n",
       "      }\n",
       "    }, 10, root)\n",
       "  }\n",
       "})(window);"
      ],
      "application/vnd.bokehjs_exec.v0+json": ""
     },
     "metadata": {
      "application/vnd.bokehjs_exec.v0+json": {
       "id": "1100"
      }
     },
     "output_type": "display_data"
    },
    {
     "data": {
      "text/html": [
       "<div style=\"display: table;\"><div style=\"display: table-row;\"><div style=\"display: table-cell;\"><b title=\"bokeh.plotting.figure.Figure\">Figure</b>(</div><div style=\"display: table-cell;\">id&nbsp;=&nbsp;'1100', <span id=\"1202\" style=\"cursor: pointer;\">&hellip;)</span></div></div><div class=\"1201\" style=\"display: none;\"><div style=\"display: table-cell;\"></div><div style=\"display: table-cell;\">above&nbsp;=&nbsp;[],</div></div><div class=\"1201\" style=\"display: none;\"><div style=\"display: table-cell;\"></div><div style=\"display: table-cell;\">align&nbsp;=&nbsp;'start',</div></div><div class=\"1201\" style=\"display: none;\"><div style=\"display: table-cell;\"></div><div style=\"display: table-cell;\">aspect_ratio&nbsp;=&nbsp;None,</div></div><div class=\"1201\" style=\"display: none;\"><div style=\"display: table-cell;\"></div><div style=\"display: table-cell;\">aspect_scale&nbsp;=&nbsp;1,</div></div><div class=\"1201\" style=\"display: none;\"><div style=\"display: table-cell;\"></div><div style=\"display: table-cell;\">background&nbsp;=&nbsp;None,</div></div><div class=\"1201\" style=\"display: none;\"><div style=\"display: table-cell;\"></div><div style=\"display: table-cell;\">background_fill_alpha&nbsp;=&nbsp;1.0,</div></div><div class=\"1201\" style=\"display: none;\"><div style=\"display: table-cell;\"></div><div style=\"display: table-cell;\">background_fill_color&nbsp;=&nbsp;'#ffffff',</div></div><div class=\"1201\" style=\"display: none;\"><div style=\"display: table-cell;\"></div><div style=\"display: table-cell;\">below&nbsp;=&nbsp;[LinearAxis(id='1109', ...)],</div></div><div class=\"1201\" style=\"display: none;\"><div style=\"display: table-cell;\"></div><div style=\"display: table-cell;\">border_fill_alpha&nbsp;=&nbsp;1.0,</div></div><div class=\"1201\" style=\"display: none;\"><div style=\"display: table-cell;\"></div><div style=\"display: table-cell;\">border_fill_color&nbsp;=&nbsp;'#ffffff',</div></div><div class=\"1201\" style=\"display: none;\"><div style=\"display: table-cell;\"></div><div style=\"display: table-cell;\">center&nbsp;=&nbsp;[Grid(id='1112', ...), Grid(id='1116', ...)],</div></div><div class=\"1201\" style=\"display: none;\"><div style=\"display: table-cell;\"></div><div style=\"display: table-cell;\">css_classes&nbsp;=&nbsp;[],</div></div><div class=\"1201\" style=\"display: none;\"><div style=\"display: table-cell;\"></div><div style=\"display: table-cell;\">disabled&nbsp;=&nbsp;False,</div></div><div class=\"1201\" style=\"display: none;\"><div style=\"display: table-cell;\"></div><div style=\"display: table-cell;\">extra_x_ranges&nbsp;=&nbsp;{},</div></div><div class=\"1201\" style=\"display: none;\"><div style=\"display: table-cell;\"></div><div style=\"display: table-cell;\">extra_y_ranges&nbsp;=&nbsp;{},</div></div><div class=\"1201\" style=\"display: none;\"><div style=\"display: table-cell;\"></div><div style=\"display: table-cell;\">frame_height&nbsp;=&nbsp;None,</div></div><div class=\"1201\" style=\"display: none;\"><div style=\"display: table-cell;\"></div><div style=\"display: table-cell;\">frame_width&nbsp;=&nbsp;None,</div></div><div class=\"1201\" style=\"display: none;\"><div style=\"display: table-cell;\"></div><div style=\"display: table-cell;\">height&nbsp;=&nbsp;None,</div></div><div class=\"1201\" style=\"display: none;\"><div style=\"display: table-cell;\"></div><div style=\"display: table-cell;\">height_policy&nbsp;=&nbsp;'auto',</div></div><div class=\"1201\" style=\"display: none;\"><div style=\"display: table-cell;\"></div><div style=\"display: table-cell;\">hidpi&nbsp;=&nbsp;True,</div></div><div class=\"1201\" style=\"display: none;\"><div style=\"display: table-cell;\"></div><div style=\"display: table-cell;\">js_event_callbacks&nbsp;=&nbsp;{},</div></div><div class=\"1201\" style=\"display: none;\"><div style=\"display: table-cell;\"></div><div style=\"display: table-cell;\">js_property_callbacks&nbsp;=&nbsp;{},</div></div><div class=\"1201\" style=\"display: none;\"><div style=\"display: table-cell;\"></div><div style=\"display: table-cell;\">left&nbsp;=&nbsp;[LinearAxis(id='1113', ...)],</div></div><div class=\"1201\" style=\"display: none;\"><div style=\"display: table-cell;\"></div><div style=\"display: table-cell;\">lod_factor&nbsp;=&nbsp;10,</div></div><div class=\"1201\" style=\"display: none;\"><div style=\"display: table-cell;\"></div><div style=\"display: table-cell;\">lod_interval&nbsp;=&nbsp;300,</div></div><div class=\"1201\" style=\"display: none;\"><div style=\"display: table-cell;\"></div><div style=\"display: table-cell;\">lod_threshold&nbsp;=&nbsp;2000,</div></div><div class=\"1201\" style=\"display: none;\"><div style=\"display: table-cell;\"></div><div style=\"display: table-cell;\">lod_timeout&nbsp;=&nbsp;500,</div></div><div class=\"1201\" style=\"display: none;\"><div style=\"display: table-cell;\"></div><div style=\"display: table-cell;\">margin&nbsp;=&nbsp;(0, 0, 0, 0),</div></div><div class=\"1201\" style=\"display: none;\"><div style=\"display: table-cell;\"></div><div style=\"display: table-cell;\">match_aspect&nbsp;=&nbsp;False,</div></div><div class=\"1201\" style=\"display: none;\"><div style=\"display: table-cell;\"></div><div style=\"display: table-cell;\">max_height&nbsp;=&nbsp;None,</div></div><div class=\"1201\" style=\"display: none;\"><div style=\"display: table-cell;\"></div><div style=\"display: table-cell;\">max_width&nbsp;=&nbsp;None,</div></div><div class=\"1201\" style=\"display: none;\"><div style=\"display: table-cell;\"></div><div style=\"display: table-cell;\">min_border&nbsp;=&nbsp;5,</div></div><div class=\"1201\" style=\"display: none;\"><div style=\"display: table-cell;\"></div><div style=\"display: table-cell;\">min_border_bottom&nbsp;=&nbsp;None,</div></div><div class=\"1201\" style=\"display: none;\"><div style=\"display: table-cell;\"></div><div style=\"display: table-cell;\">min_border_left&nbsp;=&nbsp;None,</div></div><div class=\"1201\" style=\"display: none;\"><div style=\"display: table-cell;\"></div><div style=\"display: table-cell;\">min_border_right&nbsp;=&nbsp;None,</div></div><div class=\"1201\" style=\"display: none;\"><div style=\"display: table-cell;\"></div><div style=\"display: table-cell;\">min_border_top&nbsp;=&nbsp;None,</div></div><div class=\"1201\" style=\"display: none;\"><div style=\"display: table-cell;\"></div><div style=\"display: table-cell;\">min_height&nbsp;=&nbsp;None,</div></div><div class=\"1201\" style=\"display: none;\"><div style=\"display: table-cell;\"></div><div style=\"display: table-cell;\">min_width&nbsp;=&nbsp;None,</div></div><div class=\"1201\" style=\"display: none;\"><div style=\"display: table-cell;\"></div><div style=\"display: table-cell;\">name&nbsp;=&nbsp;None,</div></div><div class=\"1201\" style=\"display: none;\"><div style=\"display: table-cell;\"></div><div style=\"display: table-cell;\">outline_line_alpha&nbsp;=&nbsp;1.0,</div></div><div class=\"1201\" style=\"display: none;\"><div style=\"display: table-cell;\"></div><div style=\"display: table-cell;\">outline_line_cap&nbsp;=&nbsp;'butt',</div></div><div class=\"1201\" style=\"display: none;\"><div style=\"display: table-cell;\"></div><div style=\"display: table-cell;\">outline_line_color&nbsp;=&nbsp;'#e5e5e5',</div></div><div class=\"1201\" style=\"display: none;\"><div style=\"display: table-cell;\"></div><div style=\"display: table-cell;\">outline_line_dash&nbsp;=&nbsp;[],</div></div><div class=\"1201\" style=\"display: none;\"><div style=\"display: table-cell;\"></div><div style=\"display: table-cell;\">outline_line_dash_offset&nbsp;=&nbsp;0,</div></div><div class=\"1201\" style=\"display: none;\"><div style=\"display: table-cell;\"></div><div style=\"display: table-cell;\">outline_line_join&nbsp;=&nbsp;'bevel',</div></div><div class=\"1201\" style=\"display: none;\"><div style=\"display: table-cell;\"></div><div style=\"display: table-cell;\">outline_line_width&nbsp;=&nbsp;1,</div></div><div class=\"1201\" style=\"display: none;\"><div style=\"display: table-cell;\"></div><div style=\"display: table-cell;\">output_backend&nbsp;=&nbsp;'canvas',</div></div><div class=\"1201\" style=\"display: none;\"><div style=\"display: table-cell;\"></div><div style=\"display: table-cell;\">plot_height&nbsp;=&nbsp;400,</div></div><div class=\"1201\" style=\"display: none;\"><div style=\"display: table-cell;\"></div><div style=\"display: table-cell;\">plot_width&nbsp;=&nbsp;600,</div></div><div class=\"1201\" style=\"display: none;\"><div style=\"display: table-cell;\"></div><div style=\"display: table-cell;\">renderers&nbsp;=&nbsp;[GlyphRenderer(id='1134', ...)],</div></div><div class=\"1201\" style=\"display: none;\"><div style=\"display: table-cell;\"></div><div style=\"display: table-cell;\">reset_policy&nbsp;=&nbsp;'standard',</div></div><div class=\"1201\" style=\"display: none;\"><div style=\"display: table-cell;\"></div><div style=\"display: table-cell;\">right&nbsp;=&nbsp;[],</div></div><div class=\"1201\" style=\"display: none;\"><div style=\"display: table-cell;\"></div><div style=\"display: table-cell;\">sizing_mode&nbsp;=&nbsp;None,</div></div><div class=\"1201\" style=\"display: none;\"><div style=\"display: table-cell;\"></div><div style=\"display: table-cell;\">subscribed_events&nbsp;=&nbsp;[],</div></div><div class=\"1201\" style=\"display: none;\"><div style=\"display: table-cell;\"></div><div style=\"display: table-cell;\">tags&nbsp;=&nbsp;[],</div></div><div class=\"1201\" style=\"display: none;\"><div style=\"display: table-cell;\"></div><div style=\"display: table-cell;\">title&nbsp;=&nbsp;Title(id='1148', ...),</div></div><div class=\"1201\" style=\"display: none;\"><div style=\"display: table-cell;\"></div><div style=\"display: table-cell;\">title_location&nbsp;=&nbsp;'above',</div></div><div class=\"1201\" style=\"display: none;\"><div style=\"display: table-cell;\"></div><div style=\"display: table-cell;\">toolbar&nbsp;=&nbsp;Toolbar(id='1124', ...),</div></div><div class=\"1201\" style=\"display: none;\"><div style=\"display: table-cell;\"></div><div style=\"display: table-cell;\">toolbar_location&nbsp;=&nbsp;'right',</div></div><div class=\"1201\" style=\"display: none;\"><div style=\"display: table-cell;\"></div><div style=\"display: table-cell;\">toolbar_sticky&nbsp;=&nbsp;True,</div></div><div class=\"1201\" style=\"display: none;\"><div style=\"display: table-cell;\"></div><div style=\"display: table-cell;\">visible&nbsp;=&nbsp;True,</div></div><div class=\"1201\" style=\"display: none;\"><div style=\"display: table-cell;\"></div><div style=\"display: table-cell;\">width&nbsp;=&nbsp;None,</div></div><div class=\"1201\" style=\"display: none;\"><div style=\"display: table-cell;\"></div><div style=\"display: table-cell;\">width_policy&nbsp;=&nbsp;'auto',</div></div><div class=\"1201\" style=\"display: none;\"><div style=\"display: table-cell;\"></div><div style=\"display: table-cell;\">x_range&nbsp;=&nbsp;DataRange1d(id='1101', ...),</div></div><div class=\"1201\" style=\"display: none;\"><div style=\"display: table-cell;\"></div><div style=\"display: table-cell;\">x_scale&nbsp;=&nbsp;LinearScale(id='1105', ...),</div></div><div class=\"1201\" style=\"display: none;\"><div style=\"display: table-cell;\"></div><div style=\"display: table-cell;\">y_range&nbsp;=&nbsp;DataRange1d(id='1103', ...),</div></div><div class=\"1201\" style=\"display: none;\"><div style=\"display: table-cell;\"></div><div style=\"display: table-cell;\">y_scale&nbsp;=&nbsp;LinearScale(id='1107', ...))</div></div></div>\n",
       "<script>\n",
       "(function() {\n",
       "  var expanded = false;\n",
       "  var ellipsis = document.getElementById(\"1202\");\n",
       "  ellipsis.addEventListener(\"click\", function() {\n",
       "    var rows = document.getElementsByClassName(\"1201\");\n",
       "    for (var i = 0; i < rows.length; i++) {\n",
       "      var el = rows[i];\n",
       "      el.style.display = expanded ? \"none\" : \"table-row\";\n",
       "    }\n",
       "    ellipsis.innerHTML = expanded ? \"&hellip;)\" : \"&lsaquo;&lsaquo;&lsaquo;\";\n",
       "    expanded = !expanded;\n",
       "  });\n",
       "})();\n",
       "</script>\n"
      ],
      "text/plain": [
       "Figure(id='1100', ...)"
      ]
     },
     "execution_count": 40,
     "metadata": {},
     "output_type": "execute_result"
    }
   ],
   "source": [
    "draw_vectors(\n",
    "    examples[\"transformed_features\"][:, 0], \n",
    "    examples[\"transformed_features\"][:, 1], \n",
    "    color=[[\"red\", \"blue\"][t] for t in examples[\"targets\"]]\n",
    "    )"
   ]
  },
  {
   "cell_type": "markdown",
   "metadata": {
    "id": "RiW3d1mg_Zs7"
   },
   "source": [
    "Создать нейросетку, обучим её на этих данных."
   ]
  },
  {
   "cell_type": "code",
   "execution_count": 41,
   "metadata": {
    "id": "Nl1FSgfnTTC-"
   },
   "outputs": [],
   "source": [
    "train_size = math.ceil(len(dev) * 0.8)\n",
    "\n",
    "train, valid = random_split(dev, [train_size, len(dev) - train_size])\n",
    "\n",
    "train_loader = DataLoader(train, batch_size=batch_size, num_workers=num_workers, shuffle=True, drop_last=True, collate_fn=average_emb)\n",
    "valid_loader = DataLoader(valid, batch_size=batch_size, num_workers=num_workers, shuffle=False, drop_last=False, collate_fn=average_emb)"
   ]
  },
  {
   "cell_type": "markdown",
   "metadata": {},
   "source": [
    "# MODEL"
   ]
  },
  {
   "cell_type": "code",
   "execution_count": 42,
   "metadata": {
    "id": "IpTbK_TETTBY"
   },
   "outputs": [],
   "source": [
    "# Не забудь поиграться с параметрами ;)\n",
    "\n",
    "vector_size = dev.word2vec.vector_size\n",
    "num_classes = 2\n",
    "lr = 3e-3\n",
    "num_epochs = 3\n",
    "\n",
    "layers = []\n",
    "layers.append(nn.Linear(vector_size, 250))\n",
    "layers.append(nn.Sigmoid())\n",
    "layers.append(nn.Linear(250, 200))\n",
    "layers.append(nn.Sigmoid())\n",
    "layers.append(nn.Linear(200, 150))\n",
    "layers.append(nn.Sigmoid())\n",
    "layers.append(nn.Linear(150, 100))\n",
    "layers.append(nn.Sigmoid())\n",
    "layers.append(nn.Linear(100, 50))\n",
    "layers.append(nn.Sigmoid())\n",
    "layers.append(nn.Linear(50, num_classes-1))\n",
    "layers.append(nn.Sigmoid())\n",
    "model = nn.Sequential(*layers) # Твоя модель\n",
    "\n",
    "model = model.to(device)\n",
    "criterion = nn.BCELoss() # Твой лосс\n",
    "optimizer = Adam(model.parameters(), lr=lr) # Твой оптимайзер"
   ]
  },
  {
   "cell_type": "code",
   "execution_count": 43,
   "metadata": {
    "id": "g0kO5Z_MTS_S"
   },
   "outputs": [
    {
     "data": {
      "application/vnd.jupyter.widget-view+json": {
       "model_id": "425436bf1b9844459c9d7a32b32f48e1",
       "version_major": 2,
       "version_minor": 0
      },
      "text/plain": [
       "HBox(children=(HTML(value='Epoch 1. Train Loss: 0'), FloatProgress(value=0.0, max=1000.0), HTML(value='')))"
      ]
     },
     "metadata": {},
     "output_type": "display_data"
    },
    {
     "name": "stderr",
     "output_type": "stream",
     "text": [
      "/home/arsen/miniconda3/envs/dlenv/lib/python3.7/site-packages/torch/nn/modules/loss.py:498: UserWarning: Using a target size (torch.Size([1024])) that is different to the input size (torch.Size([1024, 1])) is deprecated. Please ensure they have the same size.\n",
      "  return F.binary_cross_entropy(input, target, weight=self.weight, reduction=self.reduction)\n"
     ]
    },
    {
     "name": "stdout",
     "output_type": "stream",
     "text": [
      "\n"
     ]
    },
    {
     "data": {
      "application/vnd.jupyter.widget-view+json": {
       "model_id": "71f75298ac8845d190586eb4a8fa6296",
       "version_major": 2,
       "version_minor": 0
      },
      "text/plain": [
       "HBox(children=(HTML(value='Test Loss: 0, Test Acc: 0'), FloatProgress(value=0.0, max=250.0), HTML(value='')))"
      ]
     },
     "metadata": {},
     "output_type": "display_data"
    },
    {
     "name": "stdout",
     "output_type": "stream",
     "text": [
      "\n",
      "{'Test Loss': 0.5239505858421326, 'Test Acc': 0.73609765625}\n",
      "{'Test Loss': 0.4973659225702286, 'Test Acc': 0.7552109375}\n"
     ]
    },
    {
     "data": {
      "application/vnd.jupyter.widget-view+json": {
       "model_id": "304207f426924705abefd3206ef5dc7f",
       "version_major": 2,
       "version_minor": 0
      },
      "text/plain": [
       "HBox(children=(HTML(value='Epoch 2. Train Loss: 0'), FloatProgress(value=0.0, max=1000.0), HTML(value='')))"
      ]
     },
     "metadata": {},
     "output_type": "display_data"
    },
    {
     "name": "stdout",
     "output_type": "stream",
     "text": [
      "\n"
     ]
    },
    {
     "ename": "KeyboardInterrupt",
     "evalue": "",
     "output_type": "error",
     "traceback": [
      "\u001b[0;31m---------------------------------------------------------------------------\u001b[0m",
      "\u001b[0;31mKeyboardInterrupt\u001b[0m                         Traceback (most recent call last)",
      "\u001b[0;32m<ipython-input-43-c9da8063f198>\u001b[0m in \u001b[0;36m<module>\u001b[0;34m\u001b[0m\n\u001b[1;32m      1\u001b[0m \u001b[0mbest_metric\u001b[0m \u001b[0;34m=\u001b[0m \u001b[0mnp\u001b[0m\u001b[0;34m.\u001b[0m\u001b[0minf\u001b[0m\u001b[0;34m\u001b[0m\u001b[0;34m\u001b[0m\u001b[0m\n\u001b[1;32m      2\u001b[0m \u001b[0;32mfor\u001b[0m \u001b[0me\u001b[0m \u001b[0;32min\u001b[0m \u001b[0mrange\u001b[0m\u001b[0;34m(\u001b[0m\u001b[0mnum_epochs\u001b[0m\u001b[0;34m)\u001b[0m\u001b[0;34m:\u001b[0m\u001b[0;34m\u001b[0m\u001b[0;34m\u001b[0m\u001b[0m\n\u001b[0;32m----> 3\u001b[0;31m     \u001b[0mtraining\u001b[0m\u001b[0;34m(\u001b[0m\u001b[0mmodel\u001b[0m\u001b[0;34m,\u001b[0m \u001b[0moptimizer\u001b[0m\u001b[0;34m,\u001b[0m \u001b[0mcriterion\u001b[0m\u001b[0;34m,\u001b[0m \u001b[0mtrain_loader\u001b[0m\u001b[0;34m,\u001b[0m \u001b[0me\u001b[0m\u001b[0;34m,\u001b[0m \u001b[0mdevice\u001b[0m\u001b[0;34m)\u001b[0m\u001b[0;34m\u001b[0m\u001b[0;34m\u001b[0m\u001b[0m\n\u001b[0m\u001b[1;32m      4\u001b[0m     \u001b[0mprint\u001b[0m\u001b[0;34m(\u001b[0m\u001b[0mtesting\u001b[0m\u001b[0;34m(\u001b[0m\u001b[0mmodel\u001b[0m\u001b[0;34m,\u001b[0m \u001b[0mcriterion\u001b[0m\u001b[0;34m,\u001b[0m \u001b[0mvalid_loader\u001b[0m\u001b[0;34m,\u001b[0m \u001b[0mdevice\u001b[0m\u001b[0;34m)\u001b[0m\u001b[0;34m)\u001b[0m\u001b[0;34m\u001b[0m\u001b[0;34m\u001b[0m\u001b[0m\n\u001b[1;32m      5\u001b[0m     \u001b[0mprint\u001b[0m\u001b[0;34m(\u001b[0m\u001b[0mlog\u001b[0m\u001b[0;34m)\u001b[0m\u001b[0;34m\u001b[0m\u001b[0;34m\u001b[0m\u001b[0m\n",
      "\u001b[0;32m<ipython-input-32-8c161757fe8b>\u001b[0m in \u001b[0;36mtraining\u001b[0;34m(model, optimizer, criterion, train_loader, epoch, device)\u001b[0m\n\u001b[1;32m      5\u001b[0m     \u001b[0mpbar\u001b[0m \u001b[0;34m=\u001b[0m \u001b[0mtqdm\u001b[0m\u001b[0;34m(\u001b[0m\u001b[0mtrain_loader\u001b[0m\u001b[0;34m,\u001b[0m \u001b[0mdesc\u001b[0m\u001b[0;34m=\u001b[0m\u001b[0;34mf\"Epoch {epoch + 1}. Train Loss: {0}\"\u001b[0m\u001b[0;34m)\u001b[0m\u001b[0;34m\u001b[0m\u001b[0;34m\u001b[0m\u001b[0m\n\u001b[1;32m      6\u001b[0m     \u001b[0mmodel\u001b[0m\u001b[0;34m.\u001b[0m\u001b[0mtrain\u001b[0m\u001b[0;34m(\u001b[0m\u001b[0;34m)\u001b[0m\u001b[0;34m\u001b[0m\u001b[0;34m\u001b[0m\u001b[0m\n\u001b[0;32m----> 7\u001b[0;31m     \u001b[0;32mfor\u001b[0m \u001b[0mbatch\u001b[0m \u001b[0;32min\u001b[0m \u001b[0mpbar\u001b[0m\u001b[0;34m:\u001b[0m\u001b[0;34m\u001b[0m\u001b[0;34m\u001b[0m\u001b[0m\n\u001b[0m\u001b[1;32m      8\u001b[0m         \u001b[0mfeatures\u001b[0m \u001b[0;34m=\u001b[0m \u001b[0mbatch\u001b[0m\u001b[0;34m[\u001b[0m\u001b[0;34m\"features\"\u001b[0m\u001b[0;34m]\u001b[0m\u001b[0;34m.\u001b[0m\u001b[0mto\u001b[0m\u001b[0;34m(\u001b[0m\u001b[0mdevice\u001b[0m\u001b[0;34m)\u001b[0m\u001b[0;34m\u001b[0m\u001b[0;34m\u001b[0m\u001b[0m\n\u001b[1;32m      9\u001b[0m         \u001b[0mtargets\u001b[0m \u001b[0;34m=\u001b[0m \u001b[0mbatch\u001b[0m\u001b[0;34m[\u001b[0m\u001b[0;34m\"targets\"\u001b[0m\u001b[0;34m]\u001b[0m\u001b[0;34m.\u001b[0m\u001b[0mto\u001b[0m\u001b[0;34m(\u001b[0m\u001b[0mdevice\u001b[0m\u001b[0;34m)\u001b[0m\u001b[0;34m.\u001b[0m\u001b[0mfloat\u001b[0m\u001b[0;34m(\u001b[0m\u001b[0;34m)\u001b[0m\u001b[0;34m\u001b[0m\u001b[0;34m\u001b[0m\u001b[0m\n",
      "\u001b[0;32m~/miniconda3/envs/dlenv/lib/python3.7/site-packages/tqdm/notebook.py\u001b[0m in \u001b[0;36m__iter__\u001b[0;34m(self, *args, **kwargs)\u001b[0m\n\u001b[1;32m    232\u001b[0m     \u001b[0;32mdef\u001b[0m \u001b[0m__iter__\u001b[0m\u001b[0;34m(\u001b[0m\u001b[0mself\u001b[0m\u001b[0;34m,\u001b[0m \u001b[0;34m*\u001b[0m\u001b[0margs\u001b[0m\u001b[0;34m,\u001b[0m \u001b[0;34m**\u001b[0m\u001b[0mkwargs\u001b[0m\u001b[0;34m)\u001b[0m\u001b[0;34m:\u001b[0m\u001b[0;34m\u001b[0m\u001b[0;34m\u001b[0m\u001b[0m\n\u001b[1;32m    233\u001b[0m         \u001b[0;32mtry\u001b[0m\u001b[0;34m:\u001b[0m\u001b[0;34m\u001b[0m\u001b[0;34m\u001b[0m\u001b[0m\n\u001b[0;32m--> 234\u001b[0;31m             \u001b[0;32mfor\u001b[0m \u001b[0mobj\u001b[0m \u001b[0;32min\u001b[0m \u001b[0msuper\u001b[0m\u001b[0;34m(\u001b[0m\u001b[0mtqdm_notebook\u001b[0m\u001b[0;34m,\u001b[0m \u001b[0mself\u001b[0m\u001b[0;34m)\u001b[0m\u001b[0;34m.\u001b[0m\u001b[0m__iter__\u001b[0m\u001b[0;34m(\u001b[0m\u001b[0;34m*\u001b[0m\u001b[0margs\u001b[0m\u001b[0;34m,\u001b[0m \u001b[0;34m**\u001b[0m\u001b[0mkwargs\u001b[0m\u001b[0;34m)\u001b[0m\u001b[0;34m:\u001b[0m\u001b[0;34m\u001b[0m\u001b[0;34m\u001b[0m\u001b[0m\n\u001b[0m\u001b[1;32m    235\u001b[0m                 \u001b[0;31m# return super(tqdm...) will not catch exception\u001b[0m\u001b[0;34m\u001b[0m\u001b[0;34m\u001b[0m\u001b[0;34m\u001b[0m\u001b[0m\n\u001b[1;32m    236\u001b[0m                 \u001b[0;32myield\u001b[0m \u001b[0mobj\u001b[0m\u001b[0;34m\u001b[0m\u001b[0;34m\u001b[0m\u001b[0m\n",
      "\u001b[0;32m~/miniconda3/envs/dlenv/lib/python3.7/site-packages/tqdm/std.py\u001b[0m in \u001b[0;36m__iter__\u001b[0;34m(self)\u001b[0m\n\u001b[1;32m   1163\u001b[0m \u001b[0;34m\u001b[0m\u001b[0m\n\u001b[1;32m   1164\u001b[0m         \u001b[0;32mtry\u001b[0m\u001b[0;34m:\u001b[0m\u001b[0;34m\u001b[0m\u001b[0;34m\u001b[0m\u001b[0m\n\u001b[0;32m-> 1165\u001b[0;31m             \u001b[0;32mfor\u001b[0m \u001b[0mobj\u001b[0m \u001b[0;32min\u001b[0m \u001b[0miterable\u001b[0m\u001b[0;34m:\u001b[0m\u001b[0;34m\u001b[0m\u001b[0;34m\u001b[0m\u001b[0m\n\u001b[0m\u001b[1;32m   1166\u001b[0m                 \u001b[0;32myield\u001b[0m \u001b[0mobj\u001b[0m\u001b[0;34m\u001b[0m\u001b[0;34m\u001b[0m\u001b[0m\n\u001b[1;32m   1167\u001b[0m                 \u001b[0;31m# Update and possibly print the progressbar.\u001b[0m\u001b[0;34m\u001b[0m\u001b[0;34m\u001b[0m\u001b[0;34m\u001b[0m\u001b[0m\n",
      "\u001b[0;32m~/miniconda3/envs/dlenv/lib/python3.7/site-packages/torch/utils/data/dataloader.py\u001b[0m in \u001b[0;36m__next__\u001b[0;34m(self)\u001b[0m\n\u001b[1;32m    802\u001b[0m \u001b[0;34m\u001b[0m\u001b[0m\n\u001b[1;32m    803\u001b[0m             \u001b[0;32massert\u001b[0m \u001b[0;32mnot\u001b[0m \u001b[0mself\u001b[0m\u001b[0;34m.\u001b[0m\u001b[0m_shutdown\u001b[0m \u001b[0;32mand\u001b[0m \u001b[0mself\u001b[0m\u001b[0;34m.\u001b[0m\u001b[0m_tasks_outstanding\u001b[0m \u001b[0;34m>\u001b[0m \u001b[0;36m0\u001b[0m\u001b[0;34m\u001b[0m\u001b[0;34m\u001b[0m\u001b[0m\n\u001b[0;32m--> 804\u001b[0;31m             \u001b[0midx\u001b[0m\u001b[0;34m,\u001b[0m \u001b[0mdata\u001b[0m \u001b[0;34m=\u001b[0m \u001b[0mself\u001b[0m\u001b[0;34m.\u001b[0m\u001b[0m_get_data\u001b[0m\u001b[0;34m(\u001b[0m\u001b[0;34m)\u001b[0m\u001b[0;34m\u001b[0m\u001b[0;34m\u001b[0m\u001b[0m\n\u001b[0m\u001b[1;32m    805\u001b[0m             \u001b[0mself\u001b[0m\u001b[0;34m.\u001b[0m\u001b[0m_tasks_outstanding\u001b[0m \u001b[0;34m-=\u001b[0m \u001b[0;36m1\u001b[0m\u001b[0;34m\u001b[0m\u001b[0;34m\u001b[0m\u001b[0m\n\u001b[1;32m    806\u001b[0m \u001b[0;34m\u001b[0m\u001b[0m\n",
      "\u001b[0;32m~/miniconda3/envs/dlenv/lib/python3.7/site-packages/torch/utils/data/dataloader.py\u001b[0m in \u001b[0;36m_get_data\u001b[0;34m(self)\u001b[0m\n\u001b[1;32m    769\u001b[0m         \u001b[0;32melse\u001b[0m\u001b[0;34m:\u001b[0m\u001b[0;34m\u001b[0m\u001b[0;34m\u001b[0m\u001b[0m\n\u001b[1;32m    770\u001b[0m             \u001b[0;32mwhile\u001b[0m \u001b[0;32mTrue\u001b[0m\u001b[0;34m:\u001b[0m\u001b[0;34m\u001b[0m\u001b[0;34m\u001b[0m\u001b[0m\n\u001b[0;32m--> 771\u001b[0;31m                 \u001b[0msuccess\u001b[0m\u001b[0;34m,\u001b[0m \u001b[0mdata\u001b[0m \u001b[0;34m=\u001b[0m \u001b[0mself\u001b[0m\u001b[0;34m.\u001b[0m\u001b[0m_try_get_data\u001b[0m\u001b[0;34m(\u001b[0m\u001b[0;34m)\u001b[0m\u001b[0;34m\u001b[0m\u001b[0;34m\u001b[0m\u001b[0m\n\u001b[0m\u001b[1;32m    772\u001b[0m                 \u001b[0;32mif\u001b[0m \u001b[0msuccess\u001b[0m\u001b[0;34m:\u001b[0m\u001b[0;34m\u001b[0m\u001b[0;34m\u001b[0m\u001b[0m\n\u001b[1;32m    773\u001b[0m                     \u001b[0;32mreturn\u001b[0m \u001b[0mdata\u001b[0m\u001b[0;34m\u001b[0m\u001b[0;34m\u001b[0m\u001b[0m\n",
      "\u001b[0;32m~/miniconda3/envs/dlenv/lib/python3.7/site-packages/torch/utils/data/dataloader.py\u001b[0m in \u001b[0;36m_try_get_data\u001b[0;34m(self, timeout)\u001b[0m\n\u001b[1;32m    722\u001b[0m         \u001b[0;31m#   (bool: whether successfully get data, any: data if successful else None)\u001b[0m\u001b[0;34m\u001b[0m\u001b[0;34m\u001b[0m\u001b[0;34m\u001b[0m\u001b[0m\n\u001b[1;32m    723\u001b[0m         \u001b[0;32mtry\u001b[0m\u001b[0;34m:\u001b[0m\u001b[0;34m\u001b[0m\u001b[0;34m\u001b[0m\u001b[0m\n\u001b[0;32m--> 724\u001b[0;31m             \u001b[0mdata\u001b[0m \u001b[0;34m=\u001b[0m \u001b[0mself\u001b[0m\u001b[0;34m.\u001b[0m\u001b[0m_data_queue\u001b[0m\u001b[0;34m.\u001b[0m\u001b[0mget\u001b[0m\u001b[0;34m(\u001b[0m\u001b[0mtimeout\u001b[0m\u001b[0;34m=\u001b[0m\u001b[0mtimeout\u001b[0m\u001b[0;34m)\u001b[0m\u001b[0;34m\u001b[0m\u001b[0;34m\u001b[0m\u001b[0m\n\u001b[0m\u001b[1;32m    725\u001b[0m             \u001b[0;32mreturn\u001b[0m \u001b[0;34m(\u001b[0m\u001b[0;32mTrue\u001b[0m\u001b[0;34m,\u001b[0m \u001b[0mdata\u001b[0m\u001b[0;34m)\u001b[0m\u001b[0;34m\u001b[0m\u001b[0;34m\u001b[0m\u001b[0m\n\u001b[1;32m    726\u001b[0m         \u001b[0;32mexcept\u001b[0m \u001b[0mException\u001b[0m \u001b[0;32mas\u001b[0m \u001b[0me\u001b[0m\u001b[0;34m:\u001b[0m\u001b[0;34m\u001b[0m\u001b[0;34m\u001b[0m\u001b[0m\n",
      "\u001b[0;32m~/miniconda3/envs/dlenv/lib/python3.7/multiprocessing/queues.py\u001b[0m in \u001b[0;36mget\u001b[0;34m(self, block, timeout)\u001b[0m\n\u001b[1;32m    111\u001b[0m                 \u001b[0mself\u001b[0m\u001b[0;34m.\u001b[0m\u001b[0m_rlock\u001b[0m\u001b[0;34m.\u001b[0m\u001b[0mrelease\u001b[0m\u001b[0;34m(\u001b[0m\u001b[0;34m)\u001b[0m\u001b[0;34m\u001b[0m\u001b[0;34m\u001b[0m\u001b[0m\n\u001b[1;32m    112\u001b[0m         \u001b[0;31m# unserialize the data after having released the lock\u001b[0m\u001b[0;34m\u001b[0m\u001b[0;34m\u001b[0m\u001b[0;34m\u001b[0m\u001b[0m\n\u001b[0;32m--> 113\u001b[0;31m         \u001b[0;32mreturn\u001b[0m \u001b[0m_ForkingPickler\u001b[0m\u001b[0;34m.\u001b[0m\u001b[0mloads\u001b[0m\u001b[0;34m(\u001b[0m\u001b[0mres\u001b[0m\u001b[0;34m)\u001b[0m\u001b[0;34m\u001b[0m\u001b[0;34m\u001b[0m\u001b[0m\n\u001b[0m\u001b[1;32m    114\u001b[0m \u001b[0;34m\u001b[0m\u001b[0m\n\u001b[1;32m    115\u001b[0m     \u001b[0;32mdef\u001b[0m \u001b[0mqsize\u001b[0m\u001b[0;34m(\u001b[0m\u001b[0mself\u001b[0m\u001b[0;34m)\u001b[0m\u001b[0;34m:\u001b[0m\u001b[0;34m\u001b[0m\u001b[0;34m\u001b[0m\u001b[0m\n",
      "\u001b[0;32m~/miniconda3/envs/dlenv/lib/python3.7/site-packages/torch/multiprocessing/reductions.py\u001b[0m in \u001b[0;36mrebuild_storage_fd\u001b[0;34m(cls, df, size)\u001b[0m\n\u001b[1;32m    292\u001b[0m                     \u001b[0;32mraise\u001b[0m\u001b[0;34m\u001b[0m\u001b[0;34m\u001b[0m\u001b[0m\n\u001b[1;32m    293\u001b[0m     \u001b[0;32melse\u001b[0m\u001b[0;34m:\u001b[0m\u001b[0;34m\u001b[0m\u001b[0;34m\u001b[0m\u001b[0m\n\u001b[0;32m--> 294\u001b[0;31m         \u001b[0mfd\u001b[0m \u001b[0;34m=\u001b[0m \u001b[0mdf\u001b[0m\u001b[0;34m.\u001b[0m\u001b[0mdetach\u001b[0m\u001b[0;34m(\u001b[0m\u001b[0;34m)\u001b[0m\u001b[0;34m\u001b[0m\u001b[0;34m\u001b[0m\u001b[0m\n\u001b[0m\u001b[1;32m    295\u001b[0m     \u001b[0;32mtry\u001b[0m\u001b[0;34m:\u001b[0m\u001b[0;34m\u001b[0m\u001b[0;34m\u001b[0m\u001b[0m\n\u001b[1;32m    296\u001b[0m         \u001b[0mstorage\u001b[0m \u001b[0;34m=\u001b[0m \u001b[0mstorage_from_cache\u001b[0m\u001b[0;34m(\u001b[0m\u001b[0mcls\u001b[0m\u001b[0;34m,\u001b[0m \u001b[0mfd_id\u001b[0m\u001b[0;34m(\u001b[0m\u001b[0mfd\u001b[0m\u001b[0;34m)\u001b[0m\u001b[0;34m)\u001b[0m\u001b[0;34m\u001b[0m\u001b[0;34m\u001b[0m\u001b[0m\n",
      "\u001b[0;32m~/miniconda3/envs/dlenv/lib/python3.7/multiprocessing/resource_sharer.py\u001b[0m in \u001b[0;36mdetach\u001b[0;34m(self)\u001b[0m\n\u001b[1;32m     55\u001b[0m         \u001b[0;32mdef\u001b[0m \u001b[0mdetach\u001b[0m\u001b[0;34m(\u001b[0m\u001b[0mself\u001b[0m\u001b[0;34m)\u001b[0m\u001b[0;34m:\u001b[0m\u001b[0;34m\u001b[0m\u001b[0;34m\u001b[0m\u001b[0m\n\u001b[1;32m     56\u001b[0m             \u001b[0;34m'''Get the fd.  This should only be called once.'''\u001b[0m\u001b[0;34m\u001b[0m\u001b[0;34m\u001b[0m\u001b[0m\n\u001b[0;32m---> 57\u001b[0;31m             \u001b[0;32mwith\u001b[0m \u001b[0m_resource_sharer\u001b[0m\u001b[0;34m.\u001b[0m\u001b[0mget_connection\u001b[0m\u001b[0;34m(\u001b[0m\u001b[0mself\u001b[0m\u001b[0;34m.\u001b[0m\u001b[0m_id\u001b[0m\u001b[0;34m)\u001b[0m \u001b[0;32mas\u001b[0m \u001b[0mconn\u001b[0m\u001b[0;34m:\u001b[0m\u001b[0;34m\u001b[0m\u001b[0;34m\u001b[0m\u001b[0m\n\u001b[0m\u001b[1;32m     58\u001b[0m                 \u001b[0;32mreturn\u001b[0m \u001b[0mreduction\u001b[0m\u001b[0;34m.\u001b[0m\u001b[0mrecv_handle\u001b[0m\u001b[0;34m(\u001b[0m\u001b[0mconn\u001b[0m\u001b[0;34m)\u001b[0m\u001b[0;34m\u001b[0m\u001b[0;34m\u001b[0m\u001b[0m\n\u001b[1;32m     59\u001b[0m \u001b[0;34m\u001b[0m\u001b[0m\n",
      "\u001b[0;32m~/miniconda3/envs/dlenv/lib/python3.7/multiprocessing/resource_sharer.py\u001b[0m in \u001b[0;36mget_connection\u001b[0;34m(ident)\u001b[0m\n\u001b[1;32m     85\u001b[0m         \u001b[0;32mfrom\u001b[0m \u001b[0;34m.\u001b[0m\u001b[0mconnection\u001b[0m \u001b[0;32mimport\u001b[0m \u001b[0mClient\u001b[0m\u001b[0;34m\u001b[0m\u001b[0;34m\u001b[0m\u001b[0m\n\u001b[1;32m     86\u001b[0m         \u001b[0maddress\u001b[0m\u001b[0;34m,\u001b[0m \u001b[0mkey\u001b[0m \u001b[0;34m=\u001b[0m \u001b[0mident\u001b[0m\u001b[0;34m\u001b[0m\u001b[0;34m\u001b[0m\u001b[0m\n\u001b[0;32m---> 87\u001b[0;31m         \u001b[0mc\u001b[0m \u001b[0;34m=\u001b[0m \u001b[0mClient\u001b[0m\u001b[0;34m(\u001b[0m\u001b[0maddress\u001b[0m\u001b[0;34m,\u001b[0m \u001b[0mauthkey\u001b[0m\u001b[0;34m=\u001b[0m\u001b[0mprocess\u001b[0m\u001b[0;34m.\u001b[0m\u001b[0mcurrent_process\u001b[0m\u001b[0;34m(\u001b[0m\u001b[0;34m)\u001b[0m\u001b[0;34m.\u001b[0m\u001b[0mauthkey\u001b[0m\u001b[0;34m)\u001b[0m\u001b[0;34m\u001b[0m\u001b[0;34m\u001b[0m\u001b[0m\n\u001b[0m\u001b[1;32m     88\u001b[0m         \u001b[0mc\u001b[0m\u001b[0;34m.\u001b[0m\u001b[0msend\u001b[0m\u001b[0;34m(\u001b[0m\u001b[0;34m(\u001b[0m\u001b[0mkey\u001b[0m\u001b[0;34m,\u001b[0m \u001b[0mos\u001b[0m\u001b[0;34m.\u001b[0m\u001b[0mgetpid\u001b[0m\u001b[0;34m(\u001b[0m\u001b[0;34m)\u001b[0m\u001b[0;34m)\u001b[0m\u001b[0;34m)\u001b[0m\u001b[0;34m\u001b[0m\u001b[0;34m\u001b[0m\u001b[0m\n\u001b[1;32m     89\u001b[0m         \u001b[0;32mreturn\u001b[0m \u001b[0mc\u001b[0m\u001b[0;34m\u001b[0m\u001b[0;34m\u001b[0m\u001b[0m\n",
      "\u001b[0;32m~/miniconda3/envs/dlenv/lib/python3.7/multiprocessing/connection.py\u001b[0m in \u001b[0;36mClient\u001b[0;34m(address, family, authkey)\u001b[0m\n\u001b[1;32m    496\u001b[0m \u001b[0;34m\u001b[0m\u001b[0m\n\u001b[1;32m    497\u001b[0m     \u001b[0;32mif\u001b[0m \u001b[0mauthkey\u001b[0m \u001b[0;32mis\u001b[0m \u001b[0;32mnot\u001b[0m \u001b[0;32mNone\u001b[0m\u001b[0;34m:\u001b[0m\u001b[0;34m\u001b[0m\u001b[0;34m\u001b[0m\u001b[0m\n\u001b[0;32m--> 498\u001b[0;31m         \u001b[0manswer_challenge\u001b[0m\u001b[0;34m(\u001b[0m\u001b[0mc\u001b[0m\u001b[0;34m,\u001b[0m \u001b[0mauthkey\u001b[0m\u001b[0;34m)\u001b[0m\u001b[0;34m\u001b[0m\u001b[0;34m\u001b[0m\u001b[0m\n\u001b[0m\u001b[1;32m    499\u001b[0m         \u001b[0mdeliver_challenge\u001b[0m\u001b[0;34m(\u001b[0m\u001b[0mc\u001b[0m\u001b[0;34m,\u001b[0m \u001b[0mauthkey\u001b[0m\u001b[0;34m)\u001b[0m\u001b[0;34m\u001b[0m\u001b[0;34m\u001b[0m\u001b[0m\n\u001b[1;32m    500\u001b[0m \u001b[0;34m\u001b[0m\u001b[0m\n",
      "\u001b[0;32m~/miniconda3/envs/dlenv/lib/python3.7/multiprocessing/connection.py\u001b[0m in \u001b[0;36manswer_challenge\u001b[0;34m(connection, authkey)\u001b[0m\n\u001b[1;32m    745\u001b[0m     \u001b[0mdigest\u001b[0m \u001b[0;34m=\u001b[0m \u001b[0mhmac\u001b[0m\u001b[0;34m.\u001b[0m\u001b[0mnew\u001b[0m\u001b[0;34m(\u001b[0m\u001b[0mauthkey\u001b[0m\u001b[0;34m,\u001b[0m \u001b[0mmessage\u001b[0m\u001b[0;34m,\u001b[0m \u001b[0;34m'md5'\u001b[0m\u001b[0;34m)\u001b[0m\u001b[0;34m.\u001b[0m\u001b[0mdigest\u001b[0m\u001b[0;34m(\u001b[0m\u001b[0;34m)\u001b[0m\u001b[0;34m\u001b[0m\u001b[0;34m\u001b[0m\u001b[0m\n\u001b[1;32m    746\u001b[0m     \u001b[0mconnection\u001b[0m\u001b[0;34m.\u001b[0m\u001b[0msend_bytes\u001b[0m\u001b[0;34m(\u001b[0m\u001b[0mdigest\u001b[0m\u001b[0;34m)\u001b[0m\u001b[0;34m\u001b[0m\u001b[0;34m\u001b[0m\u001b[0m\n\u001b[0;32m--> 747\u001b[0;31m     \u001b[0mresponse\u001b[0m \u001b[0;34m=\u001b[0m \u001b[0mconnection\u001b[0m\u001b[0;34m.\u001b[0m\u001b[0mrecv_bytes\u001b[0m\u001b[0;34m(\u001b[0m\u001b[0;36m256\u001b[0m\u001b[0;34m)\u001b[0m        \u001b[0;31m# reject large message\u001b[0m\u001b[0;34m\u001b[0m\u001b[0;34m\u001b[0m\u001b[0m\n\u001b[0m\u001b[1;32m    748\u001b[0m     \u001b[0;32mif\u001b[0m \u001b[0mresponse\u001b[0m \u001b[0;34m!=\u001b[0m \u001b[0mWELCOME\u001b[0m\u001b[0;34m:\u001b[0m\u001b[0;34m\u001b[0m\u001b[0;34m\u001b[0m\u001b[0m\n\u001b[1;32m    749\u001b[0m         \u001b[0;32mraise\u001b[0m \u001b[0mAuthenticationError\u001b[0m\u001b[0;34m(\u001b[0m\u001b[0;34m'digest sent was rejected'\u001b[0m\u001b[0;34m)\u001b[0m\u001b[0;34m\u001b[0m\u001b[0;34m\u001b[0m\u001b[0m\n",
      "\u001b[0;32m~/miniconda3/envs/dlenv/lib/python3.7/multiprocessing/connection.py\u001b[0m in \u001b[0;36mrecv_bytes\u001b[0;34m(self, maxlength)\u001b[0m\n\u001b[1;32m    214\u001b[0m         \u001b[0;32mif\u001b[0m \u001b[0mmaxlength\u001b[0m \u001b[0;32mis\u001b[0m \u001b[0;32mnot\u001b[0m \u001b[0;32mNone\u001b[0m \u001b[0;32mand\u001b[0m \u001b[0mmaxlength\u001b[0m \u001b[0;34m<\u001b[0m \u001b[0;36m0\u001b[0m\u001b[0;34m:\u001b[0m\u001b[0;34m\u001b[0m\u001b[0;34m\u001b[0m\u001b[0m\n\u001b[1;32m    215\u001b[0m             \u001b[0;32mraise\u001b[0m \u001b[0mValueError\u001b[0m\u001b[0;34m(\u001b[0m\u001b[0;34m\"negative maxlength\"\u001b[0m\u001b[0;34m)\u001b[0m\u001b[0;34m\u001b[0m\u001b[0;34m\u001b[0m\u001b[0m\n\u001b[0;32m--> 216\u001b[0;31m         \u001b[0mbuf\u001b[0m \u001b[0;34m=\u001b[0m \u001b[0mself\u001b[0m\u001b[0;34m.\u001b[0m\u001b[0m_recv_bytes\u001b[0m\u001b[0;34m(\u001b[0m\u001b[0mmaxlength\u001b[0m\u001b[0;34m)\u001b[0m\u001b[0;34m\u001b[0m\u001b[0;34m\u001b[0m\u001b[0m\n\u001b[0m\u001b[1;32m    217\u001b[0m         \u001b[0;32mif\u001b[0m \u001b[0mbuf\u001b[0m \u001b[0;32mis\u001b[0m \u001b[0;32mNone\u001b[0m\u001b[0;34m:\u001b[0m\u001b[0;34m\u001b[0m\u001b[0;34m\u001b[0m\u001b[0m\n\u001b[1;32m    218\u001b[0m             \u001b[0mself\u001b[0m\u001b[0;34m.\u001b[0m\u001b[0m_bad_message_length\u001b[0m\u001b[0;34m(\u001b[0m\u001b[0;34m)\u001b[0m\u001b[0;34m\u001b[0m\u001b[0;34m\u001b[0m\u001b[0m\n",
      "\u001b[0;32m~/miniconda3/envs/dlenv/lib/python3.7/multiprocessing/connection.py\u001b[0m in \u001b[0;36m_recv_bytes\u001b[0;34m(self, maxsize)\u001b[0m\n\u001b[1;32m    405\u001b[0m \u001b[0;34m\u001b[0m\u001b[0m\n\u001b[1;32m    406\u001b[0m     \u001b[0;32mdef\u001b[0m \u001b[0m_recv_bytes\u001b[0m\u001b[0;34m(\u001b[0m\u001b[0mself\u001b[0m\u001b[0;34m,\u001b[0m \u001b[0mmaxsize\u001b[0m\u001b[0;34m=\u001b[0m\u001b[0;32mNone\u001b[0m\u001b[0;34m)\u001b[0m\u001b[0;34m:\u001b[0m\u001b[0;34m\u001b[0m\u001b[0;34m\u001b[0m\u001b[0m\n\u001b[0;32m--> 407\u001b[0;31m         \u001b[0mbuf\u001b[0m \u001b[0;34m=\u001b[0m \u001b[0mself\u001b[0m\u001b[0;34m.\u001b[0m\u001b[0m_recv\u001b[0m\u001b[0;34m(\u001b[0m\u001b[0;36m4\u001b[0m\u001b[0;34m)\u001b[0m\u001b[0;34m\u001b[0m\u001b[0;34m\u001b[0m\u001b[0m\n\u001b[0m\u001b[1;32m    408\u001b[0m         \u001b[0msize\u001b[0m\u001b[0;34m,\u001b[0m \u001b[0;34m=\u001b[0m \u001b[0mstruct\u001b[0m\u001b[0;34m.\u001b[0m\u001b[0munpack\u001b[0m\u001b[0;34m(\u001b[0m\u001b[0;34m\"!i\"\u001b[0m\u001b[0;34m,\u001b[0m \u001b[0mbuf\u001b[0m\u001b[0;34m.\u001b[0m\u001b[0mgetvalue\u001b[0m\u001b[0;34m(\u001b[0m\u001b[0;34m)\u001b[0m\u001b[0;34m)\u001b[0m\u001b[0;34m\u001b[0m\u001b[0;34m\u001b[0m\u001b[0m\n\u001b[1;32m    409\u001b[0m         \u001b[0;32mif\u001b[0m \u001b[0mmaxsize\u001b[0m \u001b[0;32mis\u001b[0m \u001b[0;32mnot\u001b[0m \u001b[0;32mNone\u001b[0m \u001b[0;32mand\u001b[0m \u001b[0msize\u001b[0m \u001b[0;34m>\u001b[0m \u001b[0mmaxsize\u001b[0m\u001b[0;34m:\u001b[0m\u001b[0;34m\u001b[0m\u001b[0;34m\u001b[0m\u001b[0m\n",
      "\u001b[0;32m~/miniconda3/envs/dlenv/lib/python3.7/multiprocessing/connection.py\u001b[0m in \u001b[0;36m_recv\u001b[0;34m(self, size, read)\u001b[0m\n\u001b[1;32m    377\u001b[0m         \u001b[0mremaining\u001b[0m \u001b[0;34m=\u001b[0m \u001b[0msize\u001b[0m\u001b[0;34m\u001b[0m\u001b[0;34m\u001b[0m\u001b[0m\n\u001b[1;32m    378\u001b[0m         \u001b[0;32mwhile\u001b[0m \u001b[0mremaining\u001b[0m \u001b[0;34m>\u001b[0m \u001b[0;36m0\u001b[0m\u001b[0;34m:\u001b[0m\u001b[0;34m\u001b[0m\u001b[0;34m\u001b[0m\u001b[0m\n\u001b[0;32m--> 379\u001b[0;31m             \u001b[0mchunk\u001b[0m \u001b[0;34m=\u001b[0m \u001b[0mread\u001b[0m\u001b[0;34m(\u001b[0m\u001b[0mhandle\u001b[0m\u001b[0;34m,\u001b[0m \u001b[0mremaining\u001b[0m\u001b[0;34m)\u001b[0m\u001b[0;34m\u001b[0m\u001b[0;34m\u001b[0m\u001b[0m\n\u001b[0m\u001b[1;32m    380\u001b[0m             \u001b[0mn\u001b[0m \u001b[0;34m=\u001b[0m \u001b[0mlen\u001b[0m\u001b[0;34m(\u001b[0m\u001b[0mchunk\u001b[0m\u001b[0;34m)\u001b[0m\u001b[0;34m\u001b[0m\u001b[0;34m\u001b[0m\u001b[0m\n\u001b[1;32m    381\u001b[0m             \u001b[0;32mif\u001b[0m \u001b[0mn\u001b[0m \u001b[0;34m==\u001b[0m \u001b[0;36m0\u001b[0m\u001b[0;34m:\u001b[0m\u001b[0;34m\u001b[0m\u001b[0;34m\u001b[0m\u001b[0m\n",
      "\u001b[0;31mKeyboardInterrupt\u001b[0m: "
     ]
    }
   ],
   "source": [
    "best_metric = np.inf\n",
    "for e in range(num_epochs):\n",
    "    training(model, optimizer, criterion, train_loader, e, device)\n",
    "    print(testing(model, criterion, valid_loader, device))\n",
    "    print(log)\n",
    "    if log[\"Test Acc\"] < best_metric:\n",
    "        torch.save(model.state_dict(), \"model.pt\")\n",
    "        best_metric = log[\"Test Acc\"]"
   ]
  },
  {
   "cell_type": "code",
   "execution_count": null,
   "metadata": {
    "id": "ekAnIC9XM7th"
   },
   "outputs": [],
   "source": [
    "test_loader = DataLoader(\n",
    "    TwitterDatasetTfIdf(test_data, \"text\", \"emotion\", word2vec, weights=dev.weights) , \n",
    "    batch_size=batch_size, \n",
    "    num_workers=num_workers, \n",
    "    shuffle=False,\n",
    "    drop_last=False, \n",
    "    collate_fn=average_emb)\n",
    "\n",
    "model.load_state_dict(torch.load(\"model.pt\", map_location=device))\n",
    "\n",
    "print(testing(model, criterion, test_loader, device=device))"
   ]
  },
  {
   "cell_type": "markdown",
   "metadata": {
    "id": "07pomK_qAcN4"
   },
   "source": [
    "Есть ли разница в качестве между способами? Получилось ли улучшить качество модели?\n",
    "\n",
    "----\n",
    "нет))))\n",
    "accuracy на уровне 0.76 на трейне, 0.73 на тесте\n",
    "\n",
    "----"
   ]
  },
  {
   "cell_type": "markdown",
   "metadata": {
    "id": "mdBiO_BL_j8z"
   },
   "source": [
    "Сделай небольшое исследование:\n",
    "- Попробуй сделать несколько нейросеток в качестве классификатора\n",
    "- Попробуй другие предобученные эмбеддинги\n",
    "- Попробуй очистить текст от ников (\"@username\"), url-ов и других символов\n",
    "\n",
    "Для реализации последнего тебе могут помочь регулярные выражения (`import re`). Напише ниже отчет, что ты попробовал и что получилось.\n",
    "\n",
    "---\n",
    "\n",
    "1. очистка от ников и ссылок:  \n",
    "эффекта ноль\n",
    "2. другие эмбеддинги:\n",
    "glove-twitter-25: train acc 0.68\n",
    "glove-twitter-200: не загрузился\n",
    "3. разные нейросетки:\n",
    "3 сетки, fc слои [250,200,150,50], [300,300,300,300], [50,50,50,50], дальше четырех слоев переобучение\n",
    "---"
   ]
  },
  {
   "cell_type": "code",
   "execution_count": null,
   "metadata": {},
   "outputs": [],
   "source": []
  }
 ],
 "metadata": {
  "accelerator": "GPU",
  "colab": {
   "name": "homework_embeddings",
   "private_outputs": true,
   "provenance": []
  },
  "kernelspec": {
   "display_name": "Python 3",
   "language": "python",
   "name": "python3"
  },
  "language_info": {
   "codemirror_mode": {
    "name": "ipython",
    "version": 3
   },
   "file_extension": ".py",
   "mimetype": "text/x-python",
   "name": "python",
   "nbconvert_exporter": "python",
   "pygments_lexer": "ipython3",
   "version": "3.7.8"
  }
 },
 "nbformat": 4,
 "nbformat_minor": 4
}
